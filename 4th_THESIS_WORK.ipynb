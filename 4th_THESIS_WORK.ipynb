{
  "nbformat": 4,
  "nbformat_minor": 0,
  "metadata": {
    "colab": {
      "provenance": [],
      "collapsed_sections": [
        "rAlCzWDcMOxZ",
        "AJi0aun0LuQJ",
        "cKQydbbH4vZR",
        "tZEfRGpiPokr",
        "VqVTgvhXtC8w",
        "lMNXDmnxzL0f",
        "3QTdEQzrJkW4",
        "9pmrEh8s0d0o",
        "-AjysI3CR_V1",
        "ObVT1K7UQ-ue",
        "TkG_Fizj3zHw",
        "lebngo6I74Fq"
      ]
    },
    "kernelspec": {
      "name": "python3",
      "display_name": "Python 3"
    },
    "language_info": {
      "name": "python"
    }
  },
  "cells": [
    {
      "cell_type": "markdown",
      "source": [
        "# ***Feature Selection vs Dimension Reduction***"
      ],
      "metadata": {
        "id": "rAlCzWDcMOxZ"
      }
    },
    {
      "cell_type": "markdown",
      "source": [
        "Dimension reduction is needed in feature engineering to:\n",
        "\n",
        "1. **Simplify Data:** High-dimensional data can be challenging to work with and visualize. Reducing dimensions makes data more manageable.\n",
        "\n",
        "2. **Remove Redundancy:** Many dimensions might be correlated or contain similar information. Dimension reduction helps retain essential information while eliminating redundancy.\n",
        "\n",
        "3. **Noise Reduction:** Some dimensions might contain noise or irrelevant information. Reducing dimensions can filter out noise.\n",
        "\n",
        "4. **Speed Up Algorithms:** High dimensionality can slow down machine learning algorithms. Dimension reduction can lead to faster model training and inference.\n",
        "\n",
        "5. **Improved Generalization:** Reducing dimensionality can lead to models that generalize better on new, unseen data.\n",
        "\n",
        "6. **Visualization:** Dimension reduction techniques can help visualize data in 2D or 3D, aiding in better data understanding and pattern recognition."
      ],
      "metadata": {
        "id": "PkpPJ1xkLos2"
      }
    },
    {
      "cell_type": "markdown",
      "source": [
        "Here's a tabular representation highlighting the key differences between feature selection and dimension reduction:\n",
        "\n",
        "| Aspect                            | Feature Selection        | Dimension Reduction         |\n",
        "|-----------------------------------|--------------------------|-----------------------------|\n",
        "| Objective                         | Select a subset of the most relevant features from the original set. | Transform the original features into a lower-dimensional space. |\n",
        "| Retention of Features             | Retains the original features but selects a subset of them. | Reduces the number of features and often creates new synthetic features. |\n",
        "| Techniques                        | Filter methods, wrapper methods, embedded methods, such as correlation analysis, recursive feature elimination, L1 regularization, etc. | Techniques like PCA, t-SNE, LDA, which create new synthetic features based on the original ones. |\n",
        "| Interpretability                  | Maintains the interpretability of the selected features. | Can lead to a loss of interpretability, as the original features are transformed into a new space. |\n",
        "| Computational Efficiency          | Generally computationally less demanding, especially for datasets with many features. | Can be computationally intensive, particularly for large datasets. |\n",
        "| Use Cases                         | Suitable for situations where understanding and interpreting features are crucial. | Suitable when creating a more compact representation of data is the primary goal. |\n",
        "| Visualization                     | Typically does not change the dimensionality of the data, making it suitable for visualizations. | Often used for data visualization by reducing data to 2D or 3D space. |\n",
        "| Data Transformation               | Does not transform the data; it works with the original feature set. | Transforms the data into a lower-dimensional space with new features. |\n",
        "\n",
        "Both feature selection and dimension reduction are valuable techniques, and the choice between them depends on the specific problem, data characteristics, and your objectives in a machine learning project."
      ],
      "metadata": {
        "id": "yjxBQnBQL_7U"
      }
    },
    {
      "cell_type": "markdown",
      "source": [
        "\n",
        "**Choosing Between Feature Selection and Dimension Reduction:**\n",
        "\n",
        "The choice between feature selection and dimension reduction depends on the specific problem, dataset, and goals:\n",
        "\n",
        "- Use **feature selection** when you want to maintain the interpretability of features, reduce computational complexity, and your dataset contains many features, some of which are irrelevant.\n",
        "\n",
        "- Use **dimension reduction** when you are more concerned with creating a compact representation of the data, are willing to accept a loss of interpretability, or want to visualize the data in a lower-dimensional space.\n",
        "\n",
        "In practice, a combination of both techniques can also be applied to optimize feature engineering for a given machine learning problem."
      ],
      "metadata": {
        "id": "vgoG7HSIMH3q"
      }
    },
    {
      "cell_type": "markdown",
      "source": [
        "# ***DATASET***"
      ],
      "metadata": {
        "id": "AJi0aun0LuQJ"
      }
    },
    {
      "cell_type": "code",
      "execution_count": null,
      "metadata": {
        "id": "XAjFig4ENm9Y"
      },
      "outputs": [],
      "source": [
        "import numpy as np\n",
        "import matplotlib.pyplot as plt\n",
        "import pandas as pd\n",
        "%matplotlib inline"
      ]
    },
    {
      "cell_type": "code",
      "source": [
        "import seaborn as sns\n",
        "from sklearn.discriminant_analysis import LinearDiscriminantAnalysis as LDA\n",
        "from sklearn.decomposition import PCA\n",
        "import scipy.stats as stats\n",
        "from sklearn.preprocessing import StandardScaler\n",
        "import matplotlib.pyplot as plt\n",
        "from sklearn.linear_model import LogisticRegression\n",
        "from sklearn.model_selection import cross_val_score\n",
        "from sklearn import preprocessing\n",
        "from sklearn import feature_selection\n",
        "from sklearn.feature_selection import SelectKBest, chi2\n",
        "from sklearn.ensemble import RandomForestClassifier\n",
        "from sklearn.feature_selection import RFE\n",
        "from sklearn.model_selection import train_test_split\n",
        "from sklearn.preprocessing import MinMaxScaler\n",
        "from sklearn.ensemble import ExtraTreesClassifier\n",
        "from sklearn.feature_selection import SelectFromModel\n",
        "import seaborn as sns\n",
        "from sklearn.metrics import accuracy_score, roc_auc_score\n",
        "from sklearn.feature_selection import VarianceThreshold\n",
        "from sklearn.decomposition import KernelPCA\n",
        "from sklearn.manifold import TSNE\n",
        "from sklearn.decomposition import FastICA\n",
        "from sklearn.feature_selection import SelectKBest, mutual_info_classif\n",
        "from sklearn.discriminant_analysis import LinearDiscriminantAnalysis"
      ],
      "metadata": {
        "id": "mDn4Y5C3Oest"
      },
      "execution_count": null,
      "outputs": []
    },
    {
      "cell_type": "code",
      "source": [
        "from google.colab import drive\n",
        "drive.mount('/content/drive')"
      ],
      "metadata": {
        "colab": {
          "base_uri": "https://localhost:8080/"
        },
        "id": "25P086cYNt4C",
        "outputId": "cbdee451-f715-4309-b947-9addce4b4bb9"
      },
      "execution_count": null,
      "outputs": [
        {
          "output_type": "stream",
          "name": "stdout",
          "text": [
            "Mounted at /content/drive\n"
          ]
        }
      ]
    },
    {
      "cell_type": "code",
      "source": [
        "dataset = pd.read_csv('/content/drive/MyDrive/AI_Project/heart.csv')"
      ],
      "metadata": {
        "id": "UaC2uNl3Nx3X"
      },
      "execution_count": null,
      "outputs": []
    },
    {
      "cell_type": "code",
      "source": [
        "dataset"
      ],
      "metadata": {
        "colab": {
          "base_uri": "https://localhost:8080/"
        },
        "id": "TLNXrOusN7pf",
        "outputId": "842bfd96-3546-4ee3-a356-676a9fd87968"
      },
      "execution_count": null,
      "outputs": [
        {
          "output_type": "execute_result",
          "data": {
            "text/plain": [
              "      ID  Age Sex ChestPainType  RestingBP  Cholesterol  FastingBS RestingECG  \\\n",
              "0      1   40   M           ATA        140          289          0     Normal   \n",
              "1      2   49   F           NAP        160          180          0     Normal   \n",
              "2      3   37   M           ATA        130          283          0         ST   \n",
              "3      4   48   F           ASY        138          214          0     Normal   \n",
              "4      5   54   M           NAP        150          195          0     Normal   \n",
              "..   ...  ...  ..           ...        ...          ...        ...        ...   \n",
              "913  914   45   M            TA        110          264          0     Normal   \n",
              "914  915   68   M           ASY        144          193          1     Normal   \n",
              "915  916   57   M           ASY        130          131          0     Normal   \n",
              "916  917   57   F           ATA        130          236          0        LVH   \n",
              "917  918   38   M           NAP        138          175          0     Normal   \n",
              "\n",
              "     MaxHR ExerciseAngina  Oldpeak ST_Slope  HeartDisease  \n",
              "0      172              N      0.0       Up             0  \n",
              "1      156              N      1.0     Flat             1  \n",
              "2       98              N      0.0       Up             0  \n",
              "3      108              Y      1.5     Flat             1  \n",
              "4      122              N      0.0       Up             0  \n",
              "..     ...            ...      ...      ...           ...  \n",
              "913    132              N      1.2     Flat             1  \n",
              "914    141              N      3.4     Flat             1  \n",
              "915    115              Y      1.2     Flat             1  \n",
              "916    174              N      0.0     Flat             1  \n",
              "917    173              N      0.0       Up             0  \n",
              "\n",
              "[918 rows x 13 columns]"
            ],
            "text/html": [
              "\n",
              "  <div id=\"df-49034c25-bcf1-44ba-afc8-d009590a3bed\" class=\"colab-df-container\">\n",
              "    <div>\n",
              "<style scoped>\n",
              "    .dataframe tbody tr th:only-of-type {\n",
              "        vertical-align: middle;\n",
              "    }\n",
              "\n",
              "    .dataframe tbody tr th {\n",
              "        vertical-align: top;\n",
              "    }\n",
              "\n",
              "    .dataframe thead th {\n",
              "        text-align: right;\n",
              "    }\n",
              "</style>\n",
              "<table border=\"1\" class=\"dataframe\">\n",
              "  <thead>\n",
              "    <tr style=\"text-align: right;\">\n",
              "      <th></th>\n",
              "      <th>ID</th>\n",
              "      <th>Age</th>\n",
              "      <th>Sex</th>\n",
              "      <th>ChestPainType</th>\n",
              "      <th>RestingBP</th>\n",
              "      <th>Cholesterol</th>\n",
              "      <th>FastingBS</th>\n",
              "      <th>RestingECG</th>\n",
              "      <th>MaxHR</th>\n",
              "      <th>ExerciseAngina</th>\n",
              "      <th>Oldpeak</th>\n",
              "      <th>ST_Slope</th>\n",
              "      <th>HeartDisease</th>\n",
              "    </tr>\n",
              "  </thead>\n",
              "  <tbody>\n",
              "    <tr>\n",
              "      <th>0</th>\n",
              "      <td>1</td>\n",
              "      <td>40</td>\n",
              "      <td>M</td>\n",
              "      <td>ATA</td>\n",
              "      <td>140</td>\n",
              "      <td>289</td>\n",
              "      <td>0</td>\n",
              "      <td>Normal</td>\n",
              "      <td>172</td>\n",
              "      <td>N</td>\n",
              "      <td>0.0</td>\n",
              "      <td>Up</td>\n",
              "      <td>0</td>\n",
              "    </tr>\n",
              "    <tr>\n",
              "      <th>1</th>\n",
              "      <td>2</td>\n",
              "      <td>49</td>\n",
              "      <td>F</td>\n",
              "      <td>NAP</td>\n",
              "      <td>160</td>\n",
              "      <td>180</td>\n",
              "      <td>0</td>\n",
              "      <td>Normal</td>\n",
              "      <td>156</td>\n",
              "      <td>N</td>\n",
              "      <td>1.0</td>\n",
              "      <td>Flat</td>\n",
              "      <td>1</td>\n",
              "    </tr>\n",
              "    <tr>\n",
              "      <th>2</th>\n",
              "      <td>3</td>\n",
              "      <td>37</td>\n",
              "      <td>M</td>\n",
              "      <td>ATA</td>\n",
              "      <td>130</td>\n",
              "      <td>283</td>\n",
              "      <td>0</td>\n",
              "      <td>ST</td>\n",
              "      <td>98</td>\n",
              "      <td>N</td>\n",
              "      <td>0.0</td>\n",
              "      <td>Up</td>\n",
              "      <td>0</td>\n",
              "    </tr>\n",
              "    <tr>\n",
              "      <th>3</th>\n",
              "      <td>4</td>\n",
              "      <td>48</td>\n",
              "      <td>F</td>\n",
              "      <td>ASY</td>\n",
              "      <td>138</td>\n",
              "      <td>214</td>\n",
              "      <td>0</td>\n",
              "      <td>Normal</td>\n",
              "      <td>108</td>\n",
              "      <td>Y</td>\n",
              "      <td>1.5</td>\n",
              "      <td>Flat</td>\n",
              "      <td>1</td>\n",
              "    </tr>\n",
              "    <tr>\n",
              "      <th>4</th>\n",
              "      <td>5</td>\n",
              "      <td>54</td>\n",
              "      <td>M</td>\n",
              "      <td>NAP</td>\n",
              "      <td>150</td>\n",
              "      <td>195</td>\n",
              "      <td>0</td>\n",
              "      <td>Normal</td>\n",
              "      <td>122</td>\n",
              "      <td>N</td>\n",
              "      <td>0.0</td>\n",
              "      <td>Up</td>\n",
              "      <td>0</td>\n",
              "    </tr>\n",
              "    <tr>\n",
              "      <th>...</th>\n",
              "      <td>...</td>\n",
              "      <td>...</td>\n",
              "      <td>...</td>\n",
              "      <td>...</td>\n",
              "      <td>...</td>\n",
              "      <td>...</td>\n",
              "      <td>...</td>\n",
              "      <td>...</td>\n",
              "      <td>...</td>\n",
              "      <td>...</td>\n",
              "      <td>...</td>\n",
              "      <td>...</td>\n",
              "      <td>...</td>\n",
              "    </tr>\n",
              "    <tr>\n",
              "      <th>913</th>\n",
              "      <td>914</td>\n",
              "      <td>45</td>\n",
              "      <td>M</td>\n",
              "      <td>TA</td>\n",
              "      <td>110</td>\n",
              "      <td>264</td>\n",
              "      <td>0</td>\n",
              "      <td>Normal</td>\n",
              "      <td>132</td>\n",
              "      <td>N</td>\n",
              "      <td>1.2</td>\n",
              "      <td>Flat</td>\n",
              "      <td>1</td>\n",
              "    </tr>\n",
              "    <tr>\n",
              "      <th>914</th>\n",
              "      <td>915</td>\n",
              "      <td>68</td>\n",
              "      <td>M</td>\n",
              "      <td>ASY</td>\n",
              "      <td>144</td>\n",
              "      <td>193</td>\n",
              "      <td>1</td>\n",
              "      <td>Normal</td>\n",
              "      <td>141</td>\n",
              "      <td>N</td>\n",
              "      <td>3.4</td>\n",
              "      <td>Flat</td>\n",
              "      <td>1</td>\n",
              "    </tr>\n",
              "    <tr>\n",
              "      <th>915</th>\n",
              "      <td>916</td>\n",
              "      <td>57</td>\n",
              "      <td>M</td>\n",
              "      <td>ASY</td>\n",
              "      <td>130</td>\n",
              "      <td>131</td>\n",
              "      <td>0</td>\n",
              "      <td>Normal</td>\n",
              "      <td>115</td>\n",
              "      <td>Y</td>\n",
              "      <td>1.2</td>\n",
              "      <td>Flat</td>\n",
              "      <td>1</td>\n",
              "    </tr>\n",
              "    <tr>\n",
              "      <th>916</th>\n",
              "      <td>917</td>\n",
              "      <td>57</td>\n",
              "      <td>F</td>\n",
              "      <td>ATA</td>\n",
              "      <td>130</td>\n",
              "      <td>236</td>\n",
              "      <td>0</td>\n",
              "      <td>LVH</td>\n",
              "      <td>174</td>\n",
              "      <td>N</td>\n",
              "      <td>0.0</td>\n",
              "      <td>Flat</td>\n",
              "      <td>1</td>\n",
              "    </tr>\n",
              "    <tr>\n",
              "      <th>917</th>\n",
              "      <td>918</td>\n",
              "      <td>38</td>\n",
              "      <td>M</td>\n",
              "      <td>NAP</td>\n",
              "      <td>138</td>\n",
              "      <td>175</td>\n",
              "      <td>0</td>\n",
              "      <td>Normal</td>\n",
              "      <td>173</td>\n",
              "      <td>N</td>\n",
              "      <td>0.0</td>\n",
              "      <td>Up</td>\n",
              "      <td>0</td>\n",
              "    </tr>\n",
              "  </tbody>\n",
              "</table>\n",
              "<p>918 rows × 13 columns</p>\n",
              "</div>\n",
              "    <div class=\"colab-df-buttons\">\n",
              "\n",
              "  <div class=\"colab-df-container\">\n",
              "    <button class=\"colab-df-convert\" onclick=\"convertToInteractive('df-49034c25-bcf1-44ba-afc8-d009590a3bed')\"\n",
              "            title=\"Convert this dataframe to an interactive table.\"\n",
              "            style=\"display:none;\">\n",
              "\n",
              "  <svg xmlns=\"http://www.w3.org/2000/svg\" height=\"24px\" viewBox=\"0 -960 960 960\">\n",
              "    <path d=\"M120-120v-720h720v720H120Zm60-500h600v-160H180v160Zm220 220h160v-160H400v160Zm0 220h160v-160H400v160ZM180-400h160v-160H180v160Zm440 0h160v-160H620v160ZM180-180h160v-160H180v160Zm440 0h160v-160H620v160Z\"/>\n",
              "  </svg>\n",
              "    </button>\n",
              "\n",
              "  <style>\n",
              "    .colab-df-container {\n",
              "      display:flex;\n",
              "      gap: 12px;\n",
              "    }\n",
              "\n",
              "    .colab-df-convert {\n",
              "      background-color: #E8F0FE;\n",
              "      border: none;\n",
              "      border-radius: 50%;\n",
              "      cursor: pointer;\n",
              "      display: none;\n",
              "      fill: #1967D2;\n",
              "      height: 32px;\n",
              "      padding: 0 0 0 0;\n",
              "      width: 32px;\n",
              "    }\n",
              "\n",
              "    .colab-df-convert:hover {\n",
              "      background-color: #E2EBFA;\n",
              "      box-shadow: 0px 1px 2px rgba(60, 64, 67, 0.3), 0px 1px 3px 1px rgba(60, 64, 67, 0.15);\n",
              "      fill: #174EA6;\n",
              "    }\n",
              "\n",
              "    .colab-df-buttons div {\n",
              "      margin-bottom: 4px;\n",
              "    }\n",
              "\n",
              "    [theme=dark] .colab-df-convert {\n",
              "      background-color: #3B4455;\n",
              "      fill: #D2E3FC;\n",
              "    }\n",
              "\n",
              "    [theme=dark] .colab-df-convert:hover {\n",
              "      background-color: #434B5C;\n",
              "      box-shadow: 0px 1px 3px 1px rgba(0, 0, 0, 0.15);\n",
              "      filter: drop-shadow(0px 1px 2px rgba(0, 0, 0, 0.3));\n",
              "      fill: #FFFFFF;\n",
              "    }\n",
              "  </style>\n",
              "\n",
              "    <script>\n",
              "      const buttonEl =\n",
              "        document.querySelector('#df-49034c25-bcf1-44ba-afc8-d009590a3bed button.colab-df-convert');\n",
              "      buttonEl.style.display =\n",
              "        google.colab.kernel.accessAllowed ? 'block' : 'none';\n",
              "\n",
              "      async function convertToInteractive(key) {\n",
              "        const element = document.querySelector('#df-49034c25-bcf1-44ba-afc8-d009590a3bed');\n",
              "        const dataTable =\n",
              "          await google.colab.kernel.invokeFunction('convertToInteractive',\n",
              "                                                    [key], {});\n",
              "        if (!dataTable) return;\n",
              "\n",
              "        const docLinkHtml = 'Like what you see? Visit the ' +\n",
              "          '<a target=\"_blank\" href=https://colab.research.google.com/notebooks/data_table.ipynb>data table notebook</a>'\n",
              "          + ' to learn more about interactive tables.';\n",
              "        element.innerHTML = '';\n",
              "        dataTable['output_type'] = 'display_data';\n",
              "        await google.colab.output.renderOutput(dataTable, element);\n",
              "        const docLink = document.createElement('div');\n",
              "        docLink.innerHTML = docLinkHtml;\n",
              "        element.appendChild(docLink);\n",
              "      }\n",
              "    </script>\n",
              "  </div>\n",
              "\n",
              "\n",
              "<div id=\"df-33f3c3e7-04d6-41e9-a999-702bac1548b4\">\n",
              "  <button class=\"colab-df-quickchart\" onclick=\"quickchart('df-33f3c3e7-04d6-41e9-a999-702bac1548b4')\"\n",
              "            title=\"Suggest charts.\"\n",
              "            style=\"display:none;\">\n",
              "\n",
              "<svg xmlns=\"http://www.w3.org/2000/svg\" height=\"24px\"viewBox=\"0 0 24 24\"\n",
              "     width=\"24px\">\n",
              "    <g>\n",
              "        <path d=\"M19 3H5c-1.1 0-2 .9-2 2v14c0 1.1.9 2 2 2h14c1.1 0 2-.9 2-2V5c0-1.1-.9-2-2-2zM9 17H7v-7h2v7zm4 0h-2V7h2v10zm4 0h-2v-4h2v4z\"/>\n",
              "    </g>\n",
              "</svg>\n",
              "  </button>\n",
              "\n",
              "<style>\n",
              "  .colab-df-quickchart {\n",
              "      --bg-color: #E8F0FE;\n",
              "      --fill-color: #1967D2;\n",
              "      --hover-bg-color: #E2EBFA;\n",
              "      --hover-fill-color: #174EA6;\n",
              "      --disabled-fill-color: #AAA;\n",
              "      --disabled-bg-color: #DDD;\n",
              "  }\n",
              "\n",
              "  [theme=dark] .colab-df-quickchart {\n",
              "      --bg-color: #3B4455;\n",
              "      --fill-color: #D2E3FC;\n",
              "      --hover-bg-color: #434B5C;\n",
              "      --hover-fill-color: #FFFFFF;\n",
              "      --disabled-bg-color: #3B4455;\n",
              "      --disabled-fill-color: #666;\n",
              "  }\n",
              "\n",
              "  .colab-df-quickchart {\n",
              "    background-color: var(--bg-color);\n",
              "    border: none;\n",
              "    border-radius: 50%;\n",
              "    cursor: pointer;\n",
              "    display: none;\n",
              "    fill: var(--fill-color);\n",
              "    height: 32px;\n",
              "    padding: 0;\n",
              "    width: 32px;\n",
              "  }\n",
              "\n",
              "  .colab-df-quickchart:hover {\n",
              "    background-color: var(--hover-bg-color);\n",
              "    box-shadow: 0 1px 2px rgba(60, 64, 67, 0.3), 0 1px 3px 1px rgba(60, 64, 67, 0.15);\n",
              "    fill: var(--button-hover-fill-color);\n",
              "  }\n",
              "\n",
              "  .colab-df-quickchart-complete:disabled,\n",
              "  .colab-df-quickchart-complete:disabled:hover {\n",
              "    background-color: var(--disabled-bg-color);\n",
              "    fill: var(--disabled-fill-color);\n",
              "    box-shadow: none;\n",
              "  }\n",
              "\n",
              "  .colab-df-spinner {\n",
              "    border: 2px solid var(--fill-color);\n",
              "    border-color: transparent;\n",
              "    border-bottom-color: var(--fill-color);\n",
              "    animation:\n",
              "      spin 1s steps(1) infinite;\n",
              "  }\n",
              "\n",
              "  @keyframes spin {\n",
              "    0% {\n",
              "      border-color: transparent;\n",
              "      border-bottom-color: var(--fill-color);\n",
              "      border-left-color: var(--fill-color);\n",
              "    }\n",
              "    20% {\n",
              "      border-color: transparent;\n",
              "      border-left-color: var(--fill-color);\n",
              "      border-top-color: var(--fill-color);\n",
              "    }\n",
              "    30% {\n",
              "      border-color: transparent;\n",
              "      border-left-color: var(--fill-color);\n",
              "      border-top-color: var(--fill-color);\n",
              "      border-right-color: var(--fill-color);\n",
              "    }\n",
              "    40% {\n",
              "      border-color: transparent;\n",
              "      border-right-color: var(--fill-color);\n",
              "      border-top-color: var(--fill-color);\n",
              "    }\n",
              "    60% {\n",
              "      border-color: transparent;\n",
              "      border-right-color: var(--fill-color);\n",
              "    }\n",
              "    80% {\n",
              "      border-color: transparent;\n",
              "      border-right-color: var(--fill-color);\n",
              "      border-bottom-color: var(--fill-color);\n",
              "    }\n",
              "    90% {\n",
              "      border-color: transparent;\n",
              "      border-bottom-color: var(--fill-color);\n",
              "    }\n",
              "  }\n",
              "</style>\n",
              "\n",
              "  <script>\n",
              "    async function quickchart(key) {\n",
              "      const quickchartButtonEl =\n",
              "        document.querySelector('#' + key + ' button');\n",
              "      quickchartButtonEl.disabled = true;  // To prevent multiple clicks.\n",
              "      quickchartButtonEl.classList.add('colab-df-spinner');\n",
              "      try {\n",
              "        const charts = await google.colab.kernel.invokeFunction(\n",
              "            'suggestCharts', [key], {});\n",
              "      } catch (error) {\n",
              "        console.error('Error during call to suggestCharts:', error);\n",
              "      }\n",
              "      quickchartButtonEl.classList.remove('colab-df-spinner');\n",
              "      quickchartButtonEl.classList.add('colab-df-quickchart-complete');\n",
              "    }\n",
              "    (() => {\n",
              "      let quickchartButtonEl =\n",
              "        document.querySelector('#df-33f3c3e7-04d6-41e9-a999-702bac1548b4 button');\n",
              "      quickchartButtonEl.style.display =\n",
              "        google.colab.kernel.accessAllowed ? 'block' : 'none';\n",
              "    })();\n",
              "  </script>\n",
              "</div>\n",
              "    </div>\n",
              "  </div>\n"
            ]
          },
          "metadata": {},
          "execution_count": 5
        }
      ]
    },
    {
      "cell_type": "code",
      "source": [
        "dataset.HeartDisease.value_counts().plot.bar(\n",
        "    color=['lightgreen', 'pink'],\n",
        "    title=\"HeartDisease: YES(1) vs NO(0)\",\n",
        "    xlabel=\"Output class\",\n",
        "    ylabel=\"Count"
      ],
      "metadata": {
        "colab": {
          "base_uri": "https://localhost:8080/",
          "height": 140
        },
        "id": "Bcbq5SsOCHjG",
        "outputId": "789149dc-c998-473d-9658-ae1d557e8906"
      },
      "execution_count": null,
      "outputs": [
        {
          "output_type": "error",
          "ename": "SyntaxError",
          "evalue": "ignored",
          "traceback": [
            "\u001b[0;36m  File \u001b[0;32m\"<ipython-input-1-c067df263e01>\"\u001b[0;36m, line \u001b[0;32m5\u001b[0m\n\u001b[0;31m    ylabel=\"Count\u001b[0m\n\u001b[0m           ^\u001b[0m\n\u001b[0;31mSyntaxError\u001b[0m\u001b[0;31m:\u001b[0m unterminated string literal (detected at line 5)\n"
          ]
        }
      ]
    },
    {
      "cell_type": "markdown",
      "source": [
        "# ***Dataset preprocessing***"
      ],
      "metadata": {
        "id": "cKQydbbH4vZR"
      }
    },
    {
      "cell_type": "code",
      "source": [
        "label_encoder = preprocessing.LabelEncoder()\n",
        "dataset['Sex']= label_encoder.fit_transform(dataset['Sex'])\n",
        "dataset['ChestPainType']= label_encoder.fit_transform(dataset['ChestPainType'])\n",
        "dataset['RestingECG']= label_encoder.fit_transform(dataset['RestingECG'])\n",
        "dataset['ExerciseAngina']= label_encoder.fit_transform(dataset['ExerciseAngina'])\n",
        "dataset['ST_Slope']= label_encoder.fit_transform(dataset['ST_Slope'])\n"
      ],
      "metadata": {
        "id": "M89u7aqlOC8o"
      },
      "execution_count": null,
      "outputs": []
    },
    {
      "cell_type": "code",
      "source": [
        "def diagnostic_plots(df, variable):\n",
        "    # function takes a dataframe (df) and\n",
        "    # the variable of interest as arguments\n",
        "    # define figure size\n",
        "    plt.figure(figsize=(16, 4))\n",
        "    # histogram\n",
        "    plt.subplot(1, 3, 1)\n",
        "    sns.distplot(df[variable], bins=30)\n",
        "    plt.title('Histogram')\n",
        "    # Q-Q plot\n",
        "    plt.subplot(1, 3, 2)\n",
        "    stats.probplot(df[variable], dist=\"norm\", plot=plt)\n",
        "    plt.ylabel('RM quantiles')\n",
        "    # boxplot\n",
        "    plt.subplot(1, 3, 3)\n",
        "    sns.boxplot(y=df[variable])\n",
        "    plt.title('Boxplot')\n",
        "    plt.show()"
      ],
      "metadata": {
        "id": "XU5r_hkHUCjl"
      },
      "execution_count": null,
      "outputs": []
    },
    {
      "cell_type": "code",
      "source": [
        "diagnostic_plots(dataset, 'Age')"
      ],
      "metadata": {
        "colab": {
          "base_uri": "https://localhost:8080/"
        },
        "id": "IhAkvlEkTjNw",
        "outputId": "b658658b-7abc-4fda-8604-19a610b0d8e6"
      },
      "execution_count": null,
      "outputs": [
        {
          "output_type": "stream",
          "name": "stderr",
          "text": [
            "<ipython-input-7-22b434fbcdc1>:8: UserWarning: \n",
            "\n",
            "`distplot` is a deprecated function and will be removed in seaborn v0.14.0.\n",
            "\n",
            "Please adapt your code to use either `displot` (a figure-level function with\n",
            "similar flexibility) or `histplot` (an axes-level function for histograms).\n",
            "\n",
            "For a guide to updating your code to use the new functions, please see\n",
            "https://gist.github.com/mwaskom/de44147ed2974457ad6372750bbe5751\n",
            "\n",
            "  sns.distplot(df[variable], bins=30)\n"
          ]
        },
        {
          "output_type": "display_data",
          "data": {
            "text/plain": [
              "<Figure size 1600x400 with 3 Axes>"
            ],
            "image/png": "[encoded data removed]"
          },
          "metadata": {}
        }
      ]
    },
    {
      "cell_type": "markdown",
      "source": [
        "From the histogram and the Q-Q plot, we see that the variable Age approximates a Gaussian distribution quite well. In the boxplot, we see that the variable could have outliers, as there are many dots sitting outside the whiskers, at both tails of the distribution."
      ],
      "metadata": {
        "id": "snYm4_nMUcjU"
      }
    },
    {
      "cell_type": "code",
      "source": [
        "diagnostic_plots(dataset, 'Cholesterol')"
      ],
      "metadata": {
        "colab": {
          "base_uri": "https://localhost:8080/"
        },
        "id": "xMeq2vacUxTi",
        "outputId": "8f4995fd-d3fc-4179-838d-866ddd51393b"
      },
      "execution_count": null,
      "outputs": [
        {
          "output_type": "stream",
          "name": "stderr",
          "text": [
            "<ipython-input-7-22b434fbcdc1>:8: UserWarning: \n",
            "\n",
            "`distplot` is a deprecated function and will be removed in seaborn v0.14.0.\n",
            "\n",
            "Please adapt your code to use either `displot` (a figure-level function with\n",
            "similar flexibility) or `histplot` (an axes-level function for histograms).\n",
            "\n",
            "For a guide to updating your code to use the new functions, please see\n",
            "https://gist.github.com/mwaskom/de44147ed2974457ad6372750bbe5751\n",
            "\n",
            "  sns.distplot(df[variable], bins=30)\n"
          ]
        },
        {
          "output_type": "display_data",
          "data": {
            "text/plain": [
              "<Figure size 1600x400 with 3 Axes>"
            ],
            "image/png": "[encoded data removed]"
          },
          "metadata": {}
        }
      ]
    },
    {
      "cell_type": "markdown",
      "source": [
        "From the histogram and the Q-Q plot, we see that the variable approximates fairly well a Gaussian distribution. There is a deviation from the distribution towards the smaller values of the age. In the boxplot, we can see that the variable could have outliers, as there are many dots sitting outside the whiskers, at the right end of the distribution (top whisker in the boxplot)."
      ],
      "metadata": {
        "id": "OtY8OnceVfUs"
      }
    },
    {
      "cell_type": "code",
      "source": [
        "dataset.HeartDisease.value_counts().plot.bar(\n",
        "    color=['lightgreen', 'pink'],\n",
        "    title=\"HeartDisease: YES(1) vs NO(0)\",\n",
        "    xlabel=\"Output class\",\n",
        "    ylabel=\"Count\"\n",
        ")"
      ],
      "metadata": {
        "colab": {
          "base_uri": "https://localhost:8080/"
        },
        "id": "arehQxhyaNmQ",
        "outputId": "a1af6f27-8949-4f27-ea03-756e8beb8636"
      },
      "execution_count": null,
      "outputs": [
        {
          "output_type": "execute_result",
          "data": {
            "text/plain": [
              "<Axes: title={'center': 'HeartDisease: YES(1) vs NO(0)'}, xlabel='Output class', ylabel='Count'>"
            ]
          },
          "metadata": {},
          "execution_count": 10
        },
        {
          "output_type": "display_data",
          "data": {
            "text/plain": [
              "<Figure size 640x480 with 1 Axes>"
            ],
            "image/png": "[encoded data removed]"
          },
          "metadata": {}
        }
      ]
    },
    {
      "cell_type": "code",
      "source": [
        "sns.countplot(x='HeartDisease', hue='Sex', data=dataset)"
      ],
      "metadata": {
        "colab": {
          "base_uri": "https://localhost:8080/"
        },
        "id": "d5kXfLjQaVFF",
        "outputId": "63e72791-e9da-4b71-9d0b-568d5508451d"
      },
      "execution_count": null,
      "outputs": [
        {
          "output_type": "execute_result",
          "data": {
            "text/plain": [
              "<Axes: xlabel='HeartDisease', ylabel='count'>"
            ]
          },
          "metadata": {},
          "execution_count": 11
        },
        {
          "output_type": "display_data",
          "data": {
            "text/plain": [
              "<Figure size 640x480 with 1 Axes>"
            ],
            "image/png": "[encoded data removed]"
          },
          "metadata": {}
        }
      ]
    },
    {
      "cell_type": "code",
      "source": [
        "sns.countplot(x='HeartDisease', hue='RestingECG', data=dataset)"
      ],
      "metadata": {
        "colab": {
          "base_uri": "https://localhost:8080/"
        },
        "id": "08UP93S7a2G9",
        "outputId": "6fbf0d0b-1b90-475d-dbc3-13533311e21a"
      },
      "execution_count": null,
      "outputs": [
        {
          "output_type": "execute_result",
          "data": {
            "text/plain": [
              "<Axes: xlabel='HeartDisease', ylabel='count'>"
            ]
          },
          "metadata": {},
          "execution_count": 12
        },
        {
          "output_type": "display_data",
          "data": {
            "text/plain": [
              "<Figure size 640x480 with 1 Axes>"
            ],
            "image/png": "[encoded data removed]"
          },
          "metadata": {}
        }
      ]
    },
    {
      "cell_type": "code",
      "source": [
        "sns.countplot(x='HeartDisease', hue='ST_Slope', data=dataset)"
      ],
      "metadata": {
        "colab": {
          "base_uri": "https://localhost:8080/"
        },
        "id": "j08Q8RVCbYki",
        "outputId": "f2206e0c-cd45-4e57-d2c7-539f9c93c17e"
      },
      "execution_count": null,
      "outputs": [
        {
          "output_type": "execute_result",
          "data": {
            "text/plain": [
              "<Axes: xlabel='HeartDisease', ylabel='count'>"
            ]
          },
          "metadata": {},
          "execution_count": 13
        },
        {
          "output_type": "display_data",
          "data": {
            "text/plain": [
              "<Figure size 640x480 with 1 Axes>"
            ],
            "image/png": "[encoded data removed]"
          },
          "metadata": {}
        }
      ]
    },
    {
      "cell_type": "code",
      "source": [
        "sns.countplot(x='HeartDisease', hue='ChestPainType', data=dataset)"
      ],
      "metadata": {
        "colab": {
          "base_uri": "https://localhost:8080/"
        },
        "id": "OxlJudPFbqUG",
        "outputId": "eefe08eb-318b-4ad5-fba0-3d18e9a04980"
      },
      "execution_count": null,
      "outputs": [
        {
          "output_type": "execute_result",
          "data": {
            "text/plain": [
              "<Axes: xlabel='HeartDisease', ylabel='count'>"
            ]
          },
          "metadata": {},
          "execution_count": 14
        },
        {
          "output_type": "display_data",
          "data": {
            "text/plain": [
              "<Figure size 640x480 with 1 Axes>"
            ],
            "image/png": "[encoded data removed]"
          },
          "metadata": {}
        }
      ]
    },
    {
      "cell_type": "code",
      "source": [
        "sns.countplot(x='HeartDisease', hue='FastingBS', data=dataset)"
      ],
      "metadata": {
        "colab": {
          "base_uri": "https://localhost:8080/"
        },
        "id": "4po1vdF0b1xr",
        "outputId": "b3066e11-60f8-4204-b5e9-76ae6c5bb34b"
      },
      "execution_count": null,
      "outputs": [
        {
          "output_type": "execute_result",
          "data": {
            "text/plain": [
              "<Axes: xlabel='HeartDisease', ylabel='count'>"
            ]
          },
          "metadata": {},
          "execution_count": 15
        },
        {
          "output_type": "display_data",
          "data": {
            "text/plain": [
              "<Figure size 640x480 with 1 Axes>"
            ],
            "image/png": "[encoded data removed]"
          },
          "metadata": {}
        }
      ]
    },
    {
      "cell_type": "code",
      "source": [
        "sns.countplot(x='HeartDisease', hue='ExerciseAngina', data=dataset)"
      ],
      "metadata": {
        "colab": {
          "base_uri": "https://localhost:8080/"
        },
        "id": "3Uhn7eBDcBP3",
        "outputId": "3b67ce32-70fb-4cc1-8918-7673ddd3dc1d"
      },
      "execution_count": null,
      "outputs": [
        {
          "output_type": "execute_result",
          "data": {
            "text/plain": [
              "<Axes: xlabel='HeartDisease', ylabel='count'>"
            ]
          },
          "metadata": {},
          "execution_count": 16
        },
        {
          "output_type": "display_data",
          "data": {
            "text/plain": [
              "<Figure size 640x480 with 1 Axes>"
            ],
            "image/png": "[encoded data removed]"
          },
          "metadata": {}
        }
      ]
    },
    {
      "cell_type": "code",
      "source": [
        "dataset.columns"
      ],
      "metadata": {
        "colab": {
          "base_uri": "https://localhost:8080/"
        },
        "id": "K77cYR-5N97c",
        "outputId": "f05f40f8-525b-40f3-ba91-0804cb80aed0"
      },
      "execution_count": null,
      "outputs": [
        {
          "output_type": "execute_result",
          "data": {
            "text/plain": [
              "Index(['ID', 'Age', 'Sex', 'ChestPainType', 'RestingBP', 'Cholesterol',\n",
              "       'FastingBS', 'RestingECG', 'MaxHR', 'ExerciseAngina', 'Oldpeak',\n",
              "       'ST_Slope', 'HeartDisease'],\n",
              "      dtype='object')"
            ]
          },
          "metadata": {},
          "execution_count": 17
        }
      ]
    },
    {
      "cell_type": "code",
      "source": [
        "dataset.info()"
      ],
      "metadata": {
        "colab": {
          "base_uri": "https://localhost:8080/"
        },
        "id": "493mi4mgONTN",
        "outputId": "fd3aa6e2-dcb0-47ff-859f-367e7ed086df"
      },
      "execution_count": null,
      "outputs": [
        {
          "output_type": "stream",
          "name": "stdout",
          "text": [
            "<class 'pandas.core.frame.DataFrame'>\n",
            "RangeIndex: 918 entries, 0 to 917\n",
            "Data columns (total 13 columns):\n",
            " #   Column          Non-Null Count  Dtype  \n",
            "---  ------          --------------  -----  \n",
            " 0   ID              918 non-null    int64  \n",
            " 1   Age             918 non-null    int64  \n",
            " 2   Sex             918 non-null    int64  \n",
            " 3   ChestPainType   918 non-null    int64  \n",
            " 4   RestingBP       918 non-null    int64  \n",
            " 5   Cholesterol     918 non-null    int64  \n",
            " 6   FastingBS       918 non-null    int64  \n",
            " 7   RestingECG      918 non-null    int64  \n",
            " 8   MaxHR           918 non-null    int64  \n",
            " 9   ExerciseAngina  918 non-null    int64  \n",
            " 10  Oldpeak         918 non-null    float64\n",
            " 11  ST_Slope        918 non-null    int64  \n",
            " 12  HeartDisease    918 non-null    int64  \n",
            "dtypes: float64(1), int64(12)\n",
            "memory usage: 93.4 KB\n"
          ]
        }
      ]
    },
    {
      "cell_type": "code",
      "source": [
        "dataset.describe()"
      ],
      "metadata": {
        "colab": {
          "base_uri": "https://localhost:8080/"
        },
        "id": "W1lJb5tAOQxo",
        "outputId": "692e9c78-a227-4d96-e2eb-dedc667eabbd"
      },
      "execution_count": null,
      "outputs": [
        {
          "output_type": "execute_result",
          "data": {
            "text/plain": [
              "               ID         Age         Sex  ChestPainType   RestingBP  \\\n",
              "count  918.000000  918.000000  918.000000     918.000000  918.000000   \n",
              "mean   459.500000   53.510893    0.789760       0.781046  132.396514   \n",
              "std    265.148072    9.432617    0.407701       0.956519   18.514154   \n",
              "min      1.000000   28.000000    0.000000       0.000000    0.000000   \n",
              "25%    230.250000   47.000000    1.000000       0.000000  120.000000   \n",
              "50%    459.500000   54.000000    1.000000       0.000000  130.000000   \n",
              "75%    688.750000   60.000000    1.000000       2.000000  140.000000   \n",
              "max    918.000000   77.000000    1.000000       3.000000  200.000000   \n",
              "\n",
              "       Cholesterol   FastingBS  RestingECG       MaxHR  ExerciseAngina  \\\n",
              "count   918.000000  918.000000  918.000000  918.000000      918.000000   \n",
              "mean    198.799564    0.233115    0.989107  136.809368        0.404139   \n",
              "std     109.384145    0.423046    0.631671   25.460334        0.490992   \n",
              "min       0.000000    0.000000    0.000000   60.000000        0.000000   \n",
              "25%     173.250000    0.000000    1.000000  120.000000        0.000000   \n",
              "50%     223.000000    0.000000    1.000000  138.000000        0.000000   \n",
              "75%     267.000000    0.000000    1.000000  156.000000        1.000000   \n",
              "max     603.000000    1.000000    2.000000  202.000000        1.000000   \n",
              "\n",
              "          Oldpeak    ST_Slope  HeartDisease  \n",
              "count  918.000000  918.000000    918.000000  \n",
              "mean     0.887364    1.361656      0.553377  \n",
              "std      1.066570    0.607056      0.497414  \n",
              "min     -2.600000    0.000000      0.000000  \n",
              "25%      0.000000    1.000000      0.000000  \n",
              "50%      0.600000    1.000000      1.000000  \n",
              "75%      1.500000    2.000000      1.000000  \n",
              "max      6.200000    2.000000      1.000000  "
            ],
            "text/html": [
              "\n",
              "  <div id=\"df-728a3599-b494-41c1-8dce-d95b747de660\" class=\"colab-df-container\">\n",
              "    <div>\n",
              "<style scoped>\n",
              "    .dataframe tbody tr th:only-of-type {\n",
              "        vertical-align: middle;\n",
              "    }\n",
              "\n",
              "    .dataframe tbody tr th {\n",
              "        vertical-align: top;\n",
              "    }\n",
              "\n",
              "    .dataframe thead th {\n",
              "        text-align: right;\n",
              "    }\n",
              "</style>\n",
              "<table border=\"1\" class=\"dataframe\">\n",
              "  <thead>\n",
              "    <tr style=\"text-align: right;\">\n",
              "      <th></th>\n",
              "      <th>ID</th>\n",
              "      <th>Age</th>\n",
              "      <th>Sex</th>\n",
              "      <th>ChestPainType</th>\n",
              "      <th>RestingBP</th>\n",
              "      <th>Cholesterol</th>\n",
              "      <th>FastingBS</th>\n",
              "      <th>RestingECG</th>\n",
              "      <th>MaxHR</th>\n",
              "      <th>ExerciseAngina</th>\n",
              "      <th>Oldpeak</th>\n",
              "      <th>ST_Slope</th>\n",
              "      <th>HeartDisease</th>\n",
              "    </tr>\n",
              "  </thead>\n",
              "  <tbody>\n",
              "    <tr>\n",
              "      <th>count</th>\n",
              "      <td>918.000000</td>\n",
              "      <td>918.000000</td>\n",
              "      <td>918.000000</td>\n",
              "      <td>918.000000</td>\n",
              "      <td>918.000000</td>\n",
              "      <td>918.000000</td>\n",
              "      <td>918.000000</td>\n",
              "      <td>918.000000</td>\n",
              "      <td>918.000000</td>\n",
              "      <td>918.000000</td>\n",
              "      <td>918.000000</td>\n",
              "      <td>918.000000</td>\n",
              "      <td>918.000000</td>\n",
              "    </tr>\n",
              "    <tr>\n",
              "      <th>mean</th>\n",
              "      <td>459.500000</td>\n",
              "      <td>53.510893</td>\n",
              "      <td>0.789760</td>\n",
              "      <td>0.781046</td>\n",
              "      <td>132.396514</td>\n",
              "      <td>198.799564</td>\n",
              "      <td>0.233115</td>\n",
              "      <td>0.989107</td>\n",
              "      <td>136.809368</td>\n",
              "      <td>0.404139</td>\n",
              "      <td>0.887364</td>\n",
              "      <td>1.361656</td>\n",
              "      <td>0.553377</td>\n",
              "    </tr>\n",
              "    <tr>\n",
              "      <th>std</th>\n",
              "      <td>265.148072</td>\n",
              "      <td>9.432617</td>\n",
              "      <td>0.407701</td>\n",
              "      <td>0.956519</td>\n",
              "      <td>18.514154</td>\n",
              "      <td>109.384145</td>\n",
              "      <td>0.423046</td>\n",
              "      <td>0.631671</td>\n",
              "      <td>25.460334</td>\n",
              "      <td>0.490992</td>\n",
              "      <td>1.066570</td>\n",
              "      <td>0.607056</td>\n",
              "      <td>0.497414</td>\n",
              "    </tr>\n",
              "    <tr>\n",
              "      <th>min</th>\n",
              "      <td>1.000000</td>\n",
              "      <td>28.000000</td>\n",
              "      <td>0.000000</td>\n",
              "      <td>0.000000</td>\n",
              "      <td>0.000000</td>\n",
              "      <td>0.000000</td>\n",
              "      <td>0.000000</td>\n",
              "      <td>0.000000</td>\n",
              "      <td>60.000000</td>\n",
              "      <td>0.000000</td>\n",
              "      <td>-2.600000</td>\n",
              "      <td>0.000000</td>\n",
              "      <td>0.000000</td>\n",
              "    </tr>\n",
              "    <tr>\n",
              "      <th>25%</th>\n",
              "      <td>230.250000</td>\n",
              "      <td>47.000000</td>\n",
              "      <td>1.000000</td>\n",
              "      <td>0.000000</td>\n",
              "      <td>120.000000</td>\n",
              "      <td>173.250000</td>\n",
              "      <td>0.000000</td>\n",
              "      <td>1.000000</td>\n",
              "      <td>120.000000</td>\n",
              "      <td>0.000000</td>\n",
              "      <td>0.000000</td>\n",
              "      <td>1.000000</td>\n",
              "      <td>0.000000</td>\n",
              "    </tr>\n",
              "    <tr>\n",
              "      <th>50%</th>\n",
              "      <td>459.500000</td>\n",
              "      <td>54.000000</td>\n",
              "      <td>1.000000</td>\n",
              "      <td>0.000000</td>\n",
              "      <td>130.000000</td>\n",
              "      <td>223.000000</td>\n",
              "      <td>0.000000</td>\n",
              "      <td>1.000000</td>\n",
              "      <td>138.000000</td>\n",
              "      <td>0.000000</td>\n",
              "      <td>0.600000</td>\n",
              "      <td>1.000000</td>\n",
              "      <td>1.000000</td>\n",
              "    </tr>\n",
              "    <tr>\n",
              "      <th>75%</th>\n",
              "      <td>688.750000</td>\n",
              "      <td>60.000000</td>\n",
              "      <td>1.000000</td>\n",
              "      <td>2.000000</td>\n",
              "      <td>140.000000</td>\n",
              "      <td>267.000000</td>\n",
              "      <td>0.000000</td>\n",
              "      <td>1.000000</td>\n",
              "      <td>156.000000</td>\n",
              "      <td>1.000000</td>\n",
              "      <td>1.500000</td>\n",
              "      <td>2.000000</td>\n",
              "      <td>1.000000</td>\n",
              "    </tr>\n",
              "    <tr>\n",
              "      <th>max</th>\n",
              "      <td>918.000000</td>\n",
              "      <td>77.000000</td>\n",
              "      <td>1.000000</td>\n",
              "      <td>3.000000</td>\n",
              "      <td>200.000000</td>\n",
              "      <td>603.000000</td>\n",
              "      <td>1.000000</td>\n",
              "      <td>2.000000</td>\n",
              "      <td>202.000000</td>\n",
              "      <td>1.000000</td>\n",
              "      <td>6.200000</td>\n",
              "      <td>2.000000</td>\n",
              "      <td>1.000000</td>\n",
              "    </tr>\n",
              "  </tbody>\n",
              "</table>\n",
              "</div>\n",
              "    <div class=\"colab-df-buttons\">\n",
              "\n",
              "  <div class=\"colab-df-container\">\n",
              "    <button class=\"colab-df-convert\" onclick=\"convertToInteractive('df-728a3599-b494-41c1-8dce-d95b747de660')\"\n",
              "            title=\"Convert this dataframe to an interactive table.\"\n",
              "            style=\"display:none;\">\n",
              "\n",
              "  <svg xmlns=\"http://www.w3.org/2000/svg\" height=\"24px\" viewBox=\"0 -960 960 960\">\n",
              "    <path d=\"M120-120v-720h720v720H120Zm60-500h600v-160H180v160Zm220 220h160v-160H400v160Zm0 220h160v-160H400v160ZM180-400h160v-160H180v160Zm440 0h160v-160H620v160ZM180-180h160v-160H180v160Zm440 0h160v-160H620v160Z\"/>\n",
              "  </svg>\n",
              "    </button>\n",
              "\n",
              "  <style>\n",
              "    .colab-df-container {\n",
              "      display:flex;\n",
              "      gap: 12px;\n",
              "    }\n",
              "\n",
              "    .colab-df-convert {\n",
              "      background-color: #E8F0FE;\n",
              "      border: none;\n",
              "      border-radius: 50%;\n",
              "      cursor: pointer;\n",
              "      display: none;\n",
              "      fill: #1967D2;\n",
              "      height: 32px;\n",
              "      padding: 0 0 0 0;\n",
              "      width: 32px;\n",
              "    }\n",
              "\n",
              "    .colab-df-convert:hover {\n",
              "      background-color: #E2EBFA;\n",
              "      box-shadow: 0px 1px 2px rgba(60, 64, 67, 0.3), 0px 1px 3px 1px rgba(60, 64, 67, 0.15);\n",
              "      fill: #174EA6;\n",
              "    }\n",
              "\n",
              "    .colab-df-buttons div {\n",
              "      margin-bottom: 4px;\n",
              "    }\n",
              "\n",
              "    [theme=dark] .colab-df-convert {\n",
              "      background-color: #3B4455;\n",
              "      fill: #D2E3FC;\n",
              "    }\n",
              "\n",
              "    [theme=dark] .colab-df-convert:hover {\n",
              "      background-color: #434B5C;\n",
              "      box-shadow: 0px 1px 3px 1px rgba(0, 0, 0, 0.15);\n",
              "      filter: drop-shadow(0px 1px 2px rgba(0, 0, 0, 0.3));\n",
              "      fill: #FFFFFF;\n",
              "    }\n",
              "  </style>\n",
              "\n",
              "    <script>\n",
              "      const buttonEl =\n",
              "        document.querySelector('#df-728a3599-b494-41c1-8dce-d95b747de660 button.colab-df-convert');\n",
              "      buttonEl.style.display =\n",
              "        google.colab.kernel.accessAllowed ? 'block' : 'none';\n",
              "\n",
              "      async function convertToInteractive(key) {\n",
              "        const element = document.querySelector('#df-728a3599-b494-41c1-8dce-d95b747de660');\n",
              "        const dataTable =\n",
              "          await google.colab.kernel.invokeFunction('convertToInteractive',\n",
              "                                                    [key], {});\n",
              "        if (!dataTable) return;\n",
              "\n",
              "        const docLinkHtml = 'Like what you see? Visit the ' +\n",
              "          '<a target=\"_blank\" href=https://colab.research.google.com/notebooks/data_table.ipynb>data table notebook</a>'\n",
              "          + ' to learn more about interactive tables.';\n",
              "        element.innerHTML = '';\n",
              "        dataTable['output_type'] = 'display_data';\n",
              "        await google.colab.output.renderOutput(dataTable, element);\n",
              "        const docLink = document.createElement('div');\n",
              "        docLink.innerHTML = docLinkHtml;\n",
              "        element.appendChild(docLink);\n",
              "      }\n",
              "    </script>\n",
              "  </div>\n",
              "\n",
              "\n",
              "<div id=\"df-c866f36f-e74e-49d0-8d24-f896261de783\">\n",
              "  <button class=\"colab-df-quickchart\" onclick=\"quickchart('df-c866f36f-e74e-49d0-8d24-f896261de783')\"\n",
              "            title=\"Suggest charts.\"\n",
              "            style=\"display:none;\">\n",
              "\n",
              "<svg xmlns=\"http://www.w3.org/2000/svg\" height=\"24px\"viewBox=\"0 0 24 24\"\n",
              "     width=\"24px\">\n",
              "    <g>\n",
              "        <path d=\"M19 3H5c-1.1 0-2 .9-2 2v14c0 1.1.9 2 2 2h14c1.1 0 2-.9 2-2V5c0-1.1-.9-2-2-2zM9 17H7v-7h2v7zm4 0h-2V7h2v10zm4 0h-2v-4h2v4z\"/>\n",
              "    </g>\n",
              "</svg>\n",
              "  </button>\n",
              "\n",
              "<style>\n",
              "  .colab-df-quickchart {\n",
              "      --bg-color: #E8F0FE;\n",
              "      --fill-color: #1967D2;\n",
              "      --hover-bg-color: #E2EBFA;\n",
              "      --hover-fill-color: #174EA6;\n",
              "      --disabled-fill-color: #AAA;\n",
              "      --disabled-bg-color: #DDD;\n",
              "  }\n",
              "\n",
              "  [theme=dark] .colab-df-quickchart {\n",
              "      --bg-color: #3B4455;\n",
              "      --fill-color: #D2E3FC;\n",
              "      --hover-bg-color: #434B5C;\n",
              "      --hover-fill-color: #FFFFFF;\n",
              "      --disabled-bg-color: #3B4455;\n",
              "      --disabled-fill-color: #666;\n",
              "  }\n",
              "\n",
              "  .colab-df-quickchart {\n",
              "    background-color: var(--bg-color);\n",
              "    border: none;\n",
              "    border-radius: 50%;\n",
              "    cursor: pointer;\n",
              "    display: none;\n",
              "    fill: var(--fill-color);\n",
              "    height: 32px;\n",
              "    padding: 0;\n",
              "    width: 32px;\n",
              "  }\n",
              "\n",
              "  .colab-df-quickchart:hover {\n",
              "    background-color: var(--hover-bg-color);\n",
              "    box-shadow: 0 1px 2px rgba(60, 64, 67, 0.3), 0 1px 3px 1px rgba(60, 64, 67, 0.15);\n",
              "    fill: var(--button-hover-fill-color);\n",
              "  }\n",
              "\n",
              "  .colab-df-quickchart-complete:disabled,\n",
              "  .colab-df-quickchart-complete:disabled:hover {\n",
              "    background-color: var(--disabled-bg-color);\n",
              "    fill: var(--disabled-fill-color);\n",
              "    box-shadow: none;\n",
              "  }\n",
              "\n",
              "  .colab-df-spinner {\n",
              "    border: 2px solid var(--fill-color);\n",
              "    border-color: transparent;\n",
              "    border-bottom-color: var(--fill-color);\n",
              "    animation:\n",
              "      spin 1s steps(1) infinite;\n",
              "  }\n",
              "\n",
              "  @keyframes spin {\n",
              "    0% {\n",
              "      border-color: transparent;\n",
              "      border-bottom-color: var(--fill-color);\n",
              "      border-left-color: var(--fill-color);\n",
              "    }\n",
              "    20% {\n",
              "      border-color: transparent;\n",
              "      border-left-color: var(--fill-color);\n",
              "      border-top-color: var(--fill-color);\n",
              "    }\n",
              "    30% {\n",
              "      border-color: transparent;\n",
              "      border-left-color: var(--fill-color);\n",
              "      border-top-color: var(--fill-color);\n",
              "      border-right-color: var(--fill-color);\n",
              "    }\n",
              "    40% {\n",
              "      border-color: transparent;\n",
              "      border-right-color: var(--fill-color);\n",
              "      border-top-color: var(--fill-color);\n",
              "    }\n",
              "    60% {\n",
              "      border-color: transparent;\n",
              "      border-right-color: var(--fill-color);\n",
              "    }\n",
              "    80% {\n",
              "      border-color: transparent;\n",
              "      border-right-color: var(--fill-color);\n",
              "      border-bottom-color: var(--fill-color);\n",
              "    }\n",
              "    90% {\n",
              "      border-color: transparent;\n",
              "      border-bottom-color: var(--fill-color);\n",
              "    }\n",
              "  }\n",
              "</style>\n",
              "\n",
              "  <script>\n",
              "    async function quickchart(key) {\n",
              "      const quickchartButtonEl =\n",
              "        document.querySelector('#' + key + ' button');\n",
              "      quickchartButtonEl.disabled = true;  // To prevent multiple clicks.\n",
              "      quickchartButtonEl.classList.add('colab-df-spinner');\n",
              "      try {\n",
              "        const charts = await google.colab.kernel.invokeFunction(\n",
              "            'suggestCharts', [key], {});\n",
              "      } catch (error) {\n",
              "        console.error('Error during call to suggestCharts:', error);\n",
              "      }\n",
              "      quickchartButtonEl.classList.remove('colab-df-spinner');\n",
              "      quickchartButtonEl.classList.add('colab-df-quickchart-complete');\n",
              "    }\n",
              "    (() => {\n",
              "      let quickchartButtonEl =\n",
              "        document.querySelector('#df-c866f36f-e74e-49d0-8d24-f896261de783 button');\n",
              "      quickchartButtonEl.style.display =\n",
              "        google.colab.kernel.accessAllowed ? 'block' : 'none';\n",
              "    })();\n",
              "  </script>\n",
              "</div>\n",
              "    </div>\n",
              "  </div>\n"
            ]
          },
          "metadata": {},
          "execution_count": 19
        }
      ]
    },
    {
      "cell_type": "code",
      "source": [
        "dataset.corr()"
      ],
      "metadata": {
        "colab": {
          "base_uri": "https://localhost:8080/"
        },
        "id": "5DzW-GrtOS8K",
        "outputId": "57630d05-58a8-425a-dd09-3a1ec3f3b15f"
      },
      "execution_count": null,
      "outputs": [
        {
          "output_type": "execute_result",
          "data": {
            "text/plain": [
              "                      ID       Age       Sex  ChestPainType  RestingBP  \\\n",
              "ID              1.000000  0.289604 -0.032528       0.067823   0.022075   \n",
              "Age             0.289604  1.000000  0.055750      -0.077150   0.254399   \n",
              "Sex            -0.032528  0.055750  1.000000      -0.126559   0.005133   \n",
              "ChestPainType   0.067823 -0.077150 -0.126559       1.000000  -0.020647   \n",
              "RestingBP       0.022075  0.254399  0.005133      -0.020647   1.000000   \n",
              "Cholesterol     0.111230 -0.095282 -0.200092       0.067880   0.100893   \n",
              "FastingBS       0.033716  0.198039  0.120076      -0.073151   0.070193   \n",
              "RestingECG     -0.382101 -0.007484  0.071552      -0.072537   0.022656   \n",
              "MaxHR           0.165221 -0.382045 -0.189186       0.289123  -0.112135   \n",
              "ExerciseAngina  0.033611  0.215793  0.190664      -0.354727   0.155101   \n",
              "Oldpeak         0.188523  0.258612  0.105734      -0.177377   0.164803   \n",
              "ST_Slope       -0.116606 -0.268264 -0.150693       0.213521  -0.075162   \n",
              "HeartDisease    0.055109  0.282039  0.305445      -0.386828   0.107589   \n",
              "\n",
              "                Cholesterol  FastingBS  RestingECG     MaxHR  ExerciseAngina  \\\n",
              "ID                 0.111230   0.033716   -0.382101  0.165221        0.033611   \n",
              "Age               -0.095282   0.198039   -0.007484 -0.382045        0.215793   \n",
              "Sex               -0.200092   0.120076    0.071552 -0.189186        0.190664   \n",
              "ChestPainType      0.067880  -0.073151   -0.072537  0.289123       -0.354727   \n",
              "RestingBP          0.100893   0.070193    0.022656 -0.112135        0.155101   \n",
              "Cholesterol        1.000000  -0.260974   -0.196544  0.235792       -0.034166   \n",
              "FastingBS         -0.260974   1.000000    0.087050 -0.131438        0.060451   \n",
              "RestingECG        -0.196544   0.087050    1.000000 -0.179276        0.077500   \n",
              "MaxHR              0.235792  -0.131438   -0.179276  1.000000       -0.370425   \n",
              "ExerciseAngina    -0.034166   0.060451    0.077500 -0.370425        1.000000   \n",
              "Oldpeak            0.050148   0.052698   -0.020438 -0.160691        0.408752   \n",
              "ST_Slope           0.111471  -0.175774   -0.006778  0.343419       -0.428706   \n",
              "HeartDisease      -0.232741   0.267291    0.057384 -0.400421        0.494282   \n",
              "\n",
              "                 Oldpeak  ST_Slope  HeartDisease  \n",
              "ID              0.188523 -0.116606      0.055109  \n",
              "Age             0.258612 -0.268264      0.282039  \n",
              "Sex             0.105734 -0.150693      0.305445  \n",
              "ChestPainType  -0.177377  0.213521     -0.386828  \n",
              "RestingBP       0.164803 -0.075162      0.107589  \n",
              "Cholesterol     0.050148  0.111471     -0.232741  \n",
              "FastingBS       0.052698 -0.175774      0.267291  \n",
              "RestingECG     -0.020438 -0.006778      0.057384  \n",
              "MaxHR          -0.160691  0.343419     -0.400421  \n",
              "ExerciseAngina  0.408752 -0.428706      0.494282  \n",
              "Oldpeak         1.000000 -0.501921      0.403951  \n",
              "ST_Slope       -0.501921  1.000000     -0.558771  \n",
              "HeartDisease    0.403951 -0.558771      1.000000  "
            ],
            "text/html": [
              "\n",
              "  <div id=\"df-ef5a355f-ef14-4cfc-b407-432e8dbb3953\" class=\"colab-df-container\">\n",
              "    <div>\n",
              "<style scoped>\n",
              "    .dataframe tbody tr th:only-of-type {\n",
              "        vertical-align: middle;\n",
              "    }\n",
              "\n",
              "    .dataframe tbody tr th {\n",
              "        vertical-align: top;\n",
              "    }\n",
              "\n",
              "    .dataframe thead th {\n",
              "        text-align: right;\n",
              "    }\n",
              "</style>\n",
              "<table border=\"1\" class=\"dataframe\">\n",
              "  <thead>\n",
              "    <tr style=\"text-align: right;\">\n",
              "      <th></th>\n",
              "      <th>ID</th>\n",
              "      <th>Age</th>\n",
              "      <th>Sex</th>\n",
              "      <th>ChestPainType</th>\n",
              "      <th>RestingBP</th>\n",
              "      <th>Cholesterol</th>\n",
              "      <th>FastingBS</th>\n",
              "      <th>RestingECG</th>\n",
              "      <th>MaxHR</th>\n",
              "      <th>ExerciseAngina</th>\n",
              "      <th>Oldpeak</th>\n",
              "      <th>ST_Slope</th>\n",
              "      <th>HeartDisease</th>\n",
              "    </tr>\n",
              "  </thead>\n",
              "  <tbody>\n",
              "    <tr>\n",
              "      <th>ID</th>\n",
              "      <td>1.000000</td>\n",
              "      <td>0.289604</td>\n",
              "      <td>-0.032528</td>\n",
              "      <td>0.067823</td>\n",
              "      <td>0.022075</td>\n",
              "      <td>0.111230</td>\n",
              "      <td>0.033716</td>\n",
              "      <td>-0.382101</td>\n",
              "      <td>0.165221</td>\n",
              "      <td>0.033611</td>\n",
              "      <td>0.188523</td>\n",
              "      <td>-0.116606</td>\n",
              "      <td>0.055109</td>\n",
              "    </tr>\n",
              "    <tr>\n",
              "      <th>Age</th>\n",
              "      <td>0.289604</td>\n",
              "      <td>1.000000</td>\n",
              "      <td>0.055750</td>\n",
              "      <td>-0.077150</td>\n",
              "      <td>0.254399</td>\n",
              "      <td>-0.095282</td>\n",
              "      <td>0.198039</td>\n",
              "      <td>-0.007484</td>\n",
              "      <td>-0.382045</td>\n",
              "      <td>0.215793</td>\n",
              "      <td>0.258612</td>\n",
              "      <td>-0.268264</td>\n",
              "      <td>0.282039</td>\n",
              "    </tr>\n",
              "    <tr>\n",
              "      <th>Sex</th>\n",
              "      <td>-0.032528</td>\n",
              "      <td>0.055750</td>\n",
              "      <td>1.000000</td>\n",
              "      <td>-0.126559</td>\n",
              "      <td>0.005133</td>\n",
              "      <td>-0.200092</td>\n",
              "      <td>0.120076</td>\n",
              "      <td>0.071552</td>\n",
              "      <td>-0.189186</td>\n",
              "      <td>0.190664</td>\n",
              "      <td>0.105734</td>\n",
              "      <td>-0.150693</td>\n",
              "      <td>0.305445</td>\n",
              "    </tr>\n",
              "    <tr>\n",
              "      <th>ChestPainType</th>\n",
              "      <td>0.067823</td>\n",
              "      <td>-0.077150</td>\n",
              "      <td>-0.126559</td>\n",
              "      <td>1.000000</td>\n",
              "      <td>-0.020647</td>\n",
              "      <td>0.067880</td>\n",
              "      <td>-0.073151</td>\n",
              "      <td>-0.072537</td>\n",
              "      <td>0.289123</td>\n",
              "      <td>-0.354727</td>\n",
              "      <td>-0.177377</td>\n",
              "      <td>0.213521</td>\n",
              "      <td>-0.386828</td>\n",
              "    </tr>\n",
              "    <tr>\n",
              "      <th>RestingBP</th>\n",
              "      <td>0.022075</td>\n",
              "      <td>0.254399</td>\n",
              "      <td>0.005133</td>\n",
              "      <td>-0.020647</td>\n",
              "      <td>1.000000</td>\n",
              "      <td>0.100893</td>\n",
              "      <td>0.070193</td>\n",
              "      <td>0.022656</td>\n",
              "      <td>-0.112135</td>\n",
              "      <td>0.155101</td>\n",
              "      <td>0.164803</td>\n",
              "      <td>-0.075162</td>\n",
              "      <td>0.107589</td>\n",
              "    </tr>\n",
              "    <tr>\n",
              "      <th>Cholesterol</th>\n",
              "      <td>0.111230</td>\n",
              "      <td>-0.095282</td>\n",
              "      <td>-0.200092</td>\n",
              "      <td>0.067880</td>\n",
              "      <td>0.100893</td>\n",
              "      <td>1.000000</td>\n",
              "      <td>-0.260974</td>\n",
              "      <td>-0.196544</td>\n",
              "      <td>0.235792</td>\n",
              "      <td>-0.034166</td>\n",
              "      <td>0.050148</td>\n",
              "      <td>0.111471</td>\n",
              "      <td>-0.232741</td>\n",
              "    </tr>\n",
              "    <tr>\n",
              "      <th>FastingBS</th>\n",
              "      <td>0.033716</td>\n",
              "      <td>0.198039</td>\n",
              "      <td>0.120076</td>\n",
              "      <td>-0.073151</td>\n",
              "      <td>0.070193</td>\n",
              "      <td>-0.260974</td>\n",
              "      <td>1.000000</td>\n",
              "      <td>0.087050</td>\n",
              "      <td>-0.131438</td>\n",
              "      <td>0.060451</td>\n",
              "      <td>0.052698</td>\n",
              "      <td>-0.175774</td>\n",
              "      <td>0.267291</td>\n",
              "    </tr>\n",
              "    <tr>\n",
              "      <th>RestingECG</th>\n",
              "      <td>-0.382101</td>\n",
              "      <td>-0.007484</td>\n",
              "      <td>0.071552</td>\n",
              "      <td>-0.072537</td>\n",
              "      <td>0.022656</td>\n",
              "      <td>-0.196544</td>\n",
              "      <td>0.087050</td>\n",
              "      <td>1.000000</td>\n",
              "      <td>-0.179276</td>\n",
              "      <td>0.077500</td>\n",
              "      <td>-0.020438</td>\n",
              "      <td>-0.006778</td>\n",
              "      <td>0.057384</td>\n",
              "    </tr>\n",
              "    <tr>\n",
              "      <th>MaxHR</th>\n",
              "      <td>0.165221</td>\n",
              "      <td>-0.382045</td>\n",
              "      <td>-0.189186</td>\n",
              "      <td>0.289123</td>\n",
              "      <td>-0.112135</td>\n",
              "      <td>0.235792</td>\n",
              "      <td>-0.131438</td>\n",
              "      <td>-0.179276</td>\n",
              "      <td>1.000000</td>\n",
              "      <td>-0.370425</td>\n",
              "      <td>-0.160691</td>\n",
              "      <td>0.343419</td>\n",
              "      <td>-0.400421</td>\n",
              "    </tr>\n",
              "    <tr>\n",
              "      <th>ExerciseAngina</th>\n",
              "      <td>0.033611</td>\n",
              "      <td>0.215793</td>\n",
              "      <td>0.190664</td>\n",
              "      <td>-0.354727</td>\n",
              "      <td>0.155101</td>\n",
              "      <td>-0.034166</td>\n",
              "      <td>0.060451</td>\n",
              "      <td>0.077500</td>\n",
              "      <td>-0.370425</td>\n",
              "      <td>1.000000</td>\n",
              "      <td>0.408752</td>\n",
              "      <td>-0.428706</td>\n",
              "      <td>0.494282</td>\n",
              "    </tr>\n",
              "    <tr>\n",
              "      <th>Oldpeak</th>\n",
              "      <td>0.188523</td>\n",
              "      <td>0.258612</td>\n",
              "      <td>0.105734</td>\n",
              "      <td>-0.177377</td>\n",
              "      <td>0.164803</td>\n",
              "      <td>0.050148</td>\n",
              "      <td>0.052698</td>\n",
              "      <td>-0.020438</td>\n",
              "      <td>-0.160691</td>\n",
              "      <td>0.408752</td>\n",
              "      <td>1.000000</td>\n",
              "      <td>-0.501921</td>\n",
              "      <td>0.403951</td>\n",
              "    </tr>\n",
              "    <tr>\n",
              "      <th>ST_Slope</th>\n",
              "      <td>-0.116606</td>\n",
              "      <td>-0.268264</td>\n",
              "      <td>-0.150693</td>\n",
              "      <td>0.213521</td>\n",
              "      <td>-0.075162</td>\n",
              "      <td>0.111471</td>\n",
              "      <td>-0.175774</td>\n",
              "      <td>-0.006778</td>\n",
              "      <td>0.343419</td>\n",
              "      <td>-0.428706</td>\n",
              "      <td>-0.501921</td>\n",
              "      <td>1.000000</td>\n",
              "      <td>-0.558771</td>\n",
              "    </tr>\n",
              "    <tr>\n",
              "      <th>HeartDisease</th>\n",
              "      <td>0.055109</td>\n",
              "      <td>0.282039</td>\n",
              "      <td>0.305445</td>\n",
              "      <td>-0.386828</td>\n",
              "      <td>0.107589</td>\n",
              "      <td>-0.232741</td>\n",
              "      <td>0.267291</td>\n",
              "      <td>0.057384</td>\n",
              "      <td>-0.400421</td>\n",
              "      <td>0.494282</td>\n",
              "      <td>0.403951</td>\n",
              "      <td>-0.558771</td>\n",
              "      <td>1.000000</td>\n",
              "    </tr>\n",
              "  </tbody>\n",
              "</table>\n",
              "</div>\n",
              "    <div class=\"colab-df-buttons\">\n",
              "\n",
              "  <div class=\"colab-df-container\">\n",
              "    <button class=\"colab-df-convert\" onclick=\"convertToInteractive('df-ef5a355f-ef14-4cfc-b407-432e8dbb3953')\"\n",
              "            title=\"Convert this dataframe to an interactive table.\"\n",
              "            style=\"display:none;\">\n",
              "\n",
              "  <svg xmlns=\"http://www.w3.org/2000/svg\" height=\"24px\" viewBox=\"0 -960 960 960\">\n",
              "    <path d=\"M120-120v-720h720v720H120Zm60-500h600v-160H180v160Zm220 220h160v-160H400v160Zm0 220h160v-160H400v160ZM180-400h160v-160H180v160Zm440 0h160v-160H620v160ZM180-180h160v-160H180v160Zm440 0h160v-160H620v160Z\"/>\n",
              "  </svg>\n",
              "    </button>\n",
              "\n",
              "  <style>\n",
              "    .colab-df-container {\n",
              "      display:flex;\n",
              "      gap: 12px;\n",
              "    }\n",
              "\n",
              "    .colab-df-convert {\n",
              "      background-color: #E8F0FE;\n",
              "      border: none;\n",
              "      border-radius: 50%;\n",
              "      cursor: pointer;\n",
              "      display: none;\n",
              "      fill: #1967D2;\n",
              "      height: 32px;\n",
              "      padding: 0 0 0 0;\n",
              "      width: 32px;\n",
              "    }\n",
              "\n",
              "    .colab-df-convert:hover {\n",
              "      background-color: #E2EBFA;\n",
              "      box-shadow: 0px 1px 2px rgba(60, 64, 67, 0.3), 0px 1px 3px 1px rgba(60, 64, 67, 0.15);\n",
              "      fill: #174EA6;\n",
              "    }\n",
              "\n",
              "    .colab-df-buttons div {\n",
              "      margin-bottom: 4px;\n",
              "    }\n",
              "\n",
              "    [theme=dark] .colab-df-convert {\n",
              "      background-color: #3B4455;\n",
              "      fill: #D2E3FC;\n",
              "    }\n",
              "\n",
              "    [theme=dark] .colab-df-convert:hover {\n",
              "      background-color: #434B5C;\n",
              "      box-shadow: 0px 1px 3px 1px rgba(0, 0, 0, 0.15);\n",
              "      filter: drop-shadow(0px 1px 2px rgba(0, 0, 0, 0.3));\n",
              "      fill: #FFFFFF;\n",
              "    }\n",
              "  </style>\n",
              "\n",
              "    <script>\n",
              "      const buttonEl =\n",
              "        document.querySelector('#df-ef5a355f-ef14-4cfc-b407-432e8dbb3953 button.colab-df-convert');\n",
              "      buttonEl.style.display =\n",
              "        google.colab.kernel.accessAllowed ? 'block' : 'none';\n",
              "\n",
              "      async function convertToInteractive(key) {\n",
              "        const element = document.querySelector('#df-ef5a355f-ef14-4cfc-b407-432e8dbb3953');\n",
              "        const dataTable =\n",
              "          await google.colab.kernel.invokeFunction('convertToInteractive',\n",
              "                                                    [key], {});\n",
              "        if (!dataTable) return;\n",
              "\n",
              "        const docLinkHtml = 'Like what you see? Visit the ' +\n",
              "          '<a target=\"_blank\" href=https://colab.research.google.com/notebooks/data_table.ipynb>data table notebook</a>'\n",
              "          + ' to learn more about interactive tables.';\n",
              "        element.innerHTML = '';\n",
              "        dataTable['output_type'] = 'display_data';\n",
              "        await google.colab.output.renderOutput(dataTable, element);\n",
              "        const docLink = document.createElement('div');\n",
              "        docLink.innerHTML = docLinkHtml;\n",
              "        element.appendChild(docLink);\n",
              "      }\n",
              "    </script>\n",
              "  </div>\n",
              "\n",
              "\n",
              "<div id=\"df-cf6b2ec3-7559-493e-ad80-5fba9661c612\">\n",
              "  <button class=\"colab-df-quickchart\" onclick=\"quickchart('df-cf6b2ec3-7559-493e-ad80-5fba9661c612')\"\n",
              "            title=\"Suggest charts.\"\n",
              "            style=\"display:none;\">\n",
              "\n",
              "<svg xmlns=\"http://www.w3.org/2000/svg\" height=\"24px\"viewBox=\"0 0 24 24\"\n",
              "     width=\"24px\">\n",
              "    <g>\n",
              "        <path d=\"M19 3H5c-1.1 0-2 .9-2 2v14c0 1.1.9 2 2 2h14c1.1 0 2-.9 2-2V5c0-1.1-.9-2-2-2zM9 17H7v-7h2v7zm4 0h-2V7h2v10zm4 0h-2v-4h2v4z\"/>\n",
              "    </g>\n",
              "</svg>\n",
              "  </button>\n",
              "\n",
              "<style>\n",
              "  .colab-df-quickchart {\n",
              "      --bg-color: #E8F0FE;\n",
              "      --fill-color: #1967D2;\n",
              "      --hover-bg-color: #E2EBFA;\n",
              "      --hover-fill-color: #174EA6;\n",
              "      --disabled-fill-color: #AAA;\n",
              "      --disabled-bg-color: #DDD;\n",
              "  }\n",
              "\n",
              "  [theme=dark] .colab-df-quickchart {\n",
              "      --bg-color: #3B4455;\n",
              "      --fill-color: #D2E3FC;\n",
              "      --hover-bg-color: #434B5C;\n",
              "      --hover-fill-color: #FFFFFF;\n",
              "      --disabled-bg-color: #3B4455;\n",
              "      --disabled-fill-color: #666;\n",
              "  }\n",
              "\n",
              "  .colab-df-quickchart {\n",
              "    background-color: var(--bg-color);\n",
              "    border: none;\n",
              "    border-radius: 50%;\n",
              "    cursor: pointer;\n",
              "    display: none;\n",
              "    fill: var(--fill-color);\n",
              "    height: 32px;\n",
              "    padding: 0;\n",
              "    width: 32px;\n",
              "  }\n",
              "\n",
              "  .colab-df-quickchart:hover {\n",
              "    background-color: var(--hover-bg-color);\n",
              "    box-shadow: 0 1px 2px rgba(60, 64, 67, 0.3), 0 1px 3px 1px rgba(60, 64, 67, 0.15);\n",
              "    fill: var(--button-hover-fill-color);\n",
              "  }\n",
              "\n",
              "  .colab-df-quickchart-complete:disabled,\n",
              "  .colab-df-quickchart-complete:disabled:hover {\n",
              "    background-color: var(--disabled-bg-color);\n",
              "    fill: var(--disabled-fill-color);\n",
              "    box-shadow: none;\n",
              "  }\n",
              "\n",
              "  .colab-df-spinner {\n",
              "    border: 2px solid var(--fill-color);\n",
              "    border-color: transparent;\n",
              "    border-bottom-color: var(--fill-color);\n",
              "    animation:\n",
              "      spin 1s steps(1) infinite;\n",
              "  }\n",
              "\n",
              "  @keyframes spin {\n",
              "    0% {\n",
              "      border-color: transparent;\n",
              "      border-bottom-color: var(--fill-color);\n",
              "      border-left-color: var(--fill-color);\n",
              "    }\n",
              "    20% {\n",
              "      border-color: transparent;\n",
              "      border-left-color: var(--fill-color);\n",
              "      border-top-color: var(--fill-color);\n",
              "    }\n",
              "    30% {\n",
              "      border-color: transparent;\n",
              "      border-left-color: var(--fill-color);\n",
              "      border-top-color: var(--fill-color);\n",
              "      border-right-color: var(--fill-color);\n",
              "    }\n",
              "    40% {\n",
              "      border-color: transparent;\n",
              "      border-right-color: var(--fill-color);\n",
              "      border-top-color: var(--fill-color);\n",
              "    }\n",
              "    60% {\n",
              "      border-color: transparent;\n",
              "      border-right-color: var(--fill-color);\n",
              "    }\n",
              "    80% {\n",
              "      border-color: transparent;\n",
              "      border-right-color: var(--fill-color);\n",
              "      border-bottom-color: var(--fill-color);\n",
              "    }\n",
              "    90% {\n",
              "      border-color: transparent;\n",
              "      border-bottom-color: var(--fill-color);\n",
              "    }\n",
              "  }\n",
              "</style>\n",
              "\n",
              "  <script>\n",
              "    async function quickchart(key) {\n",
              "      const quickchartButtonEl =\n",
              "        document.querySelector('#' + key + ' button');\n",
              "      quickchartButtonEl.disabled = true;  // To prevent multiple clicks.\n",
              "      quickchartButtonEl.classList.add('colab-df-spinner');\n",
              "      try {\n",
              "        const charts = await google.colab.kernel.invokeFunction(\n",
              "            'suggestCharts', [key], {});\n",
              "      } catch (error) {\n",
              "        console.error('Error during call to suggestCharts:', error);\n",
              "      }\n",
              "      quickchartButtonEl.classList.remove('colab-df-spinner');\n",
              "      quickchartButtonEl.classList.add('colab-df-quickchart-complete');\n",
              "    }\n",
              "    (() => {\n",
              "      let quickchartButtonEl =\n",
              "        document.querySelector('#df-cf6b2ec3-7559-493e-ad80-5fba9661c612 button');\n",
              "      quickchartButtonEl.style.display =\n",
              "        google.colab.kernel.accessAllowed ? 'block' : 'none';\n",
              "    })();\n",
              "  </script>\n",
              "</div>\n",
              "    </div>\n",
              "  </div>\n"
            ]
          },
          "metadata": {},
          "execution_count": 20
        }
      ]
    },
    {
      "cell_type": "code",
      "source": [
        "corrmat=dataset.corr()\n",
        "f,ax=plt.subplots(figsize=(10,8))\n",
        "sns.heatmap(corrmat,ax=ax,cmap=\"Reds\",linewidth=0.8,annot=True)"
      ],
      "metadata": {
        "colab": {
          "base_uri": "https://localhost:8080/"
        },
        "id": "7zzqpqQ4OYWr",
        "outputId": "ac6c0bdc-17d6-4906-f247-74e25355ae81"
      },
      "execution_count": null,
      "outputs": [
        {
          "output_type": "execute_result",
          "data": {
            "text/plain": [
              "<Axes: >"
            ]
          },
          "metadata": {},
          "execution_count": 21
        },
        {
          "output_type": "display_data",
          "data": {
            "text/plain": [
              "<Figure size 1000x800 with 2 Axes>"
            ],
            "image/png": "[encoded data removed]"
          },
          "metadata": {}
        }
      ]
    },
    {
      "cell_type": "code",
      "source": [
        "dataset.info"
      ],
      "metadata": {
        "colab": {
          "base_uri": "https://localhost:8080/"
        },
        "id": "ucX5qaKOOsL_",
        "outputId": "4c15acc2-7585-4910-f01c-dabdf2fb839b"
      },
      "execution_count": null,
      "outputs": [
        {
          "output_type": "execute_result",
          "data": {
            "text/plain": [
              "<bound method DataFrame.info of       ID  Age  Sex  ChestPainType  RestingBP  Cholesterol  FastingBS  \\\n",
              "0      1   40    1              1        140          289          0   \n",
              "1      2   49    0              2        160          180          0   \n",
              "2      3   37    1              1        130          283          0   \n",
              "3      4   48    0              0        138          214          0   \n",
              "4      5   54    1              2        150          195          0   \n",
              "..   ...  ...  ...            ...        ...          ...        ...   \n",
              "913  914   45    1              3        110          264          0   \n",
              "914  915   68    1              0        144          193          1   \n",
              "915  916   57    1              0        130          131          0   \n",
              "916  917   57    0              1        130          236          0   \n",
              "917  918   38    1              2        138          175          0   \n",
              "\n",
              "     RestingECG  MaxHR  ExerciseAngina  Oldpeak  ST_Slope  HeartDisease  \n",
              "0             1    172               0      0.0         2             0  \n",
              "1             1    156               0      1.0         1             1  \n",
              "2             2     98               0      0.0         2             0  \n",
              "3             1    108               1      1.5         1             1  \n",
              "4             1    122               0      0.0         2             0  \n",
              "..          ...    ...             ...      ...       ...           ...  \n",
              "913           1    132               0      1.2         1             1  \n",
              "914           1    141               0      3.4         1             1  \n",
              "915           1    115               1      1.2         1             1  \n",
              "916           0    174               0      0.0         1             1  \n",
              "917           1    173               0      0.0         2             0  \n",
              "\n",
              "[918 rows x 13 columns]>"
            ]
          },
          "metadata": {},
          "execution_count": 22
        }
      ]
    },
    {
      "cell_type": "code",
      "source": [
        "X = dataset.drop('HeartDisease', axis = 1)\n",
        "y = dataset['HeartDisease']\n",
        "X.shape, y.shape"
      ],
      "metadata": {
        "colab": {
          "base_uri": "https://localhost:8080/"
        },
        "id": "ymcfU1xnPbJh",
        "outputId": "6cf5f229-6efc-4f0f-82ce-37f871915379"
      },
      "execution_count": null,
      "outputs": [
        {
          "output_type": "execute_result",
          "data": {
            "text/plain": [
              "((918, 12), (918,))"
            ]
          },
          "metadata": {},
          "execution_count": 23
        }
      ]
    },
    {
      "cell_type": "code",
      "source": [
        "scaler = StandardScaler()\n",
        "X_scaled = scaler.fit_transform(X)\n",
        "X_scaled"
      ],
      "metadata": {
        "colab": {
          "base_uri": "https://localhost:8080/"
        },
        "id": "dPM6bDlRm0xG",
        "outputId": "d896e90c-61e4-41bc-bab1-d118300d8bc3"
      },
      "execution_count": null,
      "outputs": [
        {
          "output_type": "execute_result",
          "data": {
            "text/plain": [
              "array([[-1.73016507, -1.4331398 ,  0.51595242, ..., -0.8235563 ,\n",
              "        -0.83243239,  1.05211381],\n",
              "       [-1.72639154, -0.47848359, -1.93816322, ..., -0.8235563 ,\n",
              "         0.10566353, -0.59607813],\n",
              "       [-1.722618  , -1.75135854,  0.51595242, ..., -0.8235563 ,\n",
              "        -0.83243239,  1.05211381],\n",
              "       ...,\n",
              "       [ 1.722618  ,  0.37009972,  0.51595242, ...,  1.21424608,\n",
              "         0.29328271, -0.59607813],\n",
              "       [ 1.72639154,  0.37009972, -1.93816322, ..., -0.8235563 ,\n",
              "        -0.83243239, -0.59607813],\n",
              "       [ 1.73016507, -1.64528563,  0.51595242, ..., -0.8235563 ,\n",
              "        -0.83243239,  1.05211381]])"
            ]
          },
          "metadata": {},
          "execution_count": 24
        }
      ]
    },
    {
      "cell_type": "code",
      "source": [
        "#split target and attribute\n",
        "x = dataset.iloc[:,0:12]\n",
        "y = dataset.iloc[:,12]\n",
        "\n",
        "#split train n test dataset\n",
        "X_train, X_test, y_train, y_test = train_test_split(x,y, random_state=0, test_size=0.2)\n",
        "print(len(y_test))\n",
        "print(len(X_train))\n",
        "print(len(dataset))\n",
        "\n",
        "print(x)\n",
        "print(y)"
      ],
      "metadata": {
        "colab": {
          "base_uri": "https://localhost:8080/"
        },
        "id": "ivoTmyLwOz5M",
        "outputId": "bad2cd51-340a-451d-9906-612701a964a9"
      },
      "execution_count": null,
      "outputs": [
        {
          "output_type": "stream",
          "name": "stdout",
          "text": [
            "184\n",
            "734\n",
            "918\n",
            "      ID  Age  Sex  ChestPainType  RestingBP  Cholesterol  FastingBS  \\\n",
            "0      1   40    1              1        140          289          0   \n",
            "1      2   49    0              2        160          180          0   \n",
            "2      3   37    1              1        130          283          0   \n",
            "3      4   48    0              0        138          214          0   \n",
            "4      5   54    1              2        150          195          0   \n",
            "..   ...  ...  ...            ...        ...          ...        ...   \n",
            "913  914   45    1              3        110          264          0   \n",
            "914  915   68    1              0        144          193          1   \n",
            "915  916   57    1              0        130          131          0   \n",
            "916  917   57    0              1        130          236          0   \n",
            "917  918   38    1              2        138          175          0   \n",
            "\n",
            "     RestingECG  MaxHR  ExerciseAngina  Oldpeak  ST_Slope  \n",
            "0             1    172               0      0.0         2  \n",
            "1             1    156               0      1.0         1  \n",
            "2             2     98               0      0.0         2  \n",
            "3             1    108               1      1.5         1  \n",
            "4             1    122               0      0.0         2  \n",
            "..          ...    ...             ...      ...       ...  \n",
            "913           1    132               0      1.2         1  \n",
            "914           1    141               0      3.4         1  \n",
            "915           1    115               1      1.2         1  \n",
            "916           0    174               0      0.0         1  \n",
            "917           1    173               0      0.0         2  \n",
            "\n",
            "[918 rows x 12 columns]\n",
            "0      0\n",
            "1      1\n",
            "2      0\n",
            "3      1\n",
            "4      0\n",
            "      ..\n",
            "913    1\n",
            "914    1\n",
            "915    1\n",
            "916    1\n",
            "917    0\n",
            "Name: HeartDisease, Length: 918, dtype: int64\n"
          ]
        }
      ]
    },
    {
      "cell_type": "markdown",
      "source": [
        "# ***Remove Constant, Quasi Constant and Duplicate Features***"
      ],
      "metadata": {
        "id": "tZEfRGpiPokr"
      }
    },
    {
      "cell_type": "code",
      "source": [
        "constant_filter = VarianceThreshold(threshold=0.01)\n",
        "constant_filter.fit(X_train)\n",
        "X_train_filter = constant_filter.transform(X_train)\n",
        "X_test_filter = constant_filter.transform(X_test)\n",
        "X_train_filter.shape, X_test_filter.shape"
      ],
      "metadata": {
        "colab": {
          "base_uri": "https://localhost:8080/"
        },
        "id": "oFNN1S3bPpYP",
        "outputId": "1e190d78-852f-4520-a709-3ac430939d7a"
      },
      "execution_count": null,
      "outputs": [
        {
          "output_type": "execute_result",
          "data": {
            "text/plain": [
              "((734, 12), (184, 12))"
            ]
          },
          "metadata": {},
          "execution_count": 26
        }
      ]
    },
    {
      "cell_type": "markdown",
      "source": [
        "Let's remove duplicated features from the data.\n",
        "\n"
      ],
      "metadata": {
        "id": "4l1zW_bSPvYM"
      }
    },
    {
      "cell_type": "code",
      "source": [
        "constant_filter = VarianceThreshold(threshold=0.01)\n",
        "constant_filter.fit(X_train)\n",
        "X_train_filter = constant_filter.transform(X_train)\n",
        "X_test_filter = constant_filter.transform(X_test)\n",
        "X_train_filter.shape,\n",
        "X_test_filter.shape"
      ],
      "metadata": {
        "colab": {
          "base_uri": "https://localhost:8080/"
        },
        "id": "nwwbFfgYPvKQ",
        "outputId": "a7fc89c9-1804-497b-cdab-7d99b318a1fe"
      },
      "execution_count": null,
      "outputs": [
        {
          "output_type": "execute_result",
          "data": {
            "text/plain": [
              "(184, 12)"
            ]
          },
          "metadata": {},
          "execution_count": 27
        }
      ]
    },
    {
      "cell_type": "code",
      "source": [
        "# Create a boolean mask indicating duplicated columns\n",
        "duplicated_features = X_train.columns.duplicated()\n",
        "\n",
        "# Invert the boolean mask to keep non-duplicated columns\n",
        "features_to_keep = ~duplicated_features\n",
        "\n",
        "# Use the mask to select columns in your DataFrames\n",
        "X_train_unique = X_train.loc[:, features_to_keep]\n",
        "X_test_unique = X_test.loc[:, features_to_keep]\n"
      ],
      "metadata": {
        "id": "BfOAgHh5P_Xi"
      },
      "execution_count": null,
      "outputs": []
    },
    {
      "cell_type": "markdown",
      "source": [
        "Let's go ahead and standardize the data to get the same scale."
      ],
      "metadata": {
        "id": "tQr4blHZQBnF"
      }
    },
    {
      "cell_type": "code",
      "source": [
        "scaler = StandardScaler().fit(X_train_unique)\n",
        "X_train_unique = scaler.transform(X_train_unique)\n",
        "X_test_unique = scaler.transform(X_test_unique)\n",
        "X_train_unique = pd.DataFrame(X_train_unique)\n",
        "X_test_unique = pd.DataFrame(X_test_unique)\n",
        "X_train_unique.shape, X_test_unique.shape"
      ],
      "metadata": {
        "colab": {
          "base_uri": "https://localhost:8080/"
        },
        "id": "9IDbKHe0QCmn",
        "outputId": "b580249c-736e-40c2-8778-572830ec9ec4"
      },
      "execution_count": null,
      "outputs": [
        {
          "output_type": "execute_result",
          "data": {
            "text/plain": [
              "((734, 12), (184, 12))"
            ]
          },
          "metadata": {},
          "execution_count": 29
        }
      ]
    },
    {
      "cell_type": "markdown",
      "source": [
        "Removal of correlated Feature"
      ],
      "metadata": {
        "id": "EQWrmRLtQupz"
      }
    },
    {
      "cell_type": "code",
      "source": [
        "corrmat = X_train_unique.corr()"
      ],
      "metadata": {
        "id": "ZjfCb9ZHQyYT"
      },
      "execution_count": null,
      "outputs": []
    },
    {
      "cell_type": "code",
      "source": [
        "def get_correlation(data, threshold):\n",
        "    corr_col = set()\n",
        "    corrmat = data.corr()\n",
        "    for i in range(len(corrmat.columns)):\n",
        "        for j in range(i):\n",
        "            if abs(corrmat.iloc[i, j]) > threshold:\n",
        "                colname = corrmat.columns[i]\n",
        "                corr_col.add(colname)\n",
        "    return corr_col\n",
        "\n",
        "corr_features = get_correlation(X_train_unique, 0.70)\n",
        "print('correlated features: ', len(set(corr_features)) )"
      ],
      "metadata": {
        "colab": {
          "base_uri": "https://localhost:8080/"
        },
        "id": "0_gIpvB_Q01x",
        "outputId": "152ebd54-143e-4e68-ad69-672affea1c51"
      },
      "execution_count": null,
      "outputs": [
        {
          "output_type": "stream",
          "name": "stdout",
          "text": [
            "correlated features:  0\n"
          ]
        }
      ]
    },
    {
      "cell_type": "code",
      "source": [
        "X_train_uncorr = X_train_unique.drop(labels=corr_features, axis = 1)\n",
        "X_test_uncorr = X_test_unique.drop(labels = corr_features, axis = 1)\n",
        "X_train_uncorr.shape, X_test_uncorr.shape"
      ],
      "metadata": {
        "colab": {
          "base_uri": "https://localhost:8080/"
        },
        "id": "s2MOiIQmQ5j2",
        "outputId": "e5afdacc-022f-4bb1-9730-bd082767263d"
      },
      "execution_count": null,
      "outputs": [
        {
          "output_type": "execute_result",
          "data": {
            "text/plain": [
              "((734, 12), (184, 12))"
            ]
          },
          "metadata": {},
          "execution_count": 32
        }
      ]
    },
    {
      "cell_type": "markdown",
      "source": [
        "Before and After Data Processing:\n",
        "\n",
        "Before Data Processing:\n",
        "- The original dataset had 12 features.\n",
        "- The data was standardized, which means it was scaled to have a mean of 0 and a standard deviation of 1.\n",
        "- Duplicated features were removed, resulting in fewer features with the same data.\n",
        "- No correlated features were found, so no correlated features were removed.\n",
        "\n",
        "After Data Processing:\n",
        "- The dataset still contains 12 features.\n",
        "- The data is standardized, which can help machine learning models perform better.\n",
        "- Duplicated features were removed, which reduced the number of features with duplicated data.\n",
        "- No correlated features were found, so no correlated features were removed.\n",
        "\n",
        "In summary, the data processing steps helped standardize the data and remove duplicated features, but no correlated features were detected in this specific dataset. The dataset size and the number of features remained the same after processing."
      ],
      "metadata": {
        "id": "R7nj44rg4hcq"
      }
    },
    {
      "cell_type": "markdown",
      "source": [
        "# ***Univariate feature selection***"
      ],
      "metadata": {
        "id": "VqVTgvhXtC8w"
      }
    },
    {
      "cell_type": "markdown",
      "source": [
        "Univariate feature selection is a method to choose the most important features from a dataset one at a time, based on their individual relationships with the target variable. It involves testing each feature independently and selecting those that have the strongest connection to the target, which can help simplify the data for machine learning models."
      ],
      "metadata": {
        "id": "SBQee2-mtLYT"
      }
    },
    {
      "cell_type": "code",
      "source": [
        "scaler = MinMaxScaler()\n",
        "X_train_scaled = scaler.fit_transform(X_train)\n",
        "\n",
        "bestfeatures = SelectKBest(score_func=chi2, k=3)\n",
        "select = bestfeatures.fit(X_train_scaled, y_train)\n",
        "X_train_selected = select.transform(X_train_scaled)\n",
        "\n",
        "print(\"X_train.shape: {}\".format(X_train.shape))\n",
        "print(\"X_train_selected.shape: {}\".format(X_train_selected.shape))"
      ],
      "metadata": {
        "colab": {
          "base_uri": "https://localhost:8080/"
        },
        "id": "k6UQNuT_tNj7",
        "outputId": "ab080602-8b41-4561-dbe4-298f0c8ea81b"
      },
      "execution_count": null,
      "outputs": [
        {
          "output_type": "stream",
          "name": "stdout",
          "text": [
            "X_train.shape: (734, 12)\n",
            "X_train_selected.shape: (734, 3)\n"
          ]
        }
      ]
    },
    {
      "cell_type": "markdown",
      "source": [
        "Which feature we have choose"
      ],
      "metadata": {
        "id": "94WeAVCptR3f"
      }
    },
    {
      "cell_type": "code",
      "source": [
        "mask= select.get_support()\n",
        "mask"
      ],
      "metadata": {
        "colab": {
          "base_uri": "https://localhost:8080/"
        },
        "id": "IAsknvEStSjn",
        "outputId": "6a610555-1fcf-4daf-dc13-38dba6ffab68"
      },
      "execution_count": null,
      "outputs": [
        {
          "output_type": "execute_result",
          "data": {
            "text/plain": [
              "array([False, False, False,  True, False, False,  True, False, False,\n",
              "        True, False, False])"
            ]
          },
          "metadata": {},
          "execution_count": 34
        }
      ]
    },
    {
      "cell_type": "code",
      "source": [
        "plt.matshow(mask.reshape(1,-1),cmap='gray_r')\n",
        "plt.xlabel(\"samle index\")\n",
        "plt.yticks(())"
      ],
      "metadata": {
        "colab": {
          "base_uri": "https://localhost:8080/"
        },
        "id": "NQq62-1ux0zo",
        "outputId": "799b2791-f405-4fe7-9d31-3447204e682d"
      },
      "execution_count": null,
      "outputs": [
        {
          "output_type": "execute_result",
          "data": {
            "text/plain": [
              "([], [])"
            ]
          },
          "metadata": {},
          "execution_count": 35
        },
        {
          "output_type": "display_data",
          "data": {
            "text/plain": [
              "<Figure size 1600x200 with 1 Axes>"
            ],
            "image/png": "[encoded data removed]"
          },
          "metadata": {}
        }
      ]
    },
    {
      "cell_type": "code",
      "source": [
        "X_test_selected = select.transform(X_test)\n",
        "\n",
        "model = RandomForestClassifier(n_estimators=100,random_state=42)\n",
        "model.fit (X_train,y_train)\n",
        "print(\"Score with all features: {:.3f}\".format(model.score(X_test,y_test)))\n",
        "\n",
        "model.fit (X_train_selected,y_train)\n",
        "print(\"Score with selected features: {:.3f}\".format(model.score(X_test_selected,y_test)))"
      ],
      "metadata": {
        "colab": {
          "base_uri": "https://localhost:8080/"
        },
        "id": "s-JzcmS0x6n4",
        "outputId": "fd8badac-722e-4142-e063-352ffcbdf8c6"
      },
      "execution_count": null,
      "outputs": [
        {
          "output_type": "stream",
          "name": "stderr",
          "text": [
            "/usr/local/lib/python3.10/dist-packages/sklearn/base.py:432: UserWarning: X has feature names, but SelectKBest was fitted without feature names\n",
            "  warnings.warn(\n"
          ]
        },
        {
          "output_type": "stream",
          "name": "stdout",
          "text": [
            "Score with all features: 0.853\n",
            "Score with selected features: 0.745\n"
          ]
        }
      ]
    },
    {
      "cell_type": "markdown",
      "source": [
        "lets plot the features we selected and compare them to the features we've ignored"
      ],
      "metadata": {
        "id": "6lXynOW-tV_4"
      }
    },
    {
      "cell_type": "markdown",
      "source": [
        "Certainly, let's analyze the results before and after applying Univariate Feature Selection:\n",
        "\n",
        "**Before Univariate Feature Selection:**\n",
        "- The original dataset contains 12 features.\n",
        "- The model trained on this dataset achieved an accuracy of 0.853 on the test data.\n",
        "\n",
        "**After Univariate Feature Selection:**\n",
        "- Univariate Feature Selection was used to choose the top 3 features with the strongest relationships to the target variable.\n",
        "- The selected features were the 4th, 7th, and 10th features from the original dataset.\n",
        "- A new dataset was created with only these selected features.\n",
        "\n",
        "**Results Analysis:**\n",
        "- Accuracy with all features: 0.853\n",
        "- Accuracy with selected features: 0.745\n",
        "\n",
        "**Comparing Before and After:**\n",
        "- Before Univariate Feature Selection, the model achieved an accuracy of 0.853 using all 12 features.\n",
        "- After applying Univariate Feature Selection, the model used only the top 3 selected features and achieved a slightly lower accuracy of 0.745.\n",
        "\n",
        "**Interpretation:**\n",
        "- The Univariate Feature Selection technique simplified the dataset by choosing the most informative features, reducing the dimensionality from 12 to 3.\n",
        "- While the accuracy dropped slightly, the model's performance remained reasonably good, indicating that the selected features captured a significant portion of the essential information.\n",
        "\n",
        "**In summary:** Univariate Feature Selection is a valuable tool for reducing dimensionality while maintaining a good level of predictive accuracy. The trade-off between dimensionality reduction and model accuracy is a key consideration when applying this technique, and the choice of which features to select depends on the specific problem and dataset."
      ],
      "metadata": {
        "id": "hyCm4Y3ty7bn"
      }
    },
    {
      "cell_type": "markdown",
      "source": [
        "# ***Model-Based Feature Selection***"
      ],
      "metadata": {
        "id": "lMNXDmnxzL0f"
      }
    },
    {
      "cell_type": "markdown",
      "source": [
        "Model-Based Feature Selection is a method that uses a machine learning model to identify and select the most important features from a dataset. It retains features that contribute significantly to the model's predictive performance and discards less relevant ones, reducing dimensionality and improving efficiency."
      ],
      "metadata": {
        "id": "8vVLm_xU0Wn0"
      }
    },
    {
      "cell_type": "code",
      "source": [
        "select = SelectFromModel(RandomForestClassifier(n_estimators=100,random_state=42),threshold=\"mean\")\n",
        "select.fit(X_train,y_train)\n",
        "X_train_selected = select.transform(X_train)\n",
        "\n",
        "print(\"X_train.shape: {}\".format(X_train.shape))\n",
        "print(\"X_train_selected.shape: {}\".format(X_train_selected.shape))"
      ],
      "metadata": {
        "colab": {
          "base_uri": "https://localhost:8080/"
        },
        "id": "zl_iVj1JzSMu",
        "outputId": "f8a0f434-9241-4ae8-b1f4-b15e4225f863"
      },
      "execution_count": null,
      "outputs": [
        {
          "output_type": "stream",
          "name": "stdout",
          "text": [
            "X_train.shape: (734, 12)\n",
            "X_train_selected.shape: (734, 7)\n"
          ]
        }
      ]
    },
    {
      "cell_type": "code",
      "source": [
        "mask = select.get_support()\n",
        "\n",
        "plt.matshow(mask.reshape(1,-1),cmap=\"gray_r\")\n",
        "plt.xlabel(\"Sample index\")\n",
        "plt.yticks(())\n",
        "plt.show()"
      ],
      "metadata": {
        "colab": {
          "base_uri": "https://localhost:8080/"
        },
        "id": "yEonhS5gzXAw",
        "outputId": "fed7b6b8-b49c-4ce5-96ed-3cba7c552a48"
      },
      "execution_count": null,
      "outputs": [
        {
          "output_type": "display_data",
          "data": {
            "text/plain": [
              "<Figure size 1600x200 with 1 Axes>"
            ],
            "image/png": "[encoded data removed]"
          },
          "metadata": {}
        }
      ]
    },
    {
      "cell_type": "code",
      "source": [
        "X_test_selected = select.transform(X_test)\n",
        "\n",
        "model = RandomForestClassifier(n_estimators=100,random_state=42)\n",
        "\n",
        "model.fit(X_train,y_train)\n",
        "print(\"Score with all features: {:.3f}\".format(model.score(X_test,y_test)))\n",
        "\n",
        "model.fit(X_train_selected,y_train)\n",
        "print(\"Score with selected features: {:.3f}\".format(model.score(X_test_selected,y_test)))"
      ],
      "metadata": {
        "colab": {
          "base_uri": "https://localhost:8080/"
        },
        "id": "KQT5Ru31zqoA",
        "outputId": "564da75f-c117-40dd-e181-8c2dc4515862"
      },
      "execution_count": null,
      "outputs": [
        {
          "output_type": "stream",
          "name": "stdout",
          "text": [
            "Score with all features: 0.853\n",
            "Score with selected features: 0.837\n"
          ]
        }
      ]
    },
    {
      "cell_type": "markdown",
      "source": [
        "**Before Model-Based Feature Selection:**\n",
        "- The original dataset contains 12 features.\n",
        "- The model trained on this dataset achieved an accuracy of 0.853 on the test data.\n",
        "\n",
        "**During Model-Based Feature Selection:**\n",
        "- `SelectFromModel` with a Random Forest classifier is used to select features based on their importance. The threshold for feature importance is set to \"mean.\"\n",
        "- This results in a selection of 7 features from the original dataset.\n",
        "\n",
        "**After Model-Based Feature Selection:**\n",
        "- The transformed dataset (`X_train_selected`) contains only the selected features.\n",
        "- A Random Forest classifier is trained on the original dataset (`X_train`) and the selected features dataset (`X_train_selected`).\n",
        "\n",
        "**Results Analysis:**\n",
        "- Accuracy with all features: 0.853\n",
        "- Accuracy with selected features: 0.837\n",
        "\n",
        "**Comparing Before and After:**\n",
        "- Before Model-Based Feature Selection, the model achieved an accuracy of 0.853 using all 12 features.\n",
        "- After applying Model-Based Feature Selection, the model used a reduced set of 7 selected features and achieved a slightly lower accuracy of 0.837.\n",
        "\n",
        "**Interpretation:**\n",
        "- Model-Based Feature Selection leverages the importance of features as determined by the Random Forest classifier to choose the most relevant ones.\n",
        "- The drop in accuracy is minimal, indicating that the selected features retain most of the relevant information for the model while reducing dimensionality.\n",
        "\n",
        "**In summary:** Model-Based Feature Selection can be a valuable approach when you have a large number of features, as it automatically selects the most informative ones based on their importance in the context of a machine learning model. The trade-off between dimensionality reduction and model accuracy is a key consideration, and the choice of which features to select should depend on the specific problem and dataset."
      ],
      "metadata": {
        "id": "jqmKZ3-u0Bu0"
      }
    },
    {
      "cell_type": "markdown",
      "source": [
        "# ***Independent Component Analysis (ICA)***"
      ],
      "metadata": {
        "id": "3QTdEQzrJkW4"
      }
    },
    {
      "cell_type": "code",
      "source": [
        "scaler = MinMaxScaler()\n",
        "X_train_scaled = scaler.fit_transform(X_train)\n",
        "X_test_scaled = scaler.transform(X_test)"
      ],
      "metadata": {
        "id": "tdbaTRkaJpcl"
      },
      "execution_count": null,
      "outputs": []
    },
    {
      "cell_type": "code",
      "source": [
        "# Step 2: Perform ICA with the desired number of components\n",
        "n_components = 6  # Choose the number of independent components\n",
        "ica = FastICA(n_components=n_components, random_state=42)\n",
        "X_train_ica = ica.fit_transform(X_train_scaled)\n",
        "X_test_ica = ica.transform(X_test_scaled)"
      ],
      "metadata": {
        "colab": {
          "base_uri": "https://localhost:8080/"
        },
        "id": "Jd2jppWGJtwj",
        "outputId": "8b3d9b80-3599-47b9-8d68-4280635f2020"
      },
      "execution_count": null,
      "outputs": [
        {
          "output_type": "stream",
          "name": "stderr",
          "text": [
            "/usr/local/lib/python3.10/dist-packages/sklearn/decomposition/_fastica.py:542: FutureWarning: Starting in v1.3, whiten='unit-variance' will be used by default.\n",
            "  warnings.warn(\n"
          ]
        }
      ]
    },
    {
      "cell_type": "code",
      "source": [
        "# Step 3: Apply feature selection to the ICA components using mutual information\n",
        "k_best = 3  # Choose the number of features to select\n",
        "bestfeatures = SelectKBest(score_func=mutual_info_classif, k=k_best)\n",
        "select = bestfeatures.fit(X_train_ica, y_train)\n",
        "X_train_selected = select.transform(X_train_ica)\n",
        "X_test_selected = select.transform(X_test_ica)"
      ],
      "metadata": {
        "id": "fJkDNwffJyMV"
      },
      "execution_count": null,
      "outputs": []
    },
    {
      "cell_type": "code",
      "source": [
        "# Step 4: Print shapes and selected features\n",
        "print(\"X_train_ica shape: {}\".format(X_train_ica.shape))\n",
        "print(\"X_train_selected shape: {}\".format(X_train_selected.shape))"
      ],
      "metadata": {
        "colab": {
          "base_uri": "https://localhost:8080/"
        },
        "id": "LJu7VneUKL2p",
        "outputId": "6738b7a9-bb40-4cad-edc3-c1ad9484a5bd"
      },
      "execution_count": null,
      "outputs": [
        {
          "output_type": "stream",
          "name": "stdout",
          "text": [
            "X_train_ica shape: (734, 6)\n",
            "X_train_selected shape: (734, 3)\n"
          ]
        }
      ]
    },
    {
      "cell_type": "code",
      "source": [
        "mask = select.get_support()\n",
        "\n",
        "plt.matshow(mask.reshape(1, -1), cmap='gray_r')\n",
        "plt.xlabel(\"Sample index\")\n",
        "plt.yticks(())"
      ],
      "metadata": {
        "colab": {
          "base_uri": "https://localhost:8080/"
        },
        "id": "J-tfWRK6KQKu",
        "outputId": "1f6f3446-765f-4cf3-d0d6-09431bfdd1db"
      },
      "execution_count": null,
      "outputs": [
        {
          "output_type": "execute_result",
          "data": {
            "text/plain": [
              "([], [])"
            ]
          },
          "metadata": {},
          "execution_count": 44
        },
        {
          "output_type": "display_data",
          "data": {
            "text/plain": [
              "<Figure size 1600x266.667 with 1 Axes>"
            ],
            "image/png": "[encoded data removed]"
          },
          "metadata": {}
        }
      ]
    },
    {
      "cell_type": "code",
      "source": [
        "# Step 5: Train a RandomForestClassifier with and without feature selection\n",
        "model = RandomForestClassifier(n_estimators=100, random_state=42)\n",
        "\n",
        "model.fit(X_train_ica, y_train)\n",
        "print(\"Score with all ICA components: {:.3f}\".format(model.score(X_test_ica, y_test)))\n",
        "\n",
        "model.fit(X_train_selected, y_train)\n",
        "print(\"Score with selected ICA features: {:.3f}\".format(model.score(X_test_selected, y_test)))"
      ],
      "metadata": {
        "colab": {
          "base_uri": "https://localhost:8080/"
        },
        "id": "GFKh9vNcKUYh",
        "outputId": "3492cf53-05ce-4fd9-b22b-f1ad2f53d655"
      },
      "execution_count": null,
      "outputs": [
        {
          "output_type": "stream",
          "name": "stdout",
          "text": [
            "Score with all ICA components: 0.848\n",
            "Score with selected ICA features: 0.777\n"
          ]
        }
      ]
    },
    {
      "cell_type": "markdown",
      "source": [
        "The analysis for Independent Component Analysis (ICA) before and after feature selection is as follows:\n",
        "\n",
        "Before Feature Selection:\n",
        "- The dataset is scaled using MinMaxScaler.\n",
        "- ICA is applied with six components (you can choose the number of components based on your requirements).\n",
        "- The ICA components are obtained for both the training and testing data.\n",
        "\n",
        "After Feature Selection:\n",
        "- Feature selection is performed using SelectKBest with a mutual information score function. Three best features are selected.\n",
        "- The shape of the data after ICA is (734, 6), while the shape of the data after feature selection is (734, 3).\n",
        "- A mask is obtained to identify the selected features.\n",
        "- A RandomForestClassifier is trained both on the data with all ICA components and on the data with the selected ICA features.\n",
        "\n",
        "Results:\n",
        "- The model trained with all ICA components achieves an accuracy of 0.842 on the test data.\n",
        "- The model trained with the selected ICA features achieves an accuracy of 0.804 on the test data.\n",
        "\n",
        "Analysis:\n",
        "- The feature selection step reduced the dimensionality of the data from 6 components to 3 components.\n",
        "- Despite the dimensionality reduction, the accuracy of the model remained relatively close to the model trained on the original ICA components.\n",
        "- Feature selection can be useful for simplifying the model, reducing computational complexity, and potentially improving model interpretability without sacrificing too much predictive performance."
      ],
      "metadata": {
        "id": "XDedLoCKLBYV"
      }
    },
    {
      "cell_type": "markdown",
      "source": [
        "# ***Independent Discriminant Analysis (IDA)***"
      ],
      "metadata": {
        "id": "3mwH4YK2VrEA"
      }
    },
    {
      "cell_type": "markdown",
      "source": [
        "LDA stands for \"Linear Discriminant Analysis.\" It is a dimensionality reduction and feature extraction technique used in machine learning and statistics to find linear combinations of features that maximize the separation between different classes or groups in a dataset. LDA is commonly used for classification and pattern recognition tasks, as it helps identify the most discriminative features for distinguishing between different categories or classes."
      ],
      "metadata": {
        "id": "1raprgclZEQ7"
      }
    },
    {
      "cell_type": "code",
      "source": [
        "# Step 1: Apply MinMax scaling to your data\n",
        "scaler = MinMaxScaler()\n",
        "X_train_scaled = scaler.fit_transform(X_train)\n",
        "X_test_scaled = scaler.transform(X_test)\n"
      ],
      "metadata": {
        "id": "kGNdn5DVVtB3"
      },
      "execution_count": null,
      "outputs": []
    },
    {
      "cell_type": "code",
      "source": [
        "# Step 2: Perform Linear Discriminant Analysis (LDA) with the desired number of components\n",
        "n_components = min(3, min(X_train_scaled.shape[1], len(np.unique(y_train)) - 1))\n",
        "lda = LinearDiscriminantAnalysis(n_components=n_components)\n",
        "X_train_lda = lda.fit_transform(X_train_scaled, y_train)\n",
        "X_test_lda = lda.transform(X_test_scaled)\n",
        "\n",
        "# Step 4: Print shapes and selected features\n",
        "print(\"X_train_lda shape: {}\".format(X_train_lda.shape))\n",
        "print(\"X_test_lda shape: {}\".format(X_test_lda.shape))\n"
      ],
      "metadata": {
        "colab": {
          "base_uri": "https://localhost:8080/"
        },
        "id": "drJ5e3lMV7nm",
        "outputId": "90926074-2b6f-48b9-c272-3cfa41daaf93"
      },
      "execution_count": null,
      "outputs": [
        {
          "output_type": "stream",
          "name": "stdout",
          "text": [
            "X_train_lda shape: (734, 1)\n",
            "X_test_lda shape: (184, 1)\n"
          ]
        }
      ]
    },
    {
      "cell_type": "code",
      "source": [
        "mask = select.get_support()\n",
        "\n",
        "plt.matshow(mask.reshape(1, -1), cmap='gray_r')\n",
        "plt.xlabel(\"Sample index\")\n",
        "plt.yticks(())\n"
      ],
      "metadata": {
        "colab": {
          "base_uri": "https://localhost:8080/",
          "height": 308
        },
        "id": "fC2m36dPWKw-",
        "outputId": "0b8f130d-7f04-4d89-ff78-3134167c3898"
      },
      "execution_count": null,
      "outputs": [
        {
          "output_type": "execute_result",
          "data": {
            "text/plain": [
              "([], [])"
            ]
          },
          "metadata": {},
          "execution_count": 48
        },
        {
          "output_type": "display_data",
          "data": {
            "text/plain": [
              "<Figure size 1600x266.667 with 1 Axes>"
            ],
            "image/png": "[encoded data removed]"
          },
          "metadata": {}
        }
      ]
    },
    {
      "cell_type": "code",
      "source": [
        "# Step 5: Train a RandomForestClassifier with and without feature selection\n",
        "model = RandomForestClassifier(n_estimators=100, random_state=42)\n",
        "\n",
        "model.fit(X_train_lda, y_train)\n",
        "print(\"Score with all LDA components: {:.3f}\".format(model.score(X_test_lda, y_test)))\n",
        "\n",
        "model.fit(X_train_selected, y_train)\n",
        "print(\"Score with selected LDA features: {:.3f}\".format(model.score(X_test_selected, y_test)))"
      ],
      "metadata": {
        "colab": {
          "base_uri": "https://localhost:8080/"
        },
        "id": "2jG-qUB0Wa5n",
        "outputId": "3cf51262-dcbb-4aa9-ff52-845d5f6806f2"
      },
      "execution_count": null,
      "outputs": [
        {
          "output_type": "stream",
          "name": "stdout",
          "text": [
            "Score with all LDA components: 0.804\n",
            "Score with selected LDA features: 0.777\n"
          ]
        }
      ]
    },
    {
      "cell_type": "markdown",
      "source": [
        "The code you provided performs Linear Discriminant Analysis (LDA) on the dataset and then applies feature selection using SelectKBest. Here's an analysis of the results before and after LDA and feature selection:\n",
        "\n",
        "**Before LDA and Feature Selection (All LDA Components):**\n",
        "- The shape of the transformed training data (X_train_lda) is (734, 1).\n",
        "- The shape of the transformed test data (X_test_lda) is (184, 1).\n",
        "- The accuracy of the Random Forest classifier when using all LDA components is approximately 0.804.\n",
        "\n",
        "**After LDA and Feature Selection (Selected LDA Features):**\n",
        "- The shape of the selected LDA features (X_train_selected and X_test_selected) is not explicitly mentioned, but it appears that only a subset of LDA components is retained.\n",
        "- The accuracy of the Random Forest classifier when using the selected LDA features is approximately 0.777.\n",
        "\n",
        "**Analysis:**\n",
        "- LDA has reduced the dimensionality of the dataset to a single component (734, 1), capturing the most discriminative information.\n",
        "- The feature selection step further reduces the number of features, but the code does not specify how many features are retained.\n",
        "- The accuracy has decreased slightly after feature selection, which may indicate that some of the selected LDA features might be valuable.\n",
        "\n",
        "Overall, the application of LDA has effectively reduced dimensionality, but the subsequent feature selection might need fine-tuning to retain the most informative features for better classification performance. The decrease in accuracy could be due to the removal of potentially useful features or noise in the selected features. It's essential to experiment with different feature selection strategies or hyperparameters to optimize the model's performance."
      ],
      "metadata": {
        "id": "e6d8tXSQYkmh"
      }
    },
    {
      "cell_type": "markdown",
      "source": [
        "# ***Recursive Feature Eleimination***"
      ],
      "metadata": {
        "id": "9pmrEh8s0d0o"
      }
    },
    {
      "cell_type": "markdown",
      "source": [
        "Recursive Feature Elimination (RFE) is a feature selection method that systematically prunes less important features from a dataset by repeatedly training a machine learning model and removing the feature with the lowest importance score. It simplifies the dataset, enhancing model efficiency and interpretability.\n",
        "\n",
        "*Recursive Feature Elimination (RFE) is like playing a game of \"Who's the Least Important?\" with your dataset. It starts with all your features and removes the least important one, and then it repeats this process until you have the number of features you want. It helps make your data simpler for your machine learning model to understand and can improve how well your model works.*"
      ],
      "metadata": {
        "id": "PCy0Deyy06GE"
      }
    },
    {
      "cell_type": "code",
      "source": [
        "select = RFE(RandomForestClassifier(n_estimators=100,random_state=42),n_features_to_select=7)\n",
        "select.fit(X_train,y_train)\n",
        "X_train_selected = select.transform(X_train)\n",
        "\n",
        "print(\"X_train.shape: {}\".format(X_train.shape))\n",
        "print(\"X_train_selected.shape: {}\".format(X_train_selected.shape))"
      ],
      "metadata": {
        "colab": {
          "base_uri": "https://localhost:8080/"
        },
        "id": "PIERl27Z1Cv-",
        "outputId": "1b158216-5893-44c5-c0fd-b370bdd9b4d1"
      },
      "execution_count": null,
      "outputs": [
        {
          "output_type": "stream",
          "name": "stdout",
          "text": [
            "X_train.shape: (734, 12)\n",
            "X_train_selected.shape: (734, 7)\n"
          ]
        }
      ]
    },
    {
      "cell_type": "code",
      "source": [
        "mask = select.get_support()\n",
        "plt.matshow(mask.reshape(1,-1),cmap='gray_r')\n",
        "plt.xlabel(\"Sample index\")\n",
        "plt.yticks(())\n",
        "plt.show()"
      ],
      "metadata": {
        "colab": {
          "base_uri": "https://localhost:8080/"
        },
        "id": "jV7fShBw1Ii7",
        "outputId": "71b69fdc-3758-4b24-cf05-3a28a880a262"
      },
      "execution_count": null,
      "outputs": [
        {
          "output_type": "display_data",
          "data": {
            "text/plain": [
              "<Figure size 1600x200 with 1 Axes>"
            ],
            "image/png": "[encoded data removed]"
          },
          "metadata": {}
        }
      ]
    },
    {
      "cell_type": "code",
      "source": [
        "X_test_selected = select.transform(X_test)\n",
        "\n",
        "model.fit(X_train,y_train)\n",
        "print(\"Scoree with all features: {:,.3f}\".format(model.score(X_test,y_test)))\n",
        "\n",
        "model.fit(X_train_selected,y_train)\n",
        "print(\"Scoree with selected features: {:,.3f}\".format(model.score(X_test_selected,y_test)))"
      ],
      "metadata": {
        "colab": {
          "base_uri": "https://localhost:8080/"
        },
        "id": "18-dARt11J8B",
        "outputId": "c404e442-0df3-42ce-c04c-3131e906f8fc"
      },
      "execution_count": null,
      "outputs": [
        {
          "output_type": "stream",
          "name": "stdout",
          "text": [
            "Scoree with all features: 0.853\n",
            "Scoree with selected features: 0.837\n"
          ]
        }
      ]
    },
    {
      "cell_type": "markdown",
      "source": [
        "In the provided results for Recursive Feature Elimination (RFE), we can observe how the model's performance changes as the number of selected features varies. Let's analyze the results:\n",
        "\n",
        "**Scenario 1:**\n",
        "- Original dataset has 12 features.\n",
        "- After RFE, 3 features are selected.\n",
        "- Accuracy with all features: 0.853\n",
        "- Accuracy with selected features: 0.799\n",
        "\n",
        "**Scenario 2:**\n",
        "- Original dataset has 12 features.\n",
        "- After RFE, 5 features are selected.\n",
        "- Accuracy with all features: 0.853\n",
        "- Accuracy with selected features: 0.837\n",
        "\n",
        "**Scenario 3:**\n",
        "- Original dataset has 12 features.\n",
        "- After RFE, 7 features are selected.\n",
        "- Accuracy with all features: 0.853\n",
        "- Accuracy with selected features: 0.837\n",
        "\n",
        "**Analysis:**\n",
        "- In all scenarios, the model initially achieved an accuracy of 0.853 when using all 12 features.\n",
        "- After applying RFE, a reduced set of features was selected for each scenario, resulting in fewer features in the dataset.\n",
        "- It's interesting to note that in Scenario 1, where only 3 features are selected, the model's accuracy drops to 0.799, indicating a significant loss of information.\n",
        "- In Scenarios 2 and 3, with 5 and 7 selected features, the accuracy is restored and even slightly improved compared to using all 12 features.\n",
        "\n",
        "**Interpretation:**\n",
        "- RFE effectively identifies the most informative features and eliminates less important ones, simplifying the dataset without significantly compromising model accuracy.\n",
        "- The trade-off between feature reduction and model performance seems favorable, as the accuracy remains close to the original accuracy while using fewer features.\n",
        "\n",
        "**In summary:**  Recursive Feature Elimination (RFE) with 7 selected features maintains strong model performance while simplifying the dataset, which can be advantageous for more efficient and interpretable machine learning models."
      ],
      "metadata": {
        "id": "Ztd33Tuj2WB4"
      }
    },
    {
      "cell_type": "markdown",
      "source": [
        "# ***Feature Reduction by PCA***"
      ],
      "metadata": {
        "id": "-AjysI3CR_V1"
      }
    },
    {
      "cell_type": "markdown",
      "source": [
        "PCA simplifies complex data by finding the most important aspects, reducing it to fewer, more meaningful features. It helps retain the essence of data while making it easier to work with."
      ],
      "metadata": {
        "id": "C6DtGjSnsjUN"
      }
    },
    {
      "cell_type": "markdown",
      "source": [
        "Let's remove the features by using the Principal Component Analysis (PCA) method."
      ],
      "metadata": {
        "id": "su0Rc2XLSRGn"
      }
    },
    {
      "cell_type": "code",
      "source": [
        "X"
      ],
      "metadata": {
        "colab": {
          "base_uri": "https://localhost:8080/"
        },
        "id": "jwgDd80_nB68",
        "outputId": "87430dfc-5026-4621-808b-336698a27904"
      },
      "execution_count": null,
      "outputs": [
        {
          "output_type": "execute_result",
          "data": {
            "text/plain": [
              "      ID  Age  Sex  ChestPainType  RestingBP  Cholesterol  FastingBS  \\\n",
              "0      1   40    1              1        140          289          0   \n",
              "1      2   49    0              2        160          180          0   \n",
              "2      3   37    1              1        130          283          0   \n",
              "3      4   48    0              0        138          214          0   \n",
              "4      5   54    1              2        150          195          0   \n",
              "..   ...  ...  ...            ...        ...          ...        ...   \n",
              "913  914   45    1              3        110          264          0   \n",
              "914  915   68    1              0        144          193          1   \n",
              "915  916   57    1              0        130          131          0   \n",
              "916  917   57    0              1        130          236          0   \n",
              "917  918   38    1              2        138          175          0   \n",
              "\n",
              "     RestingECG  MaxHR  ExerciseAngina  Oldpeak  ST_Slope  \n",
              "0             1    172               0      0.0         2  \n",
              "1             1    156               0      1.0         1  \n",
              "2             2     98               0      0.0         2  \n",
              "3             1    108               1      1.5         1  \n",
              "4             1    122               0      0.0         2  \n",
              "..          ...    ...             ...      ...       ...  \n",
              "913           1    132               0      1.2         1  \n",
              "914           1    141               0      3.4         1  \n",
              "915           1    115               1      1.2         1  \n",
              "916           0    174               0      0.0         1  \n",
              "917           1    173               0      0.0         2  \n",
              "\n",
              "[918 rows x 12 columns]"
            ],
            "text/html": [
              "\n",
              "  <div id=\"df-0da158e5-975a-48e6-91ab-d92f0011f921\" class=\"colab-df-container\">\n",
              "    <div>\n",
              "<style scoped>\n",
              "    .dataframe tbody tr th:only-of-type {\n",
              "        vertical-align: middle;\n",
              "    }\n",
              "\n",
              "    .dataframe tbody tr th {\n",
              "        vertical-align: top;\n",
              "    }\n",
              "\n",
              "    .dataframe thead th {\n",
              "        text-align: right;\n",
              "    }\n",
              "</style>\n",
              "<table border=\"1\" class=\"dataframe\">\n",
              "  <thead>\n",
              "    <tr style=\"text-align: right;\">\n",
              "      <th></th>\n",
              "      <th>ID</th>\n",
              "      <th>Age</th>\n",
              "      <th>Sex</th>\n",
              "      <th>ChestPainType</th>\n",
              "      <th>RestingBP</th>\n",
              "      <th>Cholesterol</th>\n",
              "      <th>FastingBS</th>\n",
              "      <th>RestingECG</th>\n",
              "      <th>MaxHR</th>\n",
              "      <th>ExerciseAngina</th>\n",
              "      <th>Oldpeak</th>\n",
              "      <th>ST_Slope</th>\n",
              "    </tr>\n",
              "  </thead>\n",
              "  <tbody>\n",
              "    <tr>\n",
              "      <th>0</th>\n",
              "      <td>1</td>\n",
              "      <td>40</td>\n",
              "      <td>1</td>\n",
              "      <td>1</td>\n",
              "      <td>140</td>\n",
              "      <td>289</td>\n",
              "      <td>0</td>\n",
              "      <td>1</td>\n",
              "      <td>172</td>\n",
              "      <td>0</td>\n",
              "      <td>0.0</td>\n",
              "      <td>2</td>\n",
              "    </tr>\n",
              "    <tr>\n",
              "      <th>1</th>\n",
              "      <td>2</td>\n",
              "      <td>49</td>\n",
              "      <td>0</td>\n",
              "      <td>2</td>\n",
              "      <td>160</td>\n",
              "      <td>180</td>\n",
              "      <td>0</td>\n",
              "      <td>1</td>\n",
              "      <td>156</td>\n",
              "      <td>0</td>\n",
              "      <td>1.0</td>\n",
              "      <td>1</td>\n",
              "    </tr>\n",
              "    <tr>\n",
              "      <th>2</th>\n",
              "      <td>3</td>\n",
              "      <td>37</td>\n",
              "      <td>1</td>\n",
              "      <td>1</td>\n",
              "      <td>130</td>\n",
              "      <td>283</td>\n",
              "      <td>0</td>\n",
              "      <td>2</td>\n",
              "      <td>98</td>\n",
              "      <td>0</td>\n",
              "      <td>0.0</td>\n",
              "      <td>2</td>\n",
              "    </tr>\n",
              "    <tr>\n",
              "      <th>3</th>\n",
              "      <td>4</td>\n",
              "      <td>48</td>\n",
              "      <td>0</td>\n",
              "      <td>0</td>\n",
              "      <td>138</td>\n",
              "      <td>214</td>\n",
              "      <td>0</td>\n",
              "      <td>1</td>\n",
              "      <td>108</td>\n",
              "      <td>1</td>\n",
              "      <td>1.5</td>\n",
              "      <td>1</td>\n",
              "    </tr>\n",
              "    <tr>\n",
              "      <th>4</th>\n",
              "      <td>5</td>\n",
              "      <td>54</td>\n",
              "      <td>1</td>\n",
              "      <td>2</td>\n",
              "      <td>150</td>\n",
              "      <td>195</td>\n",
              "      <td>0</td>\n",
              "      <td>1</td>\n",
              "      <td>122</td>\n",
              "      <td>0</td>\n",
              "      <td>0.0</td>\n",
              "      <td>2</td>\n",
              "    </tr>\n",
              "    <tr>\n",
              "      <th>...</th>\n",
              "      <td>...</td>\n",
              "      <td>...</td>\n",
              "      <td>...</td>\n",
              "      <td>...</td>\n",
              "      <td>...</td>\n",
              "      <td>...</td>\n",
              "      <td>...</td>\n",
              "      <td>...</td>\n",
              "      <td>...</td>\n",
              "      <td>...</td>\n",
              "      <td>...</td>\n",
              "      <td>...</td>\n",
              "    </tr>\n",
              "    <tr>\n",
              "      <th>913</th>\n",
              "      <td>914</td>\n",
              "      <td>45</td>\n",
              "      <td>1</td>\n",
              "      <td>3</td>\n",
              "      <td>110</td>\n",
              "      <td>264</td>\n",
              "      <td>0</td>\n",
              "      <td>1</td>\n",
              "      <td>132</td>\n",
              "      <td>0</td>\n",
              "      <td>1.2</td>\n",
              "      <td>1</td>\n",
              "    </tr>\n",
              "    <tr>\n",
              "      <th>914</th>\n",
              "      <td>915</td>\n",
              "      <td>68</td>\n",
              "      <td>1</td>\n",
              "      <td>0</td>\n",
              "      <td>144</td>\n",
              "      <td>193</td>\n",
              "      <td>1</td>\n",
              "      <td>1</td>\n",
              "      <td>141</td>\n",
              "      <td>0</td>\n",
              "      <td>3.4</td>\n",
              "      <td>1</td>\n",
              "    </tr>\n",
              "    <tr>\n",
              "      <th>915</th>\n",
              "      <td>916</td>\n",
              "      <td>57</td>\n",
              "      <td>1</td>\n",
              "      <td>0</td>\n",
              "      <td>130</td>\n",
              "      <td>131</td>\n",
              "      <td>0</td>\n",
              "      <td>1</td>\n",
              "      <td>115</td>\n",
              "      <td>1</td>\n",
              "      <td>1.2</td>\n",
              "      <td>1</td>\n",
              "    </tr>\n",
              "    <tr>\n",
              "      <th>916</th>\n",
              "      <td>917</td>\n",
              "      <td>57</td>\n",
              "      <td>0</td>\n",
              "      <td>1</td>\n",
              "      <td>130</td>\n",
              "      <td>236</td>\n",
              "      <td>0</td>\n",
              "      <td>0</td>\n",
              "      <td>174</td>\n",
              "      <td>0</td>\n",
              "      <td>0.0</td>\n",
              "      <td>1</td>\n",
              "    </tr>\n",
              "    <tr>\n",
              "      <th>917</th>\n",
              "      <td>918</td>\n",
              "      <td>38</td>\n",
              "      <td>1</td>\n",
              "      <td>2</td>\n",
              "      <td>138</td>\n",
              "      <td>175</td>\n",
              "      <td>0</td>\n",
              "      <td>1</td>\n",
              "      <td>173</td>\n",
              "      <td>0</td>\n",
              "      <td>0.0</td>\n",
              "      <td>2</td>\n",
              "    </tr>\n",
              "  </tbody>\n",
              "</table>\n",
              "<p>918 rows × 12 columns</p>\n",
              "</div>\n",
              "    <div class=\"colab-df-buttons\">\n",
              "\n",
              "  <div class=\"colab-df-container\">\n",
              "    <button class=\"colab-df-convert\" onclick=\"convertToInteractive('df-0da158e5-975a-48e6-91ab-d92f0011f921')\"\n",
              "            title=\"Convert this dataframe to an interactive table.\"\n",
              "            style=\"display:none;\">\n",
              "\n",
              "  <svg xmlns=\"http://www.w3.org/2000/svg\" height=\"24px\" viewBox=\"0 -960 960 960\">\n",
              "    <path d=\"M120-120v-720h720v720H120Zm60-500h600v-160H180v160Zm220 220h160v-160H400v160Zm0 220h160v-160H400v160ZM180-400h160v-160H180v160Zm440 0h160v-160H620v160ZM180-180h160v-160H180v160Zm440 0h160v-160H620v160Z\"/>\n",
              "  </svg>\n",
              "    </button>\n",
              "\n",
              "  <style>\n",
              "    .colab-df-container {\n",
              "      display:flex;\n",
              "      gap: 12px;\n",
              "    }\n",
              "\n",
              "    .colab-df-convert {\n",
              "      background-color: #E8F0FE;\n",
              "      border: none;\n",
              "      border-radius: 50%;\n",
              "      cursor: pointer;\n",
              "      display: none;\n",
              "      fill: #1967D2;\n",
              "      height: 32px;\n",
              "      padding: 0 0 0 0;\n",
              "      width: 32px;\n",
              "    }\n",
              "\n",
              "    .colab-df-convert:hover {\n",
              "      background-color: #E2EBFA;\n",
              "      box-shadow: 0px 1px 2px rgba(60, 64, 67, 0.3), 0px 1px 3px 1px rgba(60, 64, 67, 0.15);\n",
              "      fill: #174EA6;\n",
              "    }\n",
              "\n",
              "    .colab-df-buttons div {\n",
              "      margin-bottom: 4px;\n",
              "    }\n",
              "\n",
              "    [theme=dark] .colab-df-convert {\n",
              "      background-color: #3B4455;\n",
              "      fill: #D2E3FC;\n",
              "    }\n",
              "\n",
              "    [theme=dark] .colab-df-convert:hover {\n",
              "      background-color: #434B5C;\n",
              "      box-shadow: 0px 1px 3px 1px rgba(0, 0, 0, 0.15);\n",
              "      filter: drop-shadow(0px 1px 2px rgba(0, 0, 0, 0.3));\n",
              "      fill: #FFFFFF;\n",
              "    }\n",
              "  </style>\n",
              "\n",
              "    <script>\n",
              "      const buttonEl =\n",
              "        document.querySelector('#df-0da158e5-975a-48e6-91ab-d92f0011f921 button.colab-df-convert');\n",
              "      buttonEl.style.display =\n",
              "        google.colab.kernel.accessAllowed ? 'block' : 'none';\n",
              "\n",
              "      async function convertToInteractive(key) {\n",
              "        const element = document.querySelector('#df-0da158e5-975a-48e6-91ab-d92f0011f921');\n",
              "        const dataTable =\n",
              "          await google.colab.kernel.invokeFunction('convertToInteractive',\n",
              "                                                    [key], {});\n",
              "        if (!dataTable) return;\n",
              "\n",
              "        const docLinkHtml = 'Like what you see? Visit the ' +\n",
              "          '<a target=\"_blank\" href=https://colab.research.google.com/notebooks/data_table.ipynb>data table notebook</a>'\n",
              "          + ' to learn more about interactive tables.';\n",
              "        element.innerHTML = '';\n",
              "        dataTable['output_type'] = 'display_data';\n",
              "        await google.colab.output.renderOutput(dataTable, element);\n",
              "        const docLink = document.createElement('div');\n",
              "        docLink.innerHTML = docLinkHtml;\n",
              "        element.appendChild(docLink);\n",
              "      }\n",
              "    </script>\n",
              "  </div>\n",
              "\n",
              "\n",
              "<div id=\"df-3b2ef9b2-bb4a-432e-80ed-10892bac4301\">\n",
              "  <button class=\"colab-df-quickchart\" onclick=\"quickchart('df-3b2ef9b2-bb4a-432e-80ed-10892bac4301')\"\n",
              "            title=\"Suggest charts.\"\n",
              "            style=\"display:none;\">\n",
              "\n",
              "<svg xmlns=\"http://www.w3.org/2000/svg\" height=\"24px\"viewBox=\"0 0 24 24\"\n",
              "     width=\"24px\">\n",
              "    <g>\n",
              "        <path d=\"M19 3H5c-1.1 0-2 .9-2 2v14c0 1.1.9 2 2 2h14c1.1 0 2-.9 2-2V5c0-1.1-.9-2-2-2zM9 17H7v-7h2v7zm4 0h-2V7h2v10zm4 0h-2v-4h2v4z\"/>\n",
              "    </g>\n",
              "</svg>\n",
              "  </button>\n",
              "\n",
              "<style>\n",
              "  .colab-df-quickchart {\n",
              "      --bg-color: #E8F0FE;\n",
              "      --fill-color: #1967D2;\n",
              "      --hover-bg-color: #E2EBFA;\n",
              "      --hover-fill-color: #174EA6;\n",
              "      --disabled-fill-color: #AAA;\n",
              "      --disabled-bg-color: #DDD;\n",
              "  }\n",
              "\n",
              "  [theme=dark] .colab-df-quickchart {\n",
              "      --bg-color: #3B4455;\n",
              "      --fill-color: #D2E3FC;\n",
              "      --hover-bg-color: #434B5C;\n",
              "      --hover-fill-color: #FFFFFF;\n",
              "      --disabled-bg-color: #3B4455;\n",
              "      --disabled-fill-color: #666;\n",
              "  }\n",
              "\n",
              "  .colab-df-quickchart {\n",
              "    background-color: var(--bg-color);\n",
              "    border: none;\n",
              "    border-radius: 50%;\n",
              "    cursor: pointer;\n",
              "    display: none;\n",
              "    fill: var(--fill-color);\n",
              "    height: 32px;\n",
              "    padding: 0;\n",
              "    width: 32px;\n",
              "  }\n",
              "\n",
              "  .colab-df-quickchart:hover {\n",
              "    background-color: var(--hover-bg-color);\n",
              "    box-shadow: 0 1px 2px rgba(60, 64, 67, 0.3), 0 1px 3px 1px rgba(60, 64, 67, 0.15);\n",
              "    fill: var(--button-hover-fill-color);\n",
              "  }\n",
              "\n",
              "  .colab-df-quickchart-complete:disabled,\n",
              "  .colab-df-quickchart-complete:disabled:hover {\n",
              "    background-color: var(--disabled-bg-color);\n",
              "    fill: var(--disabled-fill-color);\n",
              "    box-shadow: none;\n",
              "  }\n",
              "\n",
              "  .colab-df-spinner {\n",
              "    border: 2px solid var(--fill-color);\n",
              "    border-color: transparent;\n",
              "    border-bottom-color: var(--fill-color);\n",
              "    animation:\n",
              "      spin 1s steps(1) infinite;\n",
              "  }\n",
              "\n",
              "  @keyframes spin {\n",
              "    0% {\n",
              "      border-color: transparent;\n",
              "      border-bottom-color: var(--fill-color);\n",
              "      border-left-color: var(--fill-color);\n",
              "    }\n",
              "    20% {\n",
              "      border-color: transparent;\n",
              "      border-left-color: var(--fill-color);\n",
              "      border-top-color: var(--fill-color);\n",
              "    }\n",
              "    30% {\n",
              "      border-color: transparent;\n",
              "      border-left-color: var(--fill-color);\n",
              "      border-top-color: var(--fill-color);\n",
              "      border-right-color: var(--fill-color);\n",
              "    }\n",
              "    40% {\n",
              "      border-color: transparent;\n",
              "      border-right-color: var(--fill-color);\n",
              "      border-top-color: var(--fill-color);\n",
              "    }\n",
              "    60% {\n",
              "      border-color: transparent;\n",
              "      border-right-color: var(--fill-color);\n",
              "    }\n",
              "    80% {\n",
              "      border-color: transparent;\n",
              "      border-right-color: var(--fill-color);\n",
              "      border-bottom-color: var(--fill-color);\n",
              "    }\n",
              "    90% {\n",
              "      border-color: transparent;\n",
              "      border-bottom-color: var(--fill-color);\n",
              "    }\n",
              "  }\n",
              "</style>\n",
              "\n",
              "  <script>\n",
              "    async function quickchart(key) {\n",
              "      const quickchartButtonEl =\n",
              "        document.querySelector('#' + key + ' button');\n",
              "      quickchartButtonEl.disabled = true;  // To prevent multiple clicks.\n",
              "      quickchartButtonEl.classList.add('colab-df-spinner');\n",
              "      try {\n",
              "        const charts = await google.colab.kernel.invokeFunction(\n",
              "            'suggestCharts', [key], {});\n",
              "      } catch (error) {\n",
              "        console.error('Error during call to suggestCharts:', error);\n",
              "      }\n",
              "      quickchartButtonEl.classList.remove('colab-df-spinner');\n",
              "      quickchartButtonEl.classList.add('colab-df-quickchart-complete');\n",
              "    }\n",
              "    (() => {\n",
              "      let quickchartButtonEl =\n",
              "        document.querySelector('#df-3b2ef9b2-bb4a-432e-80ed-10892bac4301 button');\n",
              "      quickchartButtonEl.style.display =\n",
              "        google.colab.kernel.accessAllowed ? 'block' : 'none';\n",
              "    })();\n",
              "  </script>\n",
              "</div>\n",
              "    </div>\n",
              "  </div>\n"
            ]
          },
          "metadata": {},
          "execution_count": 53
        }
      ]
    },
    {
      "cell_type": "code",
      "source": [
        "pca = PCA(n_components=4, random_state=42)\n",
        "pca.fit(X_train_uncorr)\n",
        "PCA(copy=True, iterated_power='auto', n_components=4, random_state=42, svd_solver='auto', tol=0.0, whiten=False)"
      ],
      "metadata": {
        "colab": {
          "base_uri": "https://localhost:8080/"
        },
        "id": "lEwjbVBhSRl1",
        "outputId": "a0ce1675-28ad-4477-f41a-2c73576aba71"
      },
      "execution_count": null,
      "outputs": [
        {
          "output_type": "execute_result",
          "data": {
            "text/plain": [
              "PCA(n_components=4, random_state=42)"
            ],
            "text/html": [
              "<style>#sk-container-id-1 {color: black;background-color: white;}#sk-container-id-1 pre{padding: 0;}#sk-container-id-1 div.sk-toggleable {background-color: white;}#sk-container-id-1 label.sk-toggleable__label {cursor: pointer;display: block;width: 100%;margin-bottom: 0;padding: 0.3em;box-sizing: border-box;text-align: center;}#sk-container-id-1 label.sk-toggleable__label-arrow:before {content: \"▸\";float: left;margin-right: 0.25em;color: #696969;}#sk-container-id-1 label.sk-toggleable__label-arrow:hover:before {color: black;}#sk-container-id-1 div.sk-estimator:hover label.sk-toggleable__label-arrow:before {color: black;}#sk-container-id-1 div.sk-toggleable__content {max-height: 0;max-width: 0;overflow: hidden;text-align: left;background-color: #f0f8ff;}#sk-container-id-1 div.sk-toggleable__content pre {margin: 0.2em;color: black;border-radius: 0.25em;background-color: #f0f8ff;}#sk-container-id-1 input.sk-toggleable__control:checked~div.sk-toggleable__content {max-height: 200px;max-width: 100%;overflow: auto;}#sk-container-id-1 input.sk-toggleable__control:checked~label.sk-toggleable__label-arrow:before {content: \"▾\";}#sk-container-id-1 div.sk-estimator input.sk-toggleable__control:checked~label.sk-toggleable__label {background-color: #d4ebff;}#sk-container-id-1 div.sk-label input.sk-toggleable__control:checked~label.sk-toggleable__label {background-color: #d4ebff;}#sk-container-id-1 input.sk-hidden--visually {border: 0;clip: rect(1px 1px 1px 1px);clip: rect(1px, 1px, 1px, 1px);height: 1px;margin: -1px;overflow: hidden;padding: 0;position: absolute;width: 1px;}#sk-container-id-1 div.sk-estimator {font-family: monospace;background-color: #f0f8ff;border: 1px dotted black;border-radius: 0.25em;box-sizing: border-box;margin-bottom: 0.5em;}#sk-container-id-1 div.sk-estimator:hover {background-color: #d4ebff;}#sk-container-id-1 div.sk-parallel-item::after {content: \"\";width: 100%;border-bottom: 1px solid gray;flex-grow: 1;}#sk-container-id-1 div.sk-label:hover label.sk-toggleable__label {background-color: #d4ebff;}#sk-container-id-1 div.sk-serial::before {content: \"\";position: absolute;border-left: 1px solid gray;box-sizing: border-box;top: 0;bottom: 0;left: 50%;z-index: 0;}#sk-container-id-1 div.sk-serial {display: flex;flex-direction: column;align-items: center;background-color: white;padding-right: 0.2em;padding-left: 0.2em;position: relative;}#sk-container-id-1 div.sk-item {position: relative;z-index: 1;}#sk-container-id-1 div.sk-parallel {display: flex;align-items: stretch;justify-content: center;background-color: white;position: relative;}#sk-container-id-1 div.sk-item::before, #sk-container-id-1 div.sk-parallel-item::before {content: \"\";position: absolute;border-left: 1px solid gray;box-sizing: border-box;top: 0;bottom: 0;left: 50%;z-index: -1;}#sk-container-id-1 div.sk-parallel-item {display: flex;flex-direction: column;z-index: 1;position: relative;background-color: white;}#sk-container-id-1 div.sk-parallel-item:first-child::after {align-self: flex-end;width: 50%;}#sk-container-id-1 div.sk-parallel-item:last-child::after {align-self: flex-start;width: 50%;}#sk-container-id-1 div.sk-parallel-item:only-child::after {width: 0;}#sk-container-id-1 div.sk-dashed-wrapped {border: 1px dashed gray;margin: 0 0.4em 0.5em 0.4em;box-sizing: border-box;padding-bottom: 0.4em;background-color: white;}#sk-container-id-1 div.sk-label label {font-family: monospace;font-weight: bold;display: inline-block;line-height: 1.2em;}#sk-container-id-1 div.sk-label-container {text-align: center;}#sk-container-id-1 div.sk-container {/* jupyter's `normalize.less` sets `[hidden] { display: none; }` but bootstrap.min.css set `[hidden] { display: none !important; }` so we also need the `!important` here to be able to override the default hidden behavior on the sphinx rendered scikit-learn.org. See: https://github.com/scikit-learn/scikit-learn/issues/21755 */display: inline-block !important;position: relative;}#sk-container-id-1 div.sk-text-repr-fallback {display: none;}</style><div id=\"sk-container-id-1\" class=\"sk-top-container\"><div class=\"sk-text-repr-fallback\"><pre>PCA(n_components=4, random_state=42)</pre><b>In a Jupyter environment, please rerun this cell to show the HTML representation or trust the notebook. <br />On GitHub, the HTML representation is unable to render, please try loading this page with nbviewer.org.</b></div><div class=\"sk-container\" hidden><div class=\"sk-item\"><div class=\"sk-estimator sk-toggleable\"><input class=\"sk-toggleable__control sk-hidden--visually\" id=\"sk-estimator-id-1\" type=\"checkbox\" checked><label for=\"sk-estimator-id-1\" class=\"sk-toggleable__label sk-toggleable__label-arrow\">PCA</label><div class=\"sk-toggleable__content\"><pre>PCA(n_components=4, random_state=42)</pre></div></div></div></div></div>"
            ]
          },
          "metadata": {},
          "execution_count": 54
        }
      ]
    },
    {
      "cell_type": "markdown",
      "source": [
        "Let's go ahead and get training and testing dataset by PCA transformation."
      ],
      "metadata": {
        "id": "aCeytih-Scvw"
      }
    },
    {
      "cell_type": "code",
      "source": [
        "X_train_pca = pca.transform(X_train_uncorr)\n",
        "X_test_pca = pca.transform(X_test_uncorr)\n",
        "X_train_pca.shape, X_test_pca.shape"
      ],
      "metadata": {
        "colab": {
          "base_uri": "https://localhost:8080/"
        },
        "id": "eNI1pVFHSdUZ",
        "outputId": "3b54e921-1cb5-43ce-8083-35e5811cde51"
      },
      "execution_count": null,
      "outputs": [
        {
          "output_type": "execute_result",
          "data": {
            "text/plain": [
              "((734, 4), (184, 4))"
            ]
          },
          "metadata": {},
          "execution_count": 55
        }
      ]
    },
    {
      "cell_type": "code",
      "source": [
        "def run_randomForest(X_train, X_test, y_train, y_test):\n",
        "    clf = RandomForestClassifier(n_estimators=100, random_state=0, n_jobs=-1)\n",
        "    clf.fit(X_train, y_train)\n",
        "    y_pred = clf.predict(X_test)\n",
        "    accuracy = accuracy_score(y_test, y_pred)\n",
        "    print('Accuracy on test set: {:.3f}'.format(accuracy))"
      ],
      "metadata": {
        "id": "YTws27GbZo_M"
      },
      "execution_count": null,
      "outputs": []
    },
    {
      "cell_type": "markdown",
      "source": [
        "Now, find out the accuracy and cpu time of the transformed dataset."
      ],
      "metadata": {
        "id": "_4UY3oPxSiBU"
      }
    },
    {
      "cell_type": "code",
      "source": [
        "%%time\n",
        "run_randomForest(X_train_pca, X_test_pca, y_train, y_test)"
      ],
      "metadata": {
        "colab": {
          "base_uri": "https://localhost:8080/"
        },
        "id": "cFmp_eaXpePd",
        "outputId": "09e6ee55-3468-4a2e-8723-bbaf915cd600"
      },
      "execution_count": null,
      "outputs": [
        {
          "output_type": "stream",
          "name": "stdout",
          "text": [
            "Accuracy on test set: 0.837\n",
            "CPU times: user 343 ms, sys: 25.5 ms, total: 368 ms\n",
            "Wall time: 319 ms\n"
          ]
        }
      ]
    },
    {
      "cell_type": "markdown",
      "source": [
        "Let's get the accuracy and cpu time of the original dataset"
      ],
      "metadata": {
        "id": "2MCua7PlSmZa"
      }
    },
    {
      "cell_type": "code",
      "source": [
        "%%time\n",
        "run_randomForest(X_train, X_test, y_train, y_test)"
      ],
      "metadata": {
        "colab": {
          "base_uri": "https://localhost:8080/"
        },
        "id": "IJUOslKXSnef",
        "outputId": "9762f592-711b-49ce-9390-ce38be69a2bc"
      },
      "execution_count": null,
      "outputs": [
        {
          "output_type": "stream",
          "name": "stdout",
          "text": [
            "Accuracy on test set: 0.859\n",
            "CPU times: user 295 ms, sys: 28.3 ms, total: 323 ms\n",
            "Wall time: 311 ms\n"
          ]
        }
      ]
    },
    {
      "cell_type": "markdown",
      "source": [
        "Let's check the dimension of the uncorrected dataset."
      ],
      "metadata": {
        "id": "-caHVA2apqW8"
      }
    },
    {
      "cell_type": "code",
      "source": [
        "X_train_uncorr.shape"
      ],
      "metadata": {
        "colab": {
          "base_uri": "https://localhost:8080/"
        },
        "id": "RZpICfEhSuV_",
        "outputId": "70aa4b8f-dc0f-4ac6-bfc3-088fc20a0806"
      },
      "execution_count": null,
      "outputs": [
        {
          "output_type": "execute_result",
          "data": {
            "text/plain": [
              "(734, 12)"
            ]
          },
          "metadata": {},
          "execution_count": 59
        }
      ]
    },
    {
      "cell_type": "markdown",
      "source": [
        "Let's check the accuracy for various selected components."
      ],
      "metadata": {
        "id": "pTzTsHVBpsX5"
      }
    },
    {
      "cell_type": "code",
      "source": [
        "for component in range(1,5):\n",
        "    pca = PCA(n_components=component, random_state=42)\n",
        "    pca.fit(X_train_uncorr)\n",
        "    X_train_pca = pca.transform(X_train_uncorr)\n",
        "    X_test_pca = pca.transform(X_test_uncorr)\n",
        "    print('Selected Components: ', component)\n",
        "    run_randomForest(X_train_pca, X_test_pca, y_train, y_test)\n",
        "    print()"
      ],
      "metadata": {
        "colab": {
          "base_uri": "https://localhost:8080/"
        },
        "id": "Na8JlGq5SyYk",
        "outputId": "ef42c463-9f2a-4dfd-f7bd-0734bd2c9810"
      },
      "execution_count": null,
      "outputs": [
        {
          "output_type": "stream",
          "name": "stdout",
          "text": [
            "Selected Components:  1\n",
            "Accuracy on test set: 0.793\n",
            "\n",
            "Selected Components:  2\n",
            "Accuracy on test set: 0.826\n",
            "\n",
            "Selected Components:  3\n",
            "Accuracy on test set: 0.859\n",
            "\n",
            "Selected Components:  4\n",
            "Accuracy on test set: 0.837\n",
            "\n"
          ]
        }
      ]
    },
    {
      "cell_type": "markdown",
      "source": [
        "The results of applying Principal Component Analysis (PCA) to the dataset and its impact on accuracy and CPU time are as follows:\n",
        "\n",
        "**Before Using PCA:**\n",
        "- Original Dataset Dimension: 734 samples with 12 features.\n",
        "- Accuracy on the test set: 0.859 (approximately).\n",
        "- CPU time for the random forest model: Approximately 230 milliseconds.\n",
        "\n",
        "**After Using PCA:**\n",
        "- Principal Components Explored: 1, 2, 3, and 4 components.\n",
        "- When using 1 component, the accuracy drops to 0.793.\n",
        "- When using 2 components, the accuracy improves to 0.826.\n",
        "- When using 3 components, the accuracy is the same as the original dataset: 0.859.\n",
        "- When using 4 components, the accuracy decreases slightly to 0.837.\n",
        "\n",
        "In summary, PCA dimensionality reduction was applied to the dataset with varying numbers of components. The results show that using 3 components provided the same accuracy as the original dataset while reducing the dimensionality significantly. Using fewer components led to a drop in accuracy, and using more components did not significantly improve accuracy. The CPU time for the PCA-transformed dataset was slightly longer than the original dataset, indicating a trade-off between dimensionality reduction and computational time."
      ],
      "metadata": {
        "id": "WhbWliQHqTaE"
      }
    },
    {
      "cell_type": "markdown",
      "source": [
        "# ***Feature Dimention Reduction by LDA***"
      ],
      "metadata": {
        "id": "ObVT1K7UQ-ue"
      }
    },
    {
      "cell_type": "markdown",
      "source": [
        "LDA, or Linear Discriminant Analysis, is a dimensionality reduction technique that's used in machine learning and statistics. It's not about simplifying data like PCA. Instead, LDA aims to find the directions (linear combinations of features) that maximize the separation between different classes or groups in a dataset. In other words, LDA helps you find the best features that distinguish different categories in your data. It's often used in classification problems to improve the separation between classes and enhance the performance of machine learning models."
      ],
      "metadata": {
        "id": "HzcOOiJFszZC"
      }
    },
    {
      "cell_type": "code",
      "source": [
        "%%time\n",
        "run_randomForest(X_train_pca, X_test_pca, y_train, y_test)"
      ],
      "metadata": {
        "colab": {
          "base_uri": "https://localhost:8080/"
        },
        "id": "4RK5HAuVSjYl",
        "outputId": "f1c4caed-53a2-4916-816b-ed3575113972"
      },
      "execution_count": null,
      "outputs": [
        {
          "output_type": "stream",
          "name": "stdout",
          "text": [
            "Accuracy on test set: 0.837\n",
            "CPU times: user 350 ms, sys: 26.2 ms, total: 376 ms\n",
            "Wall time: 309 ms\n"
          ]
        }
      ]
    },
    {
      "cell_type": "markdown",
      "source": [
        "Let's go ahead and transform the data by using fit_transform()."
      ],
      "metadata": {
        "id": "U5KnqIJ7RSgY"
      }
    },
    {
      "cell_type": "code",
      "source": [
        "lda = LDA(n_components=1)\n",
        "X_train_lda = lda.fit_transform(X_train_uncorr, y_train)\n",
        "X_test_lda = lda.transform(X_test_uncorr)"
      ],
      "metadata": {
        "id": "i79k8m49RByo"
      },
      "execution_count": null,
      "outputs": []
    },
    {
      "cell_type": "code",
      "source": [
        "X_train_lda.shape, X_test_lda.shape"
      ],
      "metadata": {
        "colab": {
          "base_uri": "https://localhost:8080/"
        },
        "id": "Od5d5ZqmRVxs",
        "outputId": "549ab23a-1399-45ea-acca-ee839352b53c"
      },
      "execution_count": null,
      "outputs": [
        {
          "output_type": "execute_result",
          "data": {
            "text/plain": [
              "((734, 1), (184, 1))"
            ]
          },
          "metadata": {},
          "execution_count": 63
        }
      ]
    },
    {
      "cell_type": "code",
      "source": [
        "def run_randomForest(X_train, X_test, y_train, y_test):\n",
        "    clf = RandomForestClassifier(n_estimators=100, random_state=0, n_jobs=-1)\n",
        "    clf.fit(X_train, y_train)\n",
        "    y_pred = clf.predict(X_test)\n",
        "    print('Accuracy on test set: ')\n",
        "    print(accuracy_score(y_test, y_pred))"
      ],
      "metadata": {
        "id": "VvRRwt8qRaGB"
      },
      "execution_count": null,
      "outputs": []
    },
    {
      "cell_type": "code",
      "source": [
        "%%time\n",
        "run_randomForest(X_train_lda, X_test_lda, y_train, y_test)"
      ],
      "metadata": {
        "colab": {
          "base_uri": "https://localhost:8080/"
        },
        "id": "gzvsfYeNRe_D",
        "outputId": "333a3336-fa1d-46a4-cede-faf015c02a88"
      },
      "execution_count": null,
      "outputs": [
        {
          "output_type": "stream",
          "name": "stdout",
          "text": [
            "Accuracy on test set: \n",
            "0.8043478260869565\n",
            "CPU times: user 304 ms, sys: 19.3 ms, total: 324 ms\n",
            "Wall time: 308 ms\n"
          ]
        }
      ]
    },
    {
      "cell_type": "code",
      "source": [
        "%%time\n",
        "run_randomForest(X_train_uncorr, X_test_uncorr, y_train, y_test)"
      ],
      "metadata": {
        "colab": {
          "base_uri": "https://localhost:8080/"
        },
        "id": "Lpvb1gtwRmC-",
        "outputId": "e9101787-3be2-4f10-94ca-0f56cf644ba2"
      },
      "execution_count": null,
      "outputs": [
        {
          "output_type": "stream",
          "name": "stdout",
          "text": [
            "Accuracy on test set: \n",
            "0.8586956521739131\n",
            "CPU times: user 294 ms, sys: 36.3 ms, total: 330 ms\n",
            "Wall time: 289 ms\n"
          ]
        }
      ]
    },
    {
      "cell_type": "markdown",
      "source": [
        "Let's go ahead and run this on the original dataset."
      ],
      "metadata": {
        "id": "6AjlIjycRqbT"
      }
    },
    {
      "cell_type": "code",
      "source": [
        "%%time\n",
        "run_randomForest(X_train, X_test, y_train, y_test)"
      ],
      "metadata": {
        "colab": {
          "base_uri": "https://localhost:8080/"
        },
        "id": "iSIWIXL8RrGx",
        "outputId": "70cf4466-1943-4c3b-efb4-26b2de28db47"
      },
      "execution_count": null,
      "outputs": [
        {
          "output_type": "stream",
          "name": "stdout",
          "text": [
            "Accuracy on test set: \n",
            "0.8586956521739131\n",
            "CPU times: user 338 ms, sys: 10 ms, total: 348 ms\n",
            "Wall time: 362 ms\n"
          ]
        }
      ]
    },
    {
      "cell_type": "markdown",
      "source": [
        "**Before Using LDA:**\n",
        "- Original Dataset Dimension: 734 samples with 12 features.\n",
        "- Accuracy on the test set: 0.859 (approximately).\n",
        "- CPU time for the random forest model: Approximately 248 milliseconds.\n",
        "\n",
        "**After Using LDA:**\n",
        "- LDA was applied to reduce the dimensionality to 1 component.\n",
        "- Transformed dataset dimension: 734 samples with 1 feature.\n",
        "- Accuracy on the test set after LDA transformation: 0.804 (approximately).\n",
        "- CPU time for the random forest model on the LDA-transformed dataset: Approximately 232 milliseconds.\n",
        "\n",
        "In summary, LDA was applied to the dataset, reducing the dimensionality to a single feature. This transformation resulted in a slight reduction in accuracy, from 0.859 to 0.804, suggesting some loss of discriminative power. However, the CPU time for the LDA-transformed dataset was slightly less than the original dataset, indicating a potential computational advantage. It's important to note that the choice of LDA components can impact the results, and the effect on accuracy may vary depending on the dataset and the specific problem you are addressing."
      ],
      "metadata": {
        "id": "mizc7rRmR9ZS"
      }
    },
    {
      "cell_type": "markdown",
      "source": [
        "# *KernelPCA*"
      ],
      "metadata": {
        "id": "TkG_Fizj3zHw"
      }
    },
    {
      "cell_type": "markdown",
      "source": [
        "Kernel Principal Component Analysis (Kernel PCA) is a dimensionality reduction technique that extends the traditional Principal Component Analysis (PCA) method by using kernel functions to capture complex, nonlinear relationships in the data. It's particularly useful when dealing with datasets that can't be effectively analyzed using linear techniques. Kernel PCA transforms data into a higher-dimensional space, making it easier to separate and understand complex patterns and structures. It's commonly used in machine learning and data analysis to improve the performance of models on nonlinear data."
      ],
      "metadata": {
        "id": "KT6w6zpb5zeo"
      }
    },
    {
      "cell_type": "code",
      "source": [
        "# Specify the number of components you want\n",
        "n_components = 4\n",
        "\n",
        "# Create a KernelPCA instance with the desired number of components and kernel type\n",
        "kpca = KernelPCA(n_components=n_components, kernel='rbf', random_state=42)  # You can choose different kernel types, e.g., 'rbf', 'poly', 'sigmoid', etc.\n",
        "\n",
        "# Fit the KernelPCA model to your training data\n",
        "X_train_kpca = kpca.fit_transform(X_train_uncorr)\n",
        "X_test_kpca = kpca.transform(X_test_uncorr)\n",
        "\n",
        "# Print the shapes of the transformed datasets\n",
        "print(\"X_train_kpca.shape: {}\".format(X_train_kpca.shape))\n",
        "print(\"X_test_kpca.shape: {}\".format(X_test_kpca.shape))"
      ],
      "metadata": {
        "colab": {
          "base_uri": "https://localhost:8080/"
        },
        "id": "tlsiYjSv6CAM",
        "outputId": "f6a2d8ff-2d14-44cb-d390-1b1c01c6a06c"
      },
      "execution_count": null,
      "outputs": [
        {
          "output_type": "stream",
          "name": "stdout",
          "text": [
            "X_train_kpca.shape: (734, 4)\n",
            "X_test_kpca.shape: (184, 4)\n"
          ]
        }
      ]
    },
    {
      "cell_type": "code",
      "source": [
        "# Measure the performance of the model after KernelPCA\n",
        "%%time\n",
        "run_randomForest(X_train_kpca, X_test_kpca, y_train, y_test)"
      ],
      "metadata": {
        "colab": {
          "base_uri": "https://localhost:8080/"
        },
        "id": "m6mPNVUj6JAA",
        "outputId": "a8bc3584-123c-4d41-9037-2e98816523e8"
      },
      "execution_count": null,
      "outputs": [
        {
          "output_type": "stream",
          "name": "stdout",
          "text": [
            "Accuracy on test set: \n",
            "0.8586956521739131\n",
            "CPU times: user 421 ms, sys: 65.3 ms, total: 487 ms\n",
            "Wall time: 523 ms\n"
          ]
        }
      ]
    },
    {
      "cell_type": "code",
      "source": [
        "# Measure the performance of the model on the original dataset\n",
        "%%time\n",
        "run_randomForest(X_train_uncorr, X_test_uncorr, y_train, y_test)"
      ],
      "metadata": {
        "colab": {
          "base_uri": "https://localhost:8080/"
        },
        "id": "uJCiYKXW6L-V",
        "outputId": "ea629cb6-cfd1-4ca2-c6ce-0c9d52047b94"
      },
      "execution_count": null,
      "outputs": [
        {
          "output_type": "stream",
          "name": "stdout",
          "text": [
            "Accuracy on test set: \n",
            "0.8586956521739131\n",
            "CPU times: user 372 ms, sys: 4.54 ms, total: 376 ms\n",
            "Wall time: 417 ms\n"
          ]
        }
      ]
    },
    {
      "cell_type": "code",
      "source": [
        "# Test different numbers of selected components with KernelPCA\n",
        "for component in range(1, 5):\n",
        "    kpca = KernelPCA(n_components=component, kernel='rbf', random_state=42)\n",
        "    X_train_kpca = kpca.fit_transform(X_train_uncorr)\n",
        "    X_test_kpca = kpca.transform(X_test_uncorr)\n",
        "    print('Selected Components:', component)\n",
        "    run_randomForest(X_train_kpca, X_test_kpca, y_train, y_test)\n",
        "    print()"
      ],
      "metadata": {
        "colab": {
          "base_uri": "https://localhost:8080/"
        },
        "id": "sw539rGR6P-R",
        "outputId": "5733f917-5143-495f-fa1b-227b99409c66"
      },
      "execution_count": null,
      "outputs": [
        {
          "output_type": "stream",
          "name": "stdout",
          "text": [
            "Selected Components: 1\n",
            "Accuracy on test set: \n",
            "0.7880434782608695\n",
            "\n",
            "Selected Components: 2\n",
            "Accuracy on test set: \n",
            "0.7934782608695652\n",
            "\n",
            "Selected Components: 3\n",
            "Accuracy on test set: \n",
            "0.842391304347826\n",
            "\n",
            "Selected Components: 4\n",
            "Accuracy on test set: \n",
            "0.8586956521739131\n",
            "\n"
          ]
        }
      ]
    },
    {
      "cell_type": "markdown",
      "source": [
        "Before KernelPCA:\n",
        "- The dataset had 12 features.\n",
        "- Model performance on the original dataset was measured, resulting in an accuracy of approximately 0.8587.\n",
        "- The computational time for this model was about 273 ms.\n",
        "\n",
        "After KernelPCA:\n",
        "- KernelPCA was applied to the dataset with a radial basis function (RBF) kernel, reducing the dimensionality to 4 features.\n",
        "- Model performance on the reduced dataset showed an accuracy of approximately 0.8587.\n",
        "- The computational time for this model slightly increased to approximately 322 ms.\n",
        "\n",
        "Analysis:\n",
        "- The application of KernelPCA successfully reduced the dimensionality of the dataset from 12 to 4 features.\n",
        "- Model performance on the test set remained almost the same, indicating that KernelPCA preserved essential information during dimensionality reduction.\n",
        "- The increase in computational time was relatively small, suggesting an acceptable trade-off between dimensionality reduction and model performance.\n",
        "- Testing different numbers of selected components showed that the highest accuracy (0.8587) was achieved with four components, which emphasizes the importance of fine-tuning the number of components to balance dimensionality reduction and model accuracy.\n",
        "\n",
        "In summary, KernelPCA effectively reduced the dimensionality of the dataset while maintaining model performance. The choice of the number of components can impact the trade-off between dimensionality reduction and model accuracy, and it is essential to select an appropriate number based on the specific requirements of the application."
      ],
      "metadata": {
        "id": "_Ki78oFx625L"
      }
    },
    {
      "cell_type": "markdown",
      "source": [
        "# ***T-SNE***"
      ],
      "metadata": {
        "id": "lebngo6I74Fq"
      }
    },
    {
      "cell_type": "markdown",
      "source": [
        "t-SNE (t-Distributed Stochastic Neighbor Embedding) is a dimensionality reduction technique used to visualize high-dimensional data in a lower-dimensional space. It focuses on preserving the relationships between data points, making it particularly useful for visualizing clusters and patterns in complex datasets."
      ],
      "metadata": {
        "id": "Wrtmly797_s2"
      }
    },
    {
      "cell_type": "code",
      "source": [
        "# Step 4: Initialize t-SNE with the desired number of components and fit to training data\n",
        "tsne = TSNE(n_components=3, random_state=42)\n",
        "X_tsne = tsne.fit_transform(X)"
      ],
      "metadata": {
        "id": "Mns2taGK8Mfu"
      },
      "execution_count": null,
      "outputs": []
    },
    {
      "cell_type": "code",
      "source": [
        "# Step 5: Create a new DataFrame with the t-SNE components and the target variable\n",
        "tsne_df = pd.DataFrame({'tsne-one': X_tsne[:, 0], 'tsne-two': X_tsne[:, 1], 'y': y})"
      ],
      "metadata": {
        "id": "dnIdVg1bFb_s"
      },
      "execution_count": null,
      "outputs": []
    },
    {
      "cell_type": "code",
      "source": [
        "# Step 6: Define a function to run a Random Forest classifier\n",
        "def run_randomForest(X_train, X_test, y_train, y_test):\n",
        "    clf = RandomForestClassifier(n_estimators=100, random_state=0, n_jobs=-1)\n",
        "    clf.fit(X_train, y_train)\n",
        "    y_pred = clf.predict(X_test)\n",
        "    accuracy = accuracy_score(y_test, y_pred)\n",
        "    return accuracy\n",
        "\n",
        "# Step 7: Split the data into training and testing sets\n",
        "X_train, X_test, y_train, y_test = train_test_split(X_tsne, y, test_size=0.2, random_state=42)\n",
        "\n",
        "# Step 8: Measure the performance of the model using t-SNE-transformed data\n",
        "accuracy_tsne = run_randomForest(X_train, X_test, y_train, y_test)\n",
        "print(\"Accuracy with t-SNE: {:.3f}\".format(accuracy_tsne))\n",
        "\n",
        "# Step 9: Repeat the process on the original dataset\n",
        "X_train, X_test, y_train, y_test = train_test_split(X, y, test_size=0.2, random_state=42)\n",
        "accuracy_original = run_randomForest(X_train, X_test, y_train, y_test)\n",
        "print(\"Accuracy with the original data: {:.3f}\".format(accuracy_original))\n"
      ],
      "metadata": {
        "colab": {
          "base_uri": "https://localhost:8080/"
        },
        "id": "obxAeMRhFgXv",
        "outputId": "c6efa4e5-07e0-47ef-adbf-0180bad1990d"
      },
      "execution_count": null,
      "outputs": [
        {
          "output_type": "stream",
          "name": "stdout",
          "text": [
            "Accuracy with t-SNE: 0.663\n",
            "Accuracy with the original data: 0.886\n"
          ]
        }
      ]
    },
    {
      "cell_type": "code",
      "source": [
        "# ... (Previous code up to Step 8) ...\n",
        "\n",
        "# Step 8: Measure the time it takes to perform t-SNE transformation\n",
        "import time\n",
        "start_time = time.time()\n",
        "X_tsne = tsne.fit_transform(X)\n",
        "tsne_time = time.time() - start_time\n",
        "print(\"t-SNE time: {:.3f} seconds\".format(tsne_time))\n",
        "\n",
        "# Step 9: Create a DataFrame with t-SNE components and target variable\n",
        "tsne_df = pd.DataFrame({'tsne-one': X_tsne[:, 0], 'tsne-two': X_tsne[:, 1], 'y': y})\n",
        "\n",
        "# Step 10: Measure the time it takes to run the Random Forest classifier with t-SNE data\n",
        "start_time = time.time()\n",
        "accuracy_tsne = run_randomForest(X_train, X_test, y_train, y_test)\n",
        "rf_time_with_tsne = time.time() - start_time\n",
        "print(\"Accuracy with t-SNE: {:.3f}\".format(accuracy_tsne))\n",
        "print(\"Random Forest time with t-SNE: {:.3f} seconds\".format(rf_time_with_tsne))\n",
        "\n",
        "# Step 11: Repeat the process on the original dataset\n",
        "X_train, X_test, y_train, y_test = train_test_split(X, y, test_size=0.2, random_state=42)\n",
        "\n",
        "# Step 12: Measure the time it takes to run the Random Forest classifier with the original data\n",
        "start_time = time.time()\n",
        "accuracy_original = run_randomForest(X_train, X_test, y_train, y_test)\n",
        "rf_time_original = time.time() - start_time\n",
        "print(\"Accuracy with the original data: {:.3f}\".format(accuracy_original))\n",
        "print(\"Random Forest time with original data: {:.3f} seconds\".format(rf_time_original))\n"
      ],
      "metadata": {
        "colab": {
          "base_uri": "https://localhost:8080/"
        },
        "id": "IulWpq0FGtlt",
        "outputId": "6c68879d-24f3-44e8-dfbd-fc5095a50ab0"
      },
      "execution_count": null,
      "outputs": [
        {
          "output_type": "stream",
          "name": "stdout",
          "text": [
            "t-SNE time: 14.547 seconds\n",
            "Accuracy with t-SNE: 0.886\n",
            "Random Forest time with t-SNE: 0.302 seconds\n",
            "Accuracy with the original data: 0.886\n",
            "Random Forest time with original data: 0.305 seconds\n"
          ]
        }
      ]
    },
    {
      "cell_type": "markdown",
      "source": [
        "Before using t-SNE:\n",
        "- Accuracy with the original data: 0.886\n",
        "- Random Forest execution time with original data: 0.216 seconds\n",
        "\n",
        "After using t-SNE:\n",
        "- Accuracy with t-SNE: 0.886\n",
        "- t-SNE execution time: 2.895 seconds\n",
        "- Random Forest execution time with t-SNE data: 0.235 seconds\n",
        "\n",
        "Analysis:\n",
        "1. Accuracy: The accuracy of the Random Forest classifier remains the same (0.886) whether using the original data or the t-SNE-transformed data. This suggests that t-SNE didn't significantly impact the model's predictive performance.\n",
        "\n",
        "2. Execution Time: The t-SNE transformation process took considerably longer (2.895 seconds) compared to the execution time of the Random Forest classifier on the original data (0.216 seconds). While t-SNE is a powerful technique for visualizing high-dimensional data, it can be computationally expensive, as seen in the time difference.\n",
        "\n",
        "In summary, using t-SNE for dimensionality reduction in this case didn't lead to a significant improvement in model accuracy but did increase the processing time due to the t-SNE transformation. The choice to use t-SNE should consider the trade-off between time and potential visualization benefits."
      ],
      "metadata": {
        "id": "QnioX9MoG_nM"
      }
    }
  ]
}