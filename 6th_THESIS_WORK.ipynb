{
  "cells": [
    {
      "cell_type": "code",
      "execution_count": null,
      "metadata": {
        "colab": {
          "background_save": true
        },
        "id": "8Ax6G-M1gxjz"
      },
      "outputs": [],
      "source": [
        "import numpy as np\n",
        "import matplotlib.pyplot as plt\n",
        "import pandas as pd"
      ]
    },
    {
      "cell_type": "code",
      "execution_count": null,
      "metadata": {
        "colab": {
          "background_save": true
        },
        "id": "3F4SBxe6VtmF"
      },
      "outputs": [],
      "source": [
        "from sklearn.preprocessing import StandardScaler\n",
        "import matplotlib.pyplot as plt\n",
        "from sklearn.linear_model import LogisticRegression\n",
        "from sklearn.model_selection import cross_val_score\n",
        "from sklearn import preprocessing\n",
        "from sklearn import feature_selection\n",
        "from sklearn.feature_selection import SelectKBest, chi2\n",
        "from sklearn.ensemble import RandomForestClassifier\n",
        "from sklearn.feature_selection import RFE\n",
        "from sklearn.model_selection import train_test_split\n",
        "from sklearn.preprocessing import MinMaxScaler\n",
        "from sklearn.ensemble import ExtraTreesClassifier\n",
        "from sklearn.feature_selection import SelectFromModel\n",
        "import seaborn as sns"
      ]
    },
    {
      "cell_type": "code",
      "execution_count": null,
      "metadata": {
        "id": "VrAkhK3l8y7k"
      },
      "outputs": [],
      "source": [
        "from google.colab import drive\n",
        "drive.mount('/content/drive')"
      ]
    },
    {
      "cell_type": "code",
      "execution_count": null,
      "metadata": {
        "id": "JPe4pXR59OPU"
      },
      "outputs": [],
      "source": [
        "dataset = pd.read_csv('/content/drive/MyDrive/AI_Project/weatherAUS.csv')"
      ]
    },
    {
      "cell_type": "code",
      "execution_count": null,
      "metadata": {
        "id": "ojOxuRXlUtwH"
      },
      "outputs": [],
      "source": [
        "dataset\n"
      ]
    },
    {
      "cell_type": "code",
      "execution_count": null,
      "metadata": {
        "id": "emT-g22M5Ge3"
      },
      "outputs": [],
      "source": [
        "dataset.info()"
      ]
    },
    {
      "cell_type": "markdown",
      "metadata": {
        "id": "o1qAY7hnYa1K"
      },
      "source": [
        "Remove features with missing values"
      ]
    },
    {
      "cell_type": "code",
      "execution_count": null,
      "metadata": {
        "id": "VCG0jdLFYJ-C"
      },
      "outputs": [],
      "source": [
        "# check missing values\n",
        "dataset.isnull().any().any()"
      ]
    },
    {
      "cell_type": "code",
      "execution_count": null,
      "metadata": {
        "id": "JUFn6oJQWcKo"
      },
      "outputs": [],
      "source": [
        "label_encoder = preprocessing.LabelEncoder()\n",
        "dataset['Date']= label_encoder.fit_transform(dataset['Date'])\n",
        "dataset['Location']= label_encoder.fit_transform(dataset['Location'])\n",
        "dataset['WindGustDir']= label_encoder.fit_transform(dataset['WindGustDir'])\n",
        "dataset['WindDir9am']= label_encoder.fit_transform(dataset['WindDir9am'])\n",
        "dataset['WindDir3pm']= label_encoder.fit_transform(dataset['WindDir3pm'])\n",
        "dataset['RainToday']= label_encoder.fit_transform(dataset['RainToday'])\n",
        "dataset['RainTomorrow']= label_encoder.fit_transform(dataset['RainTomorrow'])"
      ]
    },
    {
      "cell_type": "code",
      "execution_count": null,
      "metadata": {
        "id": "I_NODREsWvbj"
      },
      "outputs": [],
      "source": [
        "dataset"
      ]
    },
    {
      "cell_type": "markdown",
      "metadata": {
        "id": "y2U8kUV07t1a"
      },
      "source": [
        "Deal With missing **values**"
      ]
    },
    {
      "cell_type": "code",
      "execution_count": null,
      "metadata": {
        "colab": {
          "background_save": true
        },
        "id": "NOjgrjNh7q-K"
      },
      "outputs": [],
      "source": [
        "from sklearn.impute import SimpleImputer\n",
        "\n",
        "# Numerical Features\n",
        "numerical_features = ['MinTemp', 'MaxTemp', 'Rainfall', 'Evaporation', 'Sunshine', 'WindGustSpeed', 'WindSpeed9am', 'WindSpeed3pm',\n",
        "                      'Humidity9am', 'Humidity3pm', 'Pressure9am', 'Pressure3pm', 'Temp9am', 'Cloud9am' ,'Cloud3pm', 'Temp3pm']\n",
        "\n",
        "# Impute missing values in numerical features with the mean\n",
        "imputer = SimpleImputer(strategy='mean')\n",
        "dataset[numerical_features] = imputer.fit_transform(dataset[numerical_features])\n",
        "\n",
        "# Categorical Features\n",
        "categorical_features = ['Location', 'WindGustDir', 'WindDir9am', 'WindDir3pm']\n",
        "\n",
        "# Impute missing values in categorical features with the most frequent category (mode)\n",
        "imputer = SimpleImputer(strategy='most_frequent')\n",
        "dataset[categorical_features] = imputer.fit_transform(dataset[categorical_features])\n",
        "\n",
        "# Binary Features (RainToday and RainTomorrow)\n",
        "binary_features = ['RainToday', 'RainTomorrow']\n",
        "\n",
        "# Impute missing values in binary features with the most frequent category (0 or 1)\n",
        "imputer = SimpleImputer(strategy='most_frequent')\n",
        "dataset[binary_features] = imputer.fit_transform(dataset[binary_features])\n"
      ]
    },
    {
      "cell_type": "code",
      "execution_count": null,
      "metadata": {
        "id": "7fE3VP5hx68u"
      },
      "outputs": [],
      "source": [
        "dataset.info()"
      ]
    },
    {
      "cell_type": "code",
      "execution_count": null,
      "metadata": {
        "id": "NDUh1HtHOhnu"
      },
      "outputs": [],
      "source": [
        "X = dataset.loc[:,dataset.columns != 'RainTomorrow']\n",
        "y = dataset['RainTomorrow']"
      ]
    },
    {
      "cell_type": "code",
      "execution_count": null,
      "metadata": {
        "id": "9SC30dnAzlOh"
      },
      "outputs": [],
      "source": [
        "dataset.corr()"
      ]
    },
    {
      "cell_type": "code",
      "execution_count": null,
      "metadata": {
        "id": "nZkbg_uUzHBV"
      },
      "outputs": [],
      "source": [
        "corrmat=dataset.corr()\n",
        "f,ax=plt.subplots(figsize=(15,15))\n",
        "sns.heatmap(corrmat,ax=ax,cmap=\"Reds\",linewidth=0.5,annot=True)"
      ]
    },
    {
      "cell_type": "code",
      "execution_count": null,
      "metadata": {
        "id": "WSik-lvqzqtL"
      },
      "outputs": [],
      "source": [
        "dataset.info()"
      ]
    },
    {
      "cell_type": "code",
      "execution_count": null,
      "metadata": {
        "id": "fUM7Ri0_7xd0"
      },
      "outputs": [],
      "source": [
        "dataset.info"
      ]
    },
    {
      "cell_type": "code",
      "execution_count": null,
      "metadata": {
        "id": "B795K1Q7OOAe"
      },
      "outputs": [],
      "source": [
        "#split target and attribute\n",
        "x = dataset.iloc[:,0:10]\n",
        "y = dataset.iloc[:,10]\n",
        "\n",
        "#split train n test dataset\n",
        "X_train, X_test, y_train, y_test = train_test_split(x,y, random_state=0, test_size=0.2)\n",
        "print(len(y_test))\n",
        "print(len(X_train))\n",
        "print(len(dataset))\n",
        "\n",
        "print(x)\n",
        "print(y)"
      ]
    },
    {
      "cell_type": "markdown",
      "metadata": {
        "id": "x3ouHlayPRI2"
      },
      "source": [
        "Normalization"
      ]
    },
    {
      "cell_type": "code",
      "execution_count": null,
      "metadata": {
        "id": "Pij6ZKs2PQEv"
      },
      "outputs": [],
      "source": [
        "scaler = MinMaxScaler(feature_range=(0,1))\n",
        "X_train = scaler.fit_transform(X_train)\n",
        "X_test  = scaler.transform(X_test)"
      ]
    },
    {
      "cell_type": "code",
      "execution_count": null,
      "metadata": {
        "id": "wgZMAmk50-Oi"
      },
      "outputs": [],
      "source": [
        "dataset.info()"
      ]
    },
    {
      "cell_type": "markdown",
      "metadata": {
        "id": "9wsuVelVYejo"
      },
      "source": [
        "Remove features with low variance"
      ]
    },
    {
      "cell_type": "code",
      "execution_count": null,
      "metadata": {
        "id": "0WqyhOFMYgbA"
      },
      "outputs": [],
      "source": [
        "sel = feature_selection.VarianceThreshold()\n",
        "train_variance_x = sel.fit_transform(X_train)\n",
        "test_variance_x = sel.fit_transform(X_test)\n",
        "train_variance_x.shape"
      ]
    },
    {
      "cell_type": "code",
      "execution_count": null,
      "metadata": {
        "id": "qb7AV_dnQlud"
      },
      "outputs": [],
      "source": [
        "test_variance_x.shape"
      ]
    },
    {
      "cell_type": "markdown",
      "metadata": {
        "id": "BR_7m5tF8JQr"
      },
      "source": [
        "Univariate feature selection"
      ]
    },
    {
      "cell_type": "code",
      "execution_count": null,
      "metadata": {
        "id": "JSaE91Mu8KNg"
      },
      "outputs": [],
      "source": [
        "scaler = MinMaxScaler()\n",
        "X_train_scaled = scaler.fit_transform(X_train)\n",
        "\n",
        "bestfeatures = SelectKBest(score_func=chi2, k=5)\n",
        "select = bestfeatures.fit(X_train_scaled, y_train)\n",
        "X_train_selected = select.transform(X_train_scaled)\n",
        "\n",
        "print(\"X_train.shape: {}\".format(X_train.shape))\n",
        "print(\"X_train_selected.shape: {}\".format(X_train_selected.shape))"
      ]
    },
    {
      "cell_type": "markdown",
      "metadata": {
        "id": "LgJrNqISGwqr"
      },
      "source": [
        "Which feature we have choose"
      ]
    },
    {
      "cell_type": "code",
      "execution_count": null,
      "metadata": {
        "id": "6FSVo9VT9gNt"
      },
      "outputs": [],
      "source": [
        "mask= select.get_support()\n",
        "mask"
      ]
    },
    {
      "cell_type": "markdown",
      "metadata": {
        "id": "PI7qxP2GG5Pk"
      },
      "source": [
        "lets plot the features we selected and compare them to the features we've ignored"
      ]
    },
    {
      "cell_type": "code",
      "execution_count": null,
      "metadata": {
        "id": "lTC73-LGGswU"
      },
      "outputs": [],
      "source": [
        "# Define the colormap (e.g., 'gray_r')\n",
        "cmap = 'gray_r'\n",
        "# Assuming 'mask' is already defined\n",
        "plt.matshow(mask.reshape(1, -1), cmap=cmap)  # Note the correct syntax: cmap=cmap\n",
        "plt.xlabel(\"sample index\")\n",
        "plt.yticks(())\n"
      ]
    },
    {
      "cell_type": "markdown",
      "metadata": {
        "id": "9SFgwhTvC0SX"
      },
      "source": [
        "Recursive feature elimination"
      ]
    },
    {
      "cell_type": "code",
      "execution_count": null,
      "metadata": {
        "id": "NGbp5hsYC2L8"
      },
      "outputs": [],
      "source": [
        "rfc = RandomForestClassifier(n_estimators=100, random_state=0)  # You can adjust the parameters as needed\n",
        "# Feature extraction using RFE with the RandomForestClassifier\n",
        "rfe = RFE(rfc, n_features_to_select=100)\n",
        "\n",
        "# Fit on the train set\n",
        "fit = rfe.fit(X_train, y_train)\n",
        "\n",
        "# Transform the train set based on selected features\n",
        "recursive_features = fit.transform(X_train)\n"
      ]
    },
    {
      "cell_type": "markdown",
      "metadata": {
        "id": "pzU_Y2P4IfBX"
      },
      "source": [
        "now finally to prove that the feature selection have positive impact on our mode accuracy Let's compare the accuracy between a model has fitted all the feature and one has fitted only the selected ones"
      ]
    },
    {
      "cell_type": "code",
      "execution_count": null,
      "metadata": {
        "id": "_cpT6iMtIxCN"
      },
      "outputs": [],
      "source": [
        "X_test_selected = select.transform(X_test)\n",
        "\n",
        "model = RandomForestClassifier(n_estimators=100, random_state=42)\n",
        "\n",
        "model.fit(X_train, y_train)\n",
        "print(\"Score with all features: {:.3f}\".format(model.score(X_test, y_test)))\n",
        "\n",
        "model.fit(X_train_selected, y_train)\n",
        "print(\"Score with selected features: {:.3f}\".format(model.score(X_test_selected, y_test)))"
      ]
    },
    {
      "cell_type": "markdown",
      "metadata": {
        "id": "wnY2WceVSFPC"
      },
      "source": [
        "**Feature Importance**"
      ]
    },
    {
      "cell_type": "markdown",
      "metadata": {
        "id": "wFpOc7MxTkX4"
      },
      "source": [
        "Feature importance gives you a score for each feature of your data, the higher the score more important or relevant is the feature towards your output variable.\n",
        "You sent\n",
        "Feature importance is an inbuilt class that comes with Tree Based Classifiers"
      ]
    },
    {
      "cell_type": "code",
      "execution_count": null,
      "metadata": {
        "id": "aHDVwsVlSG5k"
      },
      "outputs": [],
      "source": [
        "model = ExtraTreesClassifier()\n",
        "model.fit(X_train,y_train)\n",
        "model.feature_importances_"
      ]
    },
    {
      "cell_type": "code",
      "execution_count": null,
      "metadata": {
        "id": "VcNMkNcQSPFo"
      },
      "outputs": [],
      "source": [
        "feat_importances = pd.Series(model.feature_importances_)\n",
        "feat_importances.nlargest(5).plot(kind='barh')\n",
        "plt.show()"
      ]
    },
    {
      "cell_type": "markdown",
      "metadata": {
        "id": "G06rlEdSUJ07"
      },
      "source": [
        "we see that the features 11,9,3 has the higest importaznce among all the features we have & that's important because now we have a clear idea of what features to keep and what features to eliminate."
      ]
    },
    {
      "cell_type": "markdown",
      "metadata": {
        "id": "zNcaF5aLUlHb"
      },
      "source": [
        "**Model-Based Feature Selection**"
      ]
    },
    {
      "cell_type": "markdown",
      "metadata": {
        "id": "vTwNt3M2Uw2g"
      },
      "source": [
        " here when we use this meta transformer , we have to specify which model we want to use. For this we are going to use Random Forest and the threshol value to use for feature selection which defines which features should be kept"
      ]
    },
    {
      "cell_type": "code",
      "execution_count": null,
      "metadata": {
        "colab": {
          "background_save": true
        },
        "id": "6LYB49HsVdFG"
      },
      "outputs": [],
      "source": [
        "select = SelectFromModel(RandomForestClassifier(n_estimators=100, random_state=50), threshold='median')\n",
        "\n",
        "# Fit the feature selector on the training data\n",
        "select.fit(X_train, y_train)\n",
        "\n",
        "# Transform both the training and test data to select the important features\n",
        "X_train_selected = select.transform(X_train)\n",
        "X_test_selected = select.transform(X_test)"
      ]
    },
    {
      "cell_type": "code",
      "execution_count": null,
      "metadata": {
        "colab": {
          "background_save": true
        },
        "id": "oQOazUYHVtQ5"
      },
      "outputs": [],
      "source": [
        "mask = select.get_support()\n",
        "\n",
        "plt.matshow(mask.reshape(1,-1),cmap=\"gray_r\")\n",
        "plt.xlabel(\"Sample index\")\n",
        "plt.yticks(())\n",
        "plt.show()"
      ]
    },
    {
      "cell_type": "code",
      "execution_count": null,
      "metadata": {
        "colab": {
          "background_save": true
        },
        "id": "ojjzRGa6Vw_0"
      },
      "outputs": [],
      "source": [
        "X_test_selected = select.transform(X_test)\n",
        "\n",
        "model = RandomForestClassifier(n_estimators=100,random_state=42)\n",
        "\n",
        "model.fit(X_train,y_train)\n",
        "print(\"Score with all features: {:.3f}\".format(model.score(X_test,y_test)))\n",
        "\n",
        "model.fit(X_train_selected,y_train)\n",
        "print(\"Score with selected features: {:.3f}\".format(model.score(X_test_selected,y_test)))"
      ]
    },
    {
      "cell_type": "markdown",
      "metadata": {
        "id": "eCexgeOcr8Zj"
      },
      "source": [
        "Recursive Feature Eleimination"
      ]
    },
    {
      "cell_type": "code",
      "execution_count": null,
      "metadata": {
        "colab": {
          "background_save": true
        },
        "id": "-EZ5V70cr9Fr"
      },
      "outputs": [],
      "source": [
        "from sklearn.feature_selection import RFE\n",
        "\n",
        "select = RFE(RandomForestClassifier(n_estimators=100,random_state=42),n_features_to_select=6)\n",
        "select.fit(X_train,y_train)\n",
        "X_train_selected = select.transform(X_train)\n",
        "\n",
        "print(\"X_train.shape: {}\".format(X_train.shape))\n",
        "print(\"X_train_selected.shape: {}\".format(X_train_selected.shape))"
      ]
    },
    {
      "cell_type": "code",
      "execution_count": null,
      "metadata": {
        "colab": {
          "background_save": true
        },
        "id": "bESNzwMIr_eA"
      },
      "outputs": [],
      "source": [
        "mask = select.get_support()\n",
        "plt.matshow(mask.reshape(1,-1),cmap='gray_r')\n",
        "plt.xlabel(\"Sample index\")\n",
        "plt.yticks(())\n",
        "plt.show()"
      ]
    },
    {
      "cell_type": "code",
      "execution_count": null,
      "metadata": {
        "colab": {
          "background_save": true
        },
        "id": "vtJS7_70sBxw"
      },
      "outputs": [],
      "source": [
        "X_test_selected = select.transform(X_test)\n",
        "\n",
        "model.fit(X_train,y_train)\n",
        "print(\"Scoree with all features: {:,.3f}\".format(model.score(X_test,y_test)))\n",
        "\n",
        "model.fit(X_train_selected,y_train)\n",
        "print(\"Scoree with selected features: {:,.3f}\".format(model.score(X_test_selected,y_test)))"
      ]
    }
  ],
  "metadata": {
    "colab": {
      "provenance": []
    },
    "kernelspec": {
      "display_name": "Python 3",
      "name": "python3"
    },
    "language_info": {
      "name": "python"
    }
  },
  "nbformat": 4,
  "nbformat_minor": 0
}