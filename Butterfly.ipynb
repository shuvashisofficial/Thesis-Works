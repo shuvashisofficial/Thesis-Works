{
  "nbformat": 4,
  "nbformat_minor": 0,
  "metadata": {
    "colab": {
      "provenance": []
    },
    "kernelspec": {
      "name": "python3",
      "display_name": "Python 3"
    },
    "language_info": {
      "name": "python"
    }
  },
  "cells": [
    {
      "cell_type": "markdown",
      "source": [
        "The Butterfly Optimization Algorithm is a nature-inspired optimization algorithm that mimics the social behavior of butterflies. It can be applied to various optimization problems, including machine learning tasks such as feature selection and hyperparameter tuning. If you want to use the Butterfly Optimization Algorithm on the Cleveland Heart Disease dataset, you can follow these general steps:"
      ],
      "metadata": {
        "id": "zPGJyiFqGaD3"
      }
    },
    {
      "cell_type": "markdown",
      "source": [
        "## 1)Import necessary libraries and load the dataset:"
      ],
      "metadata": {
        "id": "ohOl_PfBGdDZ"
      }
    },
    {
      "cell_type": "code",
      "execution_count": null,
      "metadata": {
        "id": "NPq7RV5UGVtR"
      },
      "outputs": [],
      "source": [
        "import numpy as np\n",
        "import pandas as pd\n",
        "from sklearn.model_selection import train_test_split\n",
        "from sklearn.ensemble import RandomForestClassifier\n",
        "from sklearn.metrics import accuracy_score\n",
        "# Load the Cleveland Heart Disease dataset\n",
        "url = \"https://archive.ics.uci.edu/ml/machine-learning-databases/heart-disease/processed.cleveland.data\"\n",
        "column_names = [\n",
        "    \"age\", \"sex\", \"cp\", \"trestbps\", \"chol\", \"fbs\", \"restecg\", \"thalach\", \"exang\",\n",
        "    \"oldpeak\", \"slope\", \"ca\", \"thal\", \"target\"\n",
        "]\n",
        "heart_data = pd.read_csv(url, header=None, names=column_names, na_values=\"?\")\n",
        "heart_data = heart_data.dropna()\n",
        "\n",
        "# Separate features and target variable\n",
        "X = heart_data.drop(\"target\", axis=1)\n",
        "y = heart_data[\"target\"]\n",
        "\n",
        "# Split the data into training and testing sets\n",
        "X_train, X_test, y_train, y_test = train_test_split(X, y, test_size=0.2, random_state=42)\n"
      ]
    },
    {
      "cell_type": "code",
      "source": [
        "from sklearn.preprocessing import StandardScaler\n",
        "# Normalize the data\n",
        "scaler = StandardScaler()\n",
        "X_normalized = scaler.fit_transform(X)"
      ],
      "metadata": {
        "id": "EdxTHPloJEQb"
      },
      "execution_count": null,
      "outputs": []
    },
    {
      "cell_type": "code",
      "source": [
        "# Split the data into training and testing sets\n",
        "X_train, X_test, y_train, y_test = train_test_split(X_normalized, y, test_size=0.2, random_state=42)"
      ],
      "metadata": {
        "id": "J3QeWR30JOsf"
      },
      "execution_count": null,
      "outputs": []
    },
    {
      "cell_type": "markdown",
      "source": [
        "### 2. Define the fitness function:"
      ],
      "metadata": {
        "id": "wvHDZIs7Gi3-"
      }
    },
    {
      "cell_type": "markdown",
      "source": [
        "In this example, the fitness function is the accuracy of a Random Forest Classifier on the selected features."
      ],
      "metadata": {
        "id": "LtBt8ttDGl_M"
      }
    },
    {
      "cell_type": "code",
      "source": [
        "# Define the objective function for BOA\n",
        "def boa_objective_function(weights):\n",
        "    # Initialize BPNN with weights\n",
        "    bpnn = MLPClassifier(hidden_layer_sizes=(10,), max_iter=1000, random_state=42)\n",
        "    bpnn.coefs_ = weights.reshape(bpnn.coefs_[0].shape)  # Reshape weights to match the neural network structure\n",
        "\n",
        "    # Train the BPNN\n",
        "    bpnn.fit(X_train, y_train)\n",
        "\n",
        "    # Make predictions on the test set\n",
        "    y_pred = bpnn.predict(X_test)\n",
        "\n",
        "    # Calculate accuracy (you can replace this with your desired performance metric)\n",
        "    accuracy = accuracy_score(y_test, y_pred)\n",
        "\n",
        "    # Since BOA tries to minimize the objective function, we negate accuracy\n",
        "    return -accuracy\n",
        "\n",
        "# Butterfly Optimization Algorithm\n",
        "def butterfly_optimization_algorithm(objective_function, dim, population_size, max_iterations):\n",
        "    # ... (Same BOA code as before)\n",
        "\n",
        "# Set the dimensions for the optimization (number of weights in the neural network)\n",
        "population_size = 20\n",
        "max_iterations = 50\n",
        "\n",
        "# Run BOA to optimize neural network weights\n",
        "best_weights = butterfly_optimization_algorithm(boa_objective_function, dim=num_weights, population_size=population_size, max_iterations=max_iterations)\n",
        "\n",
        "# Print the best weights found by BOA\n",
        "print(\"Best Weights:\", best_weights)"
      ],
      "metadata": {
        "id": "HvdXo7BdGnCX"
      },
      "execution_count": null,
      "outputs": []
    },
    {
      "cell_type": "markdown",
      "source": [
        "Note: Ensure you have the Butterfly Optimization library installed (butterfly_optimization). You can install it using:"
      ],
      "metadata": {
        "id": "PkG4Dk2HG1XX"
      }
    },
    {
      "cell_type": "code",
      "source": [
        "pip install butterfly-optimization"
      ],
      "metadata": {
        "id": "EmtHV6hDG2m2"
      },
      "execution_count": null,
      "outputs": []
    },
    {
      "cell_type": "markdown",
      "source": [
        "## 3) Apply Butterfly Optimization:"
      ],
      "metadata": {
        "id": "fxpYOXWvGo3K"
      }
    },
    {
      "cell_type": "code",
      "source": [
        "# Define the number of butterflies and the maximum number of iterations\n",
        "num_butterflies = 20\n",
        "max_iterations = 50\n",
        "\n",
        "# Create an instance of the ButterflyOptimization class\n",
        "bo = ButterflyOptimization(fitness_function, num_variables=X.shape[1], num_butterflies=num_butterflies)\n",
        "\n",
        "# Run the optimization\n",
        "best_solution, _ = bo.run(max_iterations)\n",
        "\n",
        "# Extract the selected features from the best solution\n",
        "selected_features = np.where(best_solution > 0.5)[0]\n",
        "\n",
        "# Print the selected features and their importance scores\n",
        "print(\"Selected Features:\", selected_features)\n",
        "print(\"Best Solution:\", best_solution[selected_features])\n"
      ],
      "metadata": {
        "id": "7JfG3TuwGx6H"
      },
      "execution_count": null,
      "outputs": []
    },
    {
      "cell_type": "code",
      "source": [
        "import numpy as np\n",
        "from sklearn.model_selection import train_test_split\n",
        "from sklearn.ensemble import RandomForestClassifier\n",
        "from sklearn.metrics import accuracy_score, precision_score, recall_score, f1_score\n",
        "from sklearn.datasets import load_breast_cancer\n",
        "\n",
        "def initialize_population(population_size, dimension):\n",
        "    return np.random.rand(population_size, dimension)\n",
        "\n",
        "def butterfly_optimization_algorithm(objective_function, population_size, dimension, iterations, alpha=0.5, beta=0.1):\n",
        "    # Initialize population\n",
        "    population = initialize_population(population_size, dimension)\n",
        "\n",
        "    for iteration in range(iterations):\n",
        "        # Evaluate fitness for each butterfly\n",
        "        fitness_values = np.array([objective_function(individual) for individual in population])\n",
        "\n",
        "        # Find the index of the best butterfly (minimization problem)\n",
        "        best_index = np.argmin(fitness_values)\n",
        "        best_butterfly = population[best_index]\n",
        "\n",
        "        # Update position of each butterfly\n",
        "        for i in range(population_size):\n",
        "            if i != best_index:\n",
        "                r1, r2 = np.random.rand(), np.random.rand()\n",
        "                population[i] = population[i] + alpha * (best_butterfly - population[i]) + beta * (r1 - r2)\n",
        "\n",
        "        # Clip positions to ensure they are within the search space\n",
        "        population = np.clip(population, 0, 1)\n",
        "\n",
        "    # Return the best solution found\n",
        "    best_fitness = objective_function(best_butterfly)\n",
        "    return best_butterfly, best_fitness\n",
        "\n",
        "def objective_function(params):\n",
        "    # Extract hyperparameters from the individual\n",
        "    n_estimators = int(params[0] * 100)\n",
        "    max_depth = int(params[1] * 10) + 1  # Adjusted to ensure max_depth is at least 1\n",
        "\n",
        "    # Split the data\n",
        "    X_train, X_test, y_train, y_test = train_test_split(X, y, test_size=0.2, random_state=42)\n",
        "\n",
        "    # Train a Random Forest Classifier\n",
        "    clf = RandomForestClassifier(n_estimators=n_estimators, max_depth=max_depth, random_state=42)\n",
        "    clf.fit(X_train, y_train)\n",
        "\n",
        "    # Make predictions on the test set\n",
        "    y_pred = clf.predict(X_test)\n",
        "\n",
        "    # Evaluate the model using F1 score (you can choose other metrics)\n",
        "    f1 = f1_score(y_test, y_pred)\n",
        "\n",
        "    # Since we want to maximize the F1 score, return its negative value\n",
        "    return -f1\n",
        "\n",
        "# Load the Cleveland Heart Disease dataset\n",
        "data = load_breast_cancer()\n",
        "X = data.data  # Features\n",
        "y = data.target  # Target\n",
        "\n",
        "# Optimization parameters\n",
        "population_size = 20\n",
        "dimension = 2\n",
        "iterations = 100\n",
        "alpha = 0.5\n",
        "beta = 0.1\n",
        "\n",
        "# Run Butterfly Optimization Algorithm\n",
        "best_solution, best_fitness = butterfly_optimization_algorithm(\n",
        "    objective_function, population_size, dimension, iterations, alpha, beta\n",
        ")\n",
        "\n",
        "# Extract the best hyperparameters\n",
        "best_n_estimators = int(best_solution[0] * 100)\n",
        "best_max_depth = int(best_solution[1] * 10) + 1  # Adjusted to ensure max_depth is at least 1\n",
        "\n",
        "# Train a model with the best hyperparameters on the full dataset\n",
        "best_clf = RandomForestClassifier(n_estimators=best_n_estimators, max_depth=best_max_depth, random_state=42)\n",
        "best_clf.fit(X, y)\n",
        "\n",
        "# Make predictions on the entire dataset\n",
        "y_pred = best_clf.predict(X)\n",
        "\n",
        "# Evaluate the model's performance\n",
        "accuracy = accuracy_score(y, y_pred)\n",
        "precision = precision_score(y, y_pred)\n",
        "recall = recall_score(y, y_pred)\n",
        "f1 = f1_score(y, y_pred)\n",
        "\n",
        "# Display results\n",
        "print(\"Best Hyperparameters:\")\n",
        "print(\"Number of Estimators:\", best_n_estimators)\n",
        "print(\"Max Depth:\", best_max_depth)\n",
        "print(\"\\nPerformance Metrics:\")\n",
        "print(\"Accuracy:\", accuracy)\n",
        "print(\"Precision:\", precision)\n",
        "print(\"Recall:\", recall)\n",
        "print(\"F1 Score:\", f1)\n"
      ],
      "metadata": {
        "id": "ubWvl8n5OwfG"
      },
      "execution_count": null,
      "outputs": []
    }
  ]
}